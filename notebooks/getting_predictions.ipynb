{
 "cells": [
  {
   "cell_type": "markdown",
   "id": "aa18909f",
   "metadata": {
    "toc": true
   },
   "source": [
    "<h1>Table of Contents<span class=\"tocSkip\"></span></h1>\n",
    "<div class=\"toc\"><ul class=\"toc-item\"></ul></div>"
   ]
  },
  {
   "cell_type": "markdown",
   "id": "8e10e9e8",
   "metadata": {},
   "source": [
    "# Testing of define_model"
   ]
  },
  {
   "cell_type": "code",
   "execution_count": 1,
   "id": "acfe9989",
   "metadata": {},
   "outputs": [],
   "source": [
    "%load_ext autoreload\n",
    "%autoreload 2"
   ]
  },
  {
   "cell_type": "code",
   "execution_count": 2,
   "id": "4481cf99",
   "metadata": {
    "scrolled": true
   },
   "outputs": [
    {
     "name": "stderr",
     "output_type": "stream",
     "text": [
      "2022-10-21 11:22:47.030967: I tensorflow/core/platform/cpu_feature_guard.cc:193] This TensorFlow binary is optimized with oneAPI Deep Neural Network Library (oneDNN) to use the following CPU instructions in performance-critical operations:  AVX2 FMA\n",
      "To enable them in other operations, rebuild TensorFlow with the appropriate compiler flags.\n"
     ]
    }
   ],
   "source": [
    "import numpy as np\n",
    "import logging\n",
    "import tensorflow as tf\n",
    "\n",
    "from zoobot.tensorflow.estimators import define_model"
   ]
  },
  {
   "cell_type": "code",
   "execution_count": 3,
   "id": "03551cbc",
   "metadata": {},
   "outputs": [],
   "source": [
    "from zoobot.tensorflow.training import train_with_keras"
   ]
  },
  {
   "cell_type": "code",
   "execution_count": 6,
   "id": "b2a56d6d",
   "metadata": {},
   "outputs": [],
   "source": [
    "import argparse\n",
    "import os\n",
    "\n",
    "import wandb\n",
    "from sklearn.model_selection import train_test_split\n",
    "\n",
    "from pytorch_galaxy_datasets.prepared_datasets import decals_dr5_setup\n",
    "\n",
    "from zoobot.shared import label_metadata, schemas\n",
    "from zoobot.tensorflow.training import train_with_keras"
   ]
  },
  {
   "cell_type": "code",
   "execution_count": 7,
   "id": "dcb44585",
   "metadata": {},
   "outputs": [],
   "source": [
    "question_answer_pairs = label_metadata.decals_dr5_ortho_pairs  # dr5\n",
    "dependencies = label_metadata.decals_ortho_dependencies\n",
    "schema = schemas.Schema(question_answer_pairs, dependencies)\n",
    "logging.info('Schema: {}'.format(schema))\n",
    "\n",
    "data_dir = './zoo_data'\n",
    "\n",
    "# use the setup() methods in pytorch_galaxy_datasets.prepared_datasets to get the canonical (i.e. standard) train and test catalogs\n",
    "canonical_train_catalog, _ = decals_dr5_setup(root=data_dir, train=True, download=False)\n",
    "canonical_test_catalog, _ = decals_dr5_setup(root=data_dir, train=False, download=False)"
   ]
  },
  {
   "cell_type": "code",
   "execution_count": 8,
   "id": "9b03be2e",
   "metadata": {},
   "outputs": [],
   "source": [
    "checkpoint_path = './vit_2xgpu_lowadam/checkpoint'"
   ]
  },
  {
   "cell_type": "code",
   "execution_count": 9,
   "id": "bc4ed11f",
   "metadata": {},
   "outputs": [
    {
     "data": {
      "text/plain": [
       "['_CHECKPOINTABLE_OBJECT_GRAPH',\n",
       " 'layer_with_weights-0/_blocks/0/0/_block_attention/_k_proj/bias/.ATTRIBUTES/VARIABLE_VALUE',\n",
       " 'layer_with_weights-0/_blocks/0/0/_block_attention/_k_proj/bias/.OPTIMIZER_SLOT/optimizer/m/.ATTRIBUTES/VARIABLE_VALUE',\n",
       " 'layer_with_weights-0/_blocks/0/0/_block_attention/_k_proj/bias/.OPTIMIZER_SLOT/optimizer/v/.ATTRIBUTES/VARIABLE_VALUE',\n",
       " 'layer_with_weights-0/_blocks/0/0/_block_attention/_k_proj/weight/.ATTRIBUTES/VARIABLE_VALUE',\n",
       " 'layer_with_weights-0/_blocks/0/0/_block_attention/_k_proj/weight/.OPTIMIZER_SLOT/optimizer/m/.ATTRIBUTES/VARIABLE_VALUE',\n",
       " 'layer_with_weights-0/_blocks/0/0/_block_attention/_k_proj/weight/.OPTIMIZER_SLOT/optimizer/v/.ATTRIBUTES/VARIABLE_VALUE',\n",
       " 'layer_with_weights-0/_blocks/0/0/_block_attention/_o_proj/bias/.ATTRIBUTES/VARIABLE_VALUE',\n",
       " 'layer_with_weights-0/_blocks/0/0/_block_attention/_o_proj/bias/.OPTIMIZER_SLOT/optimizer/m/.ATTRIBUTES/VARIABLE_VALUE',\n",
       " 'layer_with_weights-0/_blocks/0/0/_block_attention/_o_proj/bias/.OPTIMIZER_SLOT/optimizer/v/.ATTRIBUTES/VARIABLE_VALUE',\n",
       " 'layer_with_weights-0/_blocks/0/0/_block_attention/_o_proj/weight/.ATTRIBUTES/VARIABLE_VALUE',\n",
       " 'layer_with_weights-0/_blocks/0/0/_block_attention/_o_proj/weight/.OPTIMIZER_SLOT/optimizer/m/.ATTRIBUTES/VARIABLE_VALUE',\n",
       " 'layer_with_weights-0/_blocks/0/0/_block_attention/_o_proj/weight/.OPTIMIZER_SLOT/optimizer/v/.ATTRIBUTES/VARIABLE_VALUE',\n",
       " 'layer_with_weights-0/_blocks/0/0/_block_attention/_q_proj/bias/.ATTRIBUTES/VARIABLE_VALUE',\n",
       " 'layer_with_weights-0/_blocks/0/0/_block_attention/_q_proj/bias/.OPTIMIZER_SLOT/optimizer/m/.ATTRIBUTES/VARIABLE_VALUE',\n",
       " 'layer_with_weights-0/_blocks/0/0/_block_attention/_q_proj/bias/.OPTIMIZER_SLOT/optimizer/v/.ATTRIBUTES/VARIABLE_VALUE',\n",
       " 'layer_with_weights-0/_blocks/0/0/_block_attention/_q_proj/weight/.ATTRIBUTES/VARIABLE_VALUE',\n",
       " 'layer_with_weights-0/_blocks/0/0/_block_attention/_q_proj/weight/.OPTIMIZER_SLOT/optimizer/m/.ATTRIBUTES/VARIABLE_VALUE',\n",
       " 'layer_with_weights-0/_blocks/0/0/_block_attention/_q_proj/weight/.OPTIMIZER_SLOT/optimizer/v/.ATTRIBUTES/VARIABLE_VALUE',\n",
       " 'layer_with_weights-0/_blocks/0/0/_block_attention/_v_proj/bias/.ATTRIBUTES/VARIABLE_VALUE',\n",
       " 'layer_with_weights-0/_blocks/0/0/_block_attention/_v_proj/bias/.OPTIMIZER_SLOT/optimizer/m/.ATTRIBUTES/VARIABLE_VALUE',\n",
       " 'layer_with_weights-0/_blocks/0/0/_block_attention/_v_proj/bias/.OPTIMIZER_SLOT/optimizer/v/.ATTRIBUTES/VARIABLE_VALUE',\n",
       " 'layer_with_weights-0/_blocks/0/0/_block_attention/_v_proj/weight/.ATTRIBUTES/VARIABLE_VALUE',\n",
       " 'layer_with_weights-0/_blocks/0/0/_block_attention/_v_proj/weight/.OPTIMIZER_SLOT/optimizer/m/.ATTRIBUTES/VARIABLE_VALUE',\n",
       " 'layer_with_weights-0/_blocks/0/0/_block_attention/_v_proj/weight/.OPTIMIZER_SLOT/optimizer/v/.ATTRIBUTES/VARIABLE_VALUE',\n",
       " 'layer_with_weights-0/_blocks/0/0/_block_attention/relative_bias/.ATTRIBUTES/VARIABLE_VALUE',\n",
       " 'layer_with_weights-0/_blocks/0/0/_block_attn_layer_norm/beta/.ATTRIBUTES/VARIABLE_VALUE',\n",
       " 'layer_with_weights-0/_blocks/0/0/_block_attn_layer_norm/beta/.OPTIMIZER_SLOT/optimizer/m/.ATTRIBUTES/VARIABLE_VALUE',\n",
       " 'layer_with_weights-0/_blocks/0/0/_block_attn_layer_norm/beta/.OPTIMIZER_SLOT/optimizer/v/.ATTRIBUTES/VARIABLE_VALUE',\n",
       " 'layer_with_weights-0/_blocks/0/0/_block_attn_layer_norm/gamma/.ATTRIBUTES/VARIABLE_VALUE',\n",
       " 'layer_with_weights-0/_blocks/0/0/_block_attn_layer_norm/gamma/.OPTIMIZER_SLOT/optimizer/m/.ATTRIBUTES/VARIABLE_VALUE',\n",
       " 'layer_with_weights-0/_blocks/0/0/_block_attn_layer_norm/gamma/.OPTIMIZER_SLOT/optimizer/v/.ATTRIBUTES/VARIABLE_VALUE',\n",
       " 'layer_with_weights-0/_blocks/0/0/_block_ffn/_expand_dense/bias/.ATTRIBUTES/VARIABLE_VALUE',\n",
       " 'layer_with_weights-0/_blocks/0/0/_block_ffn/_expand_dense/bias/.OPTIMIZER_SLOT/optimizer/m/.ATTRIBUTES/VARIABLE_VALUE',\n",
       " 'layer_with_weights-0/_blocks/0/0/_block_ffn/_expand_dense/bias/.OPTIMIZER_SLOT/optimizer/v/.ATTRIBUTES/VARIABLE_VALUE',\n",
       " 'layer_with_weights-0/_blocks/0/0/_block_ffn/_expand_dense/weight/.ATTRIBUTES/VARIABLE_VALUE',\n",
       " 'layer_with_weights-0/_blocks/0/0/_block_ffn/_expand_dense/weight/.OPTIMIZER_SLOT/optimizer/m/.ATTRIBUTES/VARIABLE_VALUE',\n",
       " 'layer_with_weights-0/_blocks/0/0/_block_ffn/_expand_dense/weight/.OPTIMIZER_SLOT/optimizer/v/.ATTRIBUTES/VARIABLE_VALUE',\n",
       " 'layer_with_weights-0/_blocks/0/0/_block_ffn/_shrink_dense/bias/.ATTRIBUTES/VARIABLE_VALUE',\n",
       " 'layer_with_weights-0/_blocks/0/0/_block_ffn/_shrink_dense/bias/.OPTIMIZER_SLOT/optimizer/m/.ATTRIBUTES/VARIABLE_VALUE',\n",
       " 'layer_with_weights-0/_blocks/0/0/_block_ffn/_shrink_dense/bias/.OPTIMIZER_SLOT/optimizer/v/.ATTRIBUTES/VARIABLE_VALUE',\n",
       " 'layer_with_weights-0/_blocks/0/0/_block_ffn/_shrink_dense/weight/.ATTRIBUTES/VARIABLE_VALUE',\n",
       " 'layer_with_weights-0/_blocks/0/0/_block_ffn/_shrink_dense/weight/.OPTIMIZER_SLOT/optimizer/m/.ATTRIBUTES/VARIABLE_VALUE',\n",
       " 'layer_with_weights-0/_blocks/0/0/_block_ffn/_shrink_dense/weight/.OPTIMIZER_SLOT/optimizer/v/.ATTRIBUTES/VARIABLE_VALUE',\n",
       " 'layer_with_weights-0/_blocks/0/0/_block_ffn_layer_norm/beta/.ATTRIBUTES/VARIABLE_VALUE',\n",
       " 'layer_with_weights-0/_blocks/0/0/_block_ffn_layer_norm/beta/.OPTIMIZER_SLOT/optimizer/m/.ATTRIBUTES/VARIABLE_VALUE',\n",
       " 'layer_with_weights-0/_blocks/0/0/_block_ffn_layer_norm/beta/.OPTIMIZER_SLOT/optimizer/v/.ATTRIBUTES/VARIABLE_VALUE',\n",
       " 'layer_with_weights-0/_blocks/0/0/_block_ffn_layer_norm/gamma/.ATTRIBUTES/VARIABLE_VALUE',\n",
       " 'layer_with_weights-0/_blocks/0/0/_block_ffn_layer_norm/gamma/.OPTIMIZER_SLOT/optimizer/m/.ATTRIBUTES/VARIABLE_VALUE',\n",
       " 'layer_with_weights-0/_blocks/0/0/_block_ffn_layer_norm/gamma/.OPTIMIZER_SLOT/optimizer/v/.ATTRIBUTES/VARIABLE_VALUE',\n",
       " 'layer_with_weights-0/_blocks/0/0/_grid_attention/_k_proj/bias/.ATTRIBUTES/VARIABLE_VALUE',\n",
       " 'layer_with_weights-0/_blocks/0/0/_grid_attention/_k_proj/bias/.OPTIMIZER_SLOT/optimizer/m/.ATTRIBUTES/VARIABLE_VALUE',\n",
       " 'layer_with_weights-0/_blocks/0/0/_grid_attention/_k_proj/bias/.OPTIMIZER_SLOT/optimizer/v/.ATTRIBUTES/VARIABLE_VALUE',\n",
       " 'layer_with_weights-0/_blocks/0/0/_grid_attention/_k_proj/weight/.ATTRIBUTES/VARIABLE_VALUE',\n",
       " 'layer_with_weights-0/_blocks/0/0/_grid_attention/_k_proj/weight/.OPTIMIZER_SLOT/optimizer/m/.ATTRIBUTES/VARIABLE_VALUE',\n",
       " 'layer_with_weights-0/_blocks/0/0/_grid_attention/_k_proj/weight/.OPTIMIZER_SLOT/optimizer/v/.ATTRIBUTES/VARIABLE_VALUE',\n",
       " 'layer_with_weights-0/_blocks/0/0/_grid_attention/_o_proj/bias/.ATTRIBUTES/VARIABLE_VALUE',\n",
       " 'layer_with_weights-0/_blocks/0/0/_grid_attention/_o_proj/bias/.OPTIMIZER_SLOT/optimizer/m/.ATTRIBUTES/VARIABLE_VALUE',\n",
       " 'layer_with_weights-0/_blocks/0/0/_grid_attention/_o_proj/bias/.OPTIMIZER_SLOT/optimizer/v/.ATTRIBUTES/VARIABLE_VALUE',\n",
       " 'layer_with_weights-0/_blocks/0/0/_grid_attention/_o_proj/weight/.ATTRIBUTES/VARIABLE_VALUE',\n",
       " 'layer_with_weights-0/_blocks/0/0/_grid_attention/_o_proj/weight/.OPTIMIZER_SLOT/optimizer/m/.ATTRIBUTES/VARIABLE_VALUE',\n",
       " 'layer_with_weights-0/_blocks/0/0/_grid_attention/_o_proj/weight/.OPTIMIZER_SLOT/optimizer/v/.ATTRIBUTES/VARIABLE_VALUE',\n",
       " 'layer_with_weights-0/_blocks/0/0/_grid_attention/_q_proj/bias/.ATTRIBUTES/VARIABLE_VALUE',\n",
       " 'layer_with_weights-0/_blocks/0/0/_grid_attention/_q_proj/bias/.OPTIMIZER_SLOT/optimizer/m/.ATTRIBUTES/VARIABLE_VALUE',\n",
       " 'layer_with_weights-0/_blocks/0/0/_grid_attention/_q_proj/bias/.OPTIMIZER_SLOT/optimizer/v/.ATTRIBUTES/VARIABLE_VALUE',\n",
       " 'layer_with_weights-0/_blocks/0/0/_grid_attention/_q_proj/weight/.ATTRIBUTES/VARIABLE_VALUE',\n",
       " 'layer_with_weights-0/_blocks/0/0/_grid_attention/_q_proj/weight/.OPTIMIZER_SLOT/optimizer/m/.ATTRIBUTES/VARIABLE_VALUE',\n",
       " 'layer_with_weights-0/_blocks/0/0/_grid_attention/_q_proj/weight/.OPTIMIZER_SLOT/optimizer/v/.ATTRIBUTES/VARIABLE_VALUE',\n",
       " 'layer_with_weights-0/_blocks/0/0/_grid_attention/_v_proj/bias/.ATTRIBUTES/VARIABLE_VALUE',\n",
       " 'layer_with_weights-0/_blocks/0/0/_grid_attention/_v_proj/bias/.OPTIMIZER_SLOT/optimizer/m/.ATTRIBUTES/VARIABLE_VALUE',\n",
       " 'layer_with_weights-0/_blocks/0/0/_grid_attention/_v_proj/bias/.OPTIMIZER_SLOT/optimizer/v/.ATTRIBUTES/VARIABLE_VALUE',\n",
       " 'layer_with_weights-0/_blocks/0/0/_grid_attention/_v_proj/weight/.ATTRIBUTES/VARIABLE_VALUE',\n",
       " 'layer_with_weights-0/_blocks/0/0/_grid_attention/_v_proj/weight/.OPTIMIZER_SLOT/optimizer/m/.ATTRIBUTES/VARIABLE_VALUE',\n",
       " 'layer_with_weights-0/_blocks/0/0/_grid_attention/_v_proj/weight/.OPTIMIZER_SLOT/optimizer/v/.ATTRIBUTES/VARIABLE_VALUE',\n",
       " 'layer_with_weights-0/_blocks/0/0/_grid_attention/relative_bias/.ATTRIBUTES/VARIABLE_VALUE',\n",
       " 'layer_with_weights-0/_blocks/0/0/_grid_attn_layer_norm/beta/.ATTRIBUTES/VARIABLE_VALUE',\n",
       " 'layer_with_weights-0/_blocks/0/0/_grid_attn_layer_norm/beta/.OPTIMIZER_SLOT/optimizer/m/.ATTRIBUTES/VARIABLE_VALUE',\n",
       " 'layer_with_weights-0/_blocks/0/0/_grid_attn_layer_norm/beta/.OPTIMIZER_SLOT/optimizer/v/.ATTRIBUTES/VARIABLE_VALUE',\n",
       " 'layer_with_weights-0/_blocks/0/0/_grid_attn_layer_norm/gamma/.ATTRIBUTES/VARIABLE_VALUE',\n",
       " 'layer_with_weights-0/_blocks/0/0/_grid_attn_layer_norm/gamma/.OPTIMIZER_SLOT/optimizer/m/.ATTRIBUTES/VARIABLE_VALUE',\n",
       " 'layer_with_weights-0/_blocks/0/0/_grid_attn_layer_norm/gamma/.OPTIMIZER_SLOT/optimizer/v/.ATTRIBUTES/VARIABLE_VALUE',\n",
       " 'layer_with_weights-0/_blocks/0/0/_grid_ffn/_expand_dense/bias/.ATTRIBUTES/VARIABLE_VALUE',\n",
       " 'layer_with_weights-0/_blocks/0/0/_grid_ffn/_expand_dense/bias/.OPTIMIZER_SLOT/optimizer/m/.ATTRIBUTES/VARIABLE_VALUE',\n",
       " 'layer_with_weights-0/_blocks/0/0/_grid_ffn/_expand_dense/bias/.OPTIMIZER_SLOT/optimizer/v/.ATTRIBUTES/VARIABLE_VALUE',\n",
       " 'layer_with_weights-0/_blocks/0/0/_grid_ffn/_expand_dense/weight/.ATTRIBUTES/VARIABLE_VALUE',\n",
       " 'layer_with_weights-0/_blocks/0/0/_grid_ffn/_expand_dense/weight/.OPTIMIZER_SLOT/optimizer/m/.ATTRIBUTES/VARIABLE_VALUE',\n",
       " 'layer_with_weights-0/_blocks/0/0/_grid_ffn/_expand_dense/weight/.OPTIMIZER_SLOT/optimizer/v/.ATTRIBUTES/VARIABLE_VALUE',\n",
       " 'layer_with_weights-0/_blocks/0/0/_grid_ffn/_shrink_dense/bias/.ATTRIBUTES/VARIABLE_VALUE',\n",
       " 'layer_with_weights-0/_blocks/0/0/_grid_ffn/_shrink_dense/bias/.OPTIMIZER_SLOT/optimizer/m/.ATTRIBUTES/VARIABLE_VALUE',\n",
       " 'layer_with_weights-0/_blocks/0/0/_grid_ffn/_shrink_dense/bias/.OPTIMIZER_SLOT/optimizer/v/.ATTRIBUTES/VARIABLE_VALUE',\n",
       " 'layer_with_weights-0/_blocks/0/0/_grid_ffn/_shrink_dense/weight/.ATTRIBUTES/VARIABLE_VALUE',\n",
       " 'layer_with_weights-0/_blocks/0/0/_grid_ffn/_shrink_dense/weight/.OPTIMIZER_SLOT/optimizer/m/.ATTRIBUTES/VARIABLE_VALUE',\n",
       " 'layer_with_weights-0/_blocks/0/0/_grid_ffn/_shrink_dense/weight/.OPTIMIZER_SLOT/optimizer/v/.ATTRIBUTES/VARIABLE_VALUE',\n",
       " 'layer_with_weights-0/_blocks/0/0/_grid_ffn_layer_norm/beta/.ATTRIBUTES/VARIABLE_VALUE',\n",
       " 'layer_with_weights-0/_blocks/0/0/_grid_ffn_layer_norm/beta/.OPTIMIZER_SLOT/optimizer/m/.ATTRIBUTES/VARIABLE_VALUE',\n",
       " 'layer_with_weights-0/_blocks/0/0/_grid_ffn_layer_norm/beta/.OPTIMIZER_SLOT/optimizer/v/.ATTRIBUTES/VARIABLE_VALUE',\n",
       " 'layer_with_weights-0/_blocks/0/0/_grid_ffn_layer_norm/gamma/.ATTRIBUTES/VARIABLE_VALUE',\n",
       " 'layer_with_weights-0/_blocks/0/0/_grid_ffn_layer_norm/gamma/.OPTIMIZER_SLOT/optimizer/m/.ATTRIBUTES/VARIABLE_VALUE',\n",
       " 'layer_with_weights-0/_blocks/0/0/_grid_ffn_layer_norm/gamma/.OPTIMIZER_SLOT/optimizer/v/.ATTRIBUTES/VARIABLE_VALUE',\n",
       " 'layer_with_weights-0/_blocks/0/0/_mbconv/_depthwise_conv/depthwise_kernel/.ATTRIBUTES/VARIABLE_VALUE',\n",
       " 'layer_with_weights-0/_blocks/0/0/_mbconv/_depthwise_conv/depthwise_kernel/.OPTIMIZER_SLOT/optimizer/m/.ATTRIBUTES/VARIABLE_VALUE',\n",
       " 'layer_with_weights-0/_blocks/0/0/_mbconv/_depthwise_conv/depthwise_kernel/.OPTIMIZER_SLOT/optimizer/v/.ATTRIBUTES/VARIABLE_VALUE',\n",
       " 'layer_with_weights-0/_blocks/0/0/_mbconv/_depthwise_norm/beta/.ATTRIBUTES/VARIABLE_VALUE',\n",
       " 'layer_with_weights-0/_blocks/0/0/_mbconv/_depthwise_norm/beta/.OPTIMIZER_SLOT/optimizer/m/.ATTRIBUTES/VARIABLE_VALUE',\n",
       " 'layer_with_weights-0/_blocks/0/0/_mbconv/_depthwise_norm/beta/.OPTIMIZER_SLOT/optimizer/v/.ATTRIBUTES/VARIABLE_VALUE',\n",
       " 'layer_with_weights-0/_blocks/0/0/_mbconv/_depthwise_norm/gamma/.ATTRIBUTES/VARIABLE_VALUE',\n",
       " 'layer_with_weights-0/_blocks/0/0/_mbconv/_depthwise_norm/gamma/.OPTIMIZER_SLOT/optimizer/m/.ATTRIBUTES/VARIABLE_VALUE',\n",
       " 'layer_with_weights-0/_blocks/0/0/_mbconv/_depthwise_norm/gamma/.OPTIMIZER_SLOT/optimizer/v/.ATTRIBUTES/VARIABLE_VALUE',\n",
       " 'layer_with_weights-0/_blocks/0/0/_mbconv/_depthwise_norm/moving_mean/.ATTRIBUTES/VARIABLE_VALUE',\n",
       " 'layer_with_weights-0/_blocks/0/0/_mbconv/_depthwise_norm/moving_variance/.ATTRIBUTES/VARIABLE_VALUE',\n",
       " 'layer_with_weights-0/_blocks/0/0/_mbconv/_expand_conv/kernel/.ATTRIBUTES/VARIABLE_VALUE',\n",
       " 'layer_with_weights-0/_blocks/0/0/_mbconv/_expand_conv/kernel/.OPTIMIZER_SLOT/optimizer/m/.ATTRIBUTES/VARIABLE_VALUE',\n",
       " 'layer_with_weights-0/_blocks/0/0/_mbconv/_expand_conv/kernel/.OPTIMIZER_SLOT/optimizer/v/.ATTRIBUTES/VARIABLE_VALUE',\n",
       " 'layer_with_weights-0/_blocks/0/0/_mbconv/_expand_norm/beta/.ATTRIBUTES/VARIABLE_VALUE',\n",
       " 'layer_with_weights-0/_blocks/0/0/_mbconv/_expand_norm/beta/.OPTIMIZER_SLOT/optimizer/m/.ATTRIBUTES/VARIABLE_VALUE',\n",
       " 'layer_with_weights-0/_blocks/0/0/_mbconv/_expand_norm/beta/.OPTIMIZER_SLOT/optimizer/v/.ATTRIBUTES/VARIABLE_VALUE',\n",
       " 'layer_with_weights-0/_blocks/0/0/_mbconv/_expand_norm/gamma/.ATTRIBUTES/VARIABLE_VALUE',\n",
       " 'layer_with_weights-0/_blocks/0/0/_mbconv/_expand_norm/gamma/.OPTIMIZER_SLOT/optimizer/m/.ATTRIBUTES/VARIABLE_VALUE',\n",
       " 'layer_with_weights-0/_blocks/0/0/_mbconv/_expand_norm/gamma/.OPTIMIZER_SLOT/optimizer/v/.ATTRIBUTES/VARIABLE_VALUE',\n",
       " 'layer_with_weights-0/_blocks/0/0/_mbconv/_expand_norm/moving_mean/.ATTRIBUTES/VARIABLE_VALUE',\n",
       " 'layer_with_weights-0/_blocks/0/0/_mbconv/_expand_norm/moving_variance/.ATTRIBUTES/VARIABLE_VALUE',\n",
       " 'layer_with_weights-0/_blocks/0/0/_mbconv/_pre_norm/beta/.ATTRIBUTES/VARIABLE_VALUE',\n",
       " 'layer_with_weights-0/_blocks/0/0/_mbconv/_pre_norm/beta/.OPTIMIZER_SLOT/optimizer/m/.ATTRIBUTES/VARIABLE_VALUE',\n",
       " 'layer_with_weights-0/_blocks/0/0/_mbconv/_pre_norm/beta/.OPTIMIZER_SLOT/optimizer/v/.ATTRIBUTES/VARIABLE_VALUE',\n",
       " 'layer_with_weights-0/_blocks/0/0/_mbconv/_pre_norm/gamma/.ATTRIBUTES/VARIABLE_VALUE',\n",
       " 'layer_with_weights-0/_blocks/0/0/_mbconv/_pre_norm/gamma/.OPTIMIZER_SLOT/optimizer/m/.ATTRIBUTES/VARIABLE_VALUE',\n",
       " 'layer_with_weights-0/_blocks/0/0/_mbconv/_pre_norm/gamma/.OPTIMIZER_SLOT/optimizer/v/.ATTRIBUTES/VARIABLE_VALUE',\n",
       " 'layer_with_weights-0/_blocks/0/0/_mbconv/_pre_norm/moving_mean/.ATTRIBUTES/VARIABLE_VALUE',\n",
       " 'layer_with_weights-0/_blocks/0/0/_mbconv/_pre_norm/moving_variance/.ATTRIBUTES/VARIABLE_VALUE',\n",
       " 'layer_with_weights-0/_blocks/0/0/_mbconv/_se/_se_expand/bias/.ATTRIBUTES/VARIABLE_VALUE',\n",
       " 'layer_with_weights-0/_blocks/0/0/_mbconv/_se/_se_expand/bias/.OPTIMIZER_SLOT/optimizer/m/.ATTRIBUTES/VARIABLE_VALUE',\n",
       " 'layer_with_weights-0/_blocks/0/0/_mbconv/_se/_se_expand/bias/.OPTIMIZER_SLOT/optimizer/v/.ATTRIBUTES/VARIABLE_VALUE',\n",
       " 'layer_with_weights-0/_blocks/0/0/_mbconv/_se/_se_expand/kernel/.ATTRIBUTES/VARIABLE_VALUE',\n",
       " 'layer_with_weights-0/_blocks/0/0/_mbconv/_se/_se_expand/kernel/.OPTIMIZER_SLOT/optimizer/m/.ATTRIBUTES/VARIABLE_VALUE',\n",
       " 'layer_with_weights-0/_blocks/0/0/_mbconv/_se/_se_expand/kernel/.OPTIMIZER_SLOT/optimizer/v/.ATTRIBUTES/VARIABLE_VALUE',\n",
       " 'layer_with_weights-0/_blocks/0/0/_mbconv/_se/_se_reduce/bias/.ATTRIBUTES/VARIABLE_VALUE',\n",
       " 'layer_with_weights-0/_blocks/0/0/_mbconv/_se/_se_reduce/bias/.OPTIMIZER_SLOT/optimizer/m/.ATTRIBUTES/VARIABLE_VALUE',\n",
       " 'layer_with_weights-0/_blocks/0/0/_mbconv/_se/_se_reduce/bias/.OPTIMIZER_SLOT/optimizer/v/.ATTRIBUTES/VARIABLE_VALUE',\n",
       " 'layer_with_weights-0/_blocks/0/0/_mbconv/_se/_se_reduce/kernel/.ATTRIBUTES/VARIABLE_VALUE',\n",
       " 'layer_with_weights-0/_blocks/0/0/_mbconv/_se/_se_reduce/kernel/.OPTIMIZER_SLOT/optimizer/m/.ATTRIBUTES/VARIABLE_VALUE',\n",
       " 'layer_with_weights-0/_blocks/0/0/_mbconv/_se/_se_reduce/kernel/.OPTIMIZER_SLOT/optimizer/v/.ATTRIBUTES/VARIABLE_VALUE',\n",
       " 'layer_with_weights-0/_blocks/0/0/_mbconv/_shrink_conv/bias/.ATTRIBUTES/VARIABLE_VALUE',\n",
       " 'layer_with_weights-0/_blocks/0/0/_mbconv/_shrink_conv/bias/.OPTIMIZER_SLOT/optimizer/m/.ATTRIBUTES/VARIABLE_VALUE',\n",
       " 'layer_with_weights-0/_blocks/0/0/_mbconv/_shrink_conv/bias/.OPTIMIZER_SLOT/optimizer/v/.ATTRIBUTES/VARIABLE_VALUE',\n",
       " 'layer_with_weights-0/_blocks/0/0/_mbconv/_shrink_conv/kernel/.ATTRIBUTES/VARIABLE_VALUE',\n",
       " 'layer_with_weights-0/_blocks/0/0/_mbconv/_shrink_conv/kernel/.OPTIMIZER_SLOT/optimizer/m/.ATTRIBUTES/VARIABLE_VALUE',\n",
       " 'layer_with_weights-0/_blocks/0/0/_mbconv/_shrink_conv/kernel/.OPTIMIZER_SLOT/optimizer/v/.ATTRIBUTES/VARIABLE_VALUE',\n",
       " 'layer_with_weights-0/_blocks/0/1/_block_attention/_k_proj/bias/.ATTRIBUTES/VARIABLE_VALUE',\n",
       " 'layer_with_weights-0/_blocks/0/1/_block_attention/_k_proj/bias/.OPTIMIZER_SLOT/optimizer/m/.ATTRIBUTES/VARIABLE_VALUE',\n",
       " 'layer_with_weights-0/_blocks/0/1/_block_attention/_k_proj/bias/.OPTIMIZER_SLOT/optimizer/v/.ATTRIBUTES/VARIABLE_VALUE',\n",
       " 'layer_with_weights-0/_blocks/0/1/_block_attention/_k_proj/weight/.ATTRIBUTES/VARIABLE_VALUE',\n",
       " 'layer_with_weights-0/_blocks/0/1/_block_attention/_k_proj/weight/.OPTIMIZER_SLOT/optimizer/m/.ATTRIBUTES/VARIABLE_VALUE',\n",
       " 'layer_with_weights-0/_blocks/0/1/_block_attention/_k_proj/weight/.OPTIMIZER_SLOT/optimizer/v/.ATTRIBUTES/VARIABLE_VALUE',\n",
       " 'layer_with_weights-0/_blocks/0/1/_block_attention/_o_proj/bias/.ATTRIBUTES/VARIABLE_VALUE',\n",
       " 'layer_with_weights-0/_blocks/0/1/_block_attention/_o_proj/bias/.OPTIMIZER_SLOT/optimizer/m/.ATTRIBUTES/VARIABLE_VALUE',\n",
       " 'layer_with_weights-0/_blocks/0/1/_block_attention/_o_proj/bias/.OPTIMIZER_SLOT/optimizer/v/.ATTRIBUTES/VARIABLE_VALUE',\n",
       " 'layer_with_weights-0/_blocks/0/1/_block_attention/_o_proj/weight/.ATTRIBUTES/VARIABLE_VALUE',\n",
       " 'layer_with_weights-0/_blocks/0/1/_block_attention/_o_proj/weight/.OPTIMIZER_SLOT/optimizer/m/.ATTRIBUTES/VARIABLE_VALUE',\n",
       " 'layer_with_weights-0/_blocks/0/1/_block_attention/_o_proj/weight/.OPTIMIZER_SLOT/optimizer/v/.ATTRIBUTES/VARIABLE_VALUE',\n",
       " 'layer_with_weights-0/_blocks/0/1/_block_attention/_q_proj/bias/.ATTRIBUTES/VARIABLE_VALUE',\n",
       " 'layer_with_weights-0/_blocks/0/1/_block_attention/_q_proj/bias/.OPTIMIZER_SLOT/optimizer/m/.ATTRIBUTES/VARIABLE_VALUE',\n",
       " 'layer_with_weights-0/_blocks/0/1/_block_attention/_q_proj/bias/.OPTIMIZER_SLOT/optimizer/v/.ATTRIBUTES/VARIABLE_VALUE',\n",
       " 'layer_with_weights-0/_blocks/0/1/_block_attention/_q_proj/weight/.ATTRIBUTES/VARIABLE_VALUE',\n",
       " 'layer_with_weights-0/_blocks/0/1/_block_attention/_q_proj/weight/.OPTIMIZER_SLOT/optimizer/m/.ATTRIBUTES/VARIABLE_VALUE',\n",
       " 'layer_with_weights-0/_blocks/0/1/_block_attention/_q_proj/weight/.OPTIMIZER_SLOT/optimizer/v/.ATTRIBUTES/VARIABLE_VALUE',\n",
       " 'layer_with_weights-0/_blocks/0/1/_block_attention/_v_proj/bias/.ATTRIBUTES/VARIABLE_VALUE',\n",
       " 'layer_with_weights-0/_blocks/0/1/_block_attention/_v_proj/bias/.OPTIMIZER_SLOT/optimizer/m/.ATTRIBUTES/VARIABLE_VALUE',\n",
       " 'layer_with_weights-0/_blocks/0/1/_block_attention/_v_proj/bias/.OPTIMIZER_SLOT/optimizer/v/.ATTRIBUTES/VARIABLE_VALUE',\n",
       " 'layer_with_weights-0/_blocks/0/1/_block_attention/_v_proj/weight/.ATTRIBUTES/VARIABLE_VALUE',\n",
       " 'layer_with_weights-0/_blocks/0/1/_block_attention/_v_proj/weight/.OPTIMIZER_SLOT/optimizer/m/.ATTRIBUTES/VARIABLE_VALUE',\n",
       " 'layer_with_weights-0/_blocks/0/1/_block_attention/_v_proj/weight/.OPTIMIZER_SLOT/optimizer/v/.ATTRIBUTES/VARIABLE_VALUE',\n",
       " 'layer_with_weights-0/_blocks/0/1/_block_attention/relative_bias/.ATTRIBUTES/VARIABLE_VALUE',\n",
       " 'layer_with_weights-0/_blocks/0/1/_block_attn_layer_norm/beta/.ATTRIBUTES/VARIABLE_VALUE',\n",
       " 'layer_with_weights-0/_blocks/0/1/_block_attn_layer_norm/beta/.OPTIMIZER_SLOT/optimizer/m/.ATTRIBUTES/VARIABLE_VALUE',\n",
       " 'layer_with_weights-0/_blocks/0/1/_block_attn_layer_norm/beta/.OPTIMIZER_SLOT/optimizer/v/.ATTRIBUTES/VARIABLE_VALUE',\n",
       " 'layer_with_weights-0/_blocks/0/1/_block_attn_layer_norm/gamma/.ATTRIBUTES/VARIABLE_VALUE',\n",
       " 'layer_with_weights-0/_blocks/0/1/_block_attn_layer_norm/gamma/.OPTIMIZER_SLOT/optimizer/m/.ATTRIBUTES/VARIABLE_VALUE',\n",
       " 'layer_with_weights-0/_blocks/0/1/_block_attn_layer_norm/gamma/.OPTIMIZER_SLOT/optimizer/v/.ATTRIBUTES/VARIABLE_VALUE',\n",
       " 'layer_with_weights-0/_blocks/0/1/_block_ffn/_expand_dense/bias/.ATTRIBUTES/VARIABLE_VALUE',\n",
       " 'layer_with_weights-0/_blocks/0/1/_block_ffn/_expand_dense/bias/.OPTIMIZER_SLOT/optimizer/m/.ATTRIBUTES/VARIABLE_VALUE',\n",
       " 'layer_with_weights-0/_blocks/0/1/_block_ffn/_expand_dense/bias/.OPTIMIZER_SLOT/optimizer/v/.ATTRIBUTES/VARIABLE_VALUE',\n",
       " 'layer_with_weights-0/_blocks/0/1/_block_ffn/_expand_dense/weight/.ATTRIBUTES/VARIABLE_VALUE',\n",
       " 'layer_with_weights-0/_blocks/0/1/_block_ffn/_expand_dense/weight/.OPTIMIZER_SLOT/optimizer/m/.ATTRIBUTES/VARIABLE_VALUE',\n",
       " 'layer_with_weights-0/_blocks/0/1/_block_ffn/_expand_dense/weight/.OPTIMIZER_SLOT/optimizer/v/.ATTRIBUTES/VARIABLE_VALUE',\n",
       " 'layer_with_weights-0/_blocks/0/1/_block_ffn/_shrink_dense/bias/.ATTRIBUTES/VARIABLE_VALUE',\n",
       " 'layer_with_weights-0/_blocks/0/1/_block_ffn/_shrink_dense/bias/.OPTIMIZER_SLOT/optimizer/m/.ATTRIBUTES/VARIABLE_VALUE',\n",
       " 'layer_with_weights-0/_blocks/0/1/_block_ffn/_shrink_dense/bias/.OPTIMIZER_SLOT/optimizer/v/.ATTRIBUTES/VARIABLE_VALUE',\n",
       " 'layer_with_weights-0/_blocks/0/1/_block_ffn/_shrink_dense/weight/.ATTRIBUTES/VARIABLE_VALUE',\n",
       " 'layer_with_weights-0/_blocks/0/1/_block_ffn/_shrink_dense/weight/.OPTIMIZER_SLOT/optimizer/m/.ATTRIBUTES/VARIABLE_VALUE',\n",
       " 'layer_with_weights-0/_blocks/0/1/_block_ffn/_shrink_dense/weight/.OPTIMIZER_SLOT/optimizer/v/.ATTRIBUTES/VARIABLE_VALUE',\n",
       " 'layer_with_weights-0/_blocks/0/1/_block_ffn_layer_norm/beta/.ATTRIBUTES/VARIABLE_VALUE',\n",
       " 'layer_with_weights-0/_blocks/0/1/_block_ffn_layer_norm/beta/.OPTIMIZER_SLOT/optimizer/m/.ATTRIBUTES/VARIABLE_VALUE',\n",
       " 'layer_with_weights-0/_blocks/0/1/_block_ffn_layer_norm/beta/.OPTIMIZER_SLOT/optimizer/v/.ATTRIBUTES/VARIABLE_VALUE',\n",
       " 'layer_with_weights-0/_blocks/0/1/_block_ffn_layer_norm/gamma/.ATTRIBUTES/VARIABLE_VALUE',\n",
       " 'layer_with_weights-0/_blocks/0/1/_block_ffn_layer_norm/gamma/.OPTIMIZER_SLOT/optimizer/m/.ATTRIBUTES/VARIABLE_VALUE',\n",
       " 'layer_with_weights-0/_blocks/0/1/_block_ffn_layer_norm/gamma/.OPTIMIZER_SLOT/optimizer/v/.ATTRIBUTES/VARIABLE_VALUE',\n",
       " 'layer_with_weights-0/_blocks/0/1/_grid_attention/_k_proj/bias/.ATTRIBUTES/VARIABLE_VALUE',\n",
       " 'layer_with_weights-0/_blocks/0/1/_grid_attention/_k_proj/bias/.OPTIMIZER_SLOT/optimizer/m/.ATTRIBUTES/VARIABLE_VALUE',\n",
       " 'layer_with_weights-0/_blocks/0/1/_grid_attention/_k_proj/bias/.OPTIMIZER_SLOT/optimizer/v/.ATTRIBUTES/VARIABLE_VALUE',\n",
       " 'layer_with_weights-0/_blocks/0/1/_grid_attention/_k_proj/weight/.ATTRIBUTES/VARIABLE_VALUE',\n",
       " 'layer_with_weights-0/_blocks/0/1/_grid_attention/_k_proj/weight/.OPTIMIZER_SLOT/optimizer/m/.ATTRIBUTES/VARIABLE_VALUE',\n",
       " 'layer_with_weights-0/_blocks/0/1/_grid_attention/_k_proj/weight/.OPTIMIZER_SLOT/optimizer/v/.ATTRIBUTES/VARIABLE_VALUE',\n",
       " 'layer_with_weights-0/_blocks/0/1/_grid_attention/_o_proj/bias/.ATTRIBUTES/VARIABLE_VALUE',\n",
       " 'layer_with_weights-0/_blocks/0/1/_grid_attention/_o_proj/bias/.OPTIMIZER_SLOT/optimizer/m/.ATTRIBUTES/VARIABLE_VALUE',\n",
       " 'layer_with_weights-0/_blocks/0/1/_grid_attention/_o_proj/bias/.OPTIMIZER_SLOT/optimizer/v/.ATTRIBUTES/VARIABLE_VALUE',\n",
       " 'layer_with_weights-0/_blocks/0/1/_grid_attention/_o_proj/weight/.ATTRIBUTES/VARIABLE_VALUE',\n",
       " 'layer_with_weights-0/_blocks/0/1/_grid_attention/_o_proj/weight/.OPTIMIZER_SLOT/optimizer/m/.ATTRIBUTES/VARIABLE_VALUE',\n",
       " 'layer_with_weights-0/_blocks/0/1/_grid_attention/_o_proj/weight/.OPTIMIZER_SLOT/optimizer/v/.ATTRIBUTES/VARIABLE_VALUE',\n",
       " 'layer_with_weights-0/_blocks/0/1/_grid_attention/_q_proj/bias/.ATTRIBUTES/VARIABLE_VALUE',\n",
       " 'layer_with_weights-0/_blocks/0/1/_grid_attention/_q_proj/bias/.OPTIMIZER_SLOT/optimizer/m/.ATTRIBUTES/VARIABLE_VALUE',\n",
       " 'layer_with_weights-0/_blocks/0/1/_grid_attention/_q_proj/bias/.OPTIMIZER_SLOT/optimizer/v/.ATTRIBUTES/VARIABLE_VALUE',\n",
       " 'layer_with_weights-0/_blocks/0/1/_grid_attention/_q_proj/weight/.ATTRIBUTES/VARIABLE_VALUE',\n",
       " 'layer_with_weights-0/_blocks/0/1/_grid_attention/_q_proj/weight/.OPTIMIZER_SLOT/optimizer/m/.ATTRIBUTES/VARIABLE_VALUE',\n",
       " 'layer_with_weights-0/_blocks/0/1/_grid_attention/_q_proj/weight/.OPTIMIZER_SLOT/optimizer/v/.ATTRIBUTES/VARIABLE_VALUE',\n",
       " 'layer_with_weights-0/_blocks/0/1/_grid_attention/_v_proj/bias/.ATTRIBUTES/VARIABLE_VALUE',\n",
       " 'layer_with_weights-0/_blocks/0/1/_grid_attention/_v_proj/bias/.OPTIMIZER_SLOT/optimizer/m/.ATTRIBUTES/VARIABLE_VALUE',\n",
       " 'layer_with_weights-0/_blocks/0/1/_grid_attention/_v_proj/bias/.OPTIMIZER_SLOT/optimizer/v/.ATTRIBUTES/VARIABLE_VALUE',\n",
       " 'layer_with_weights-0/_blocks/0/1/_grid_attention/_v_proj/weight/.ATTRIBUTES/VARIABLE_VALUE',\n",
       " 'layer_with_weights-0/_blocks/0/1/_grid_attention/_v_proj/weight/.OPTIMIZER_SLOT/optimizer/m/.ATTRIBUTES/VARIABLE_VALUE',\n",
       " 'layer_with_weights-0/_blocks/0/1/_grid_attention/_v_proj/weight/.OPTIMIZER_SLOT/optimizer/v/.ATTRIBUTES/VARIABLE_VALUE',\n",
       " 'layer_with_weights-0/_blocks/0/1/_grid_attention/relative_bias/.ATTRIBUTES/VARIABLE_VALUE',\n",
       " 'layer_with_weights-0/_blocks/0/1/_grid_attn_layer_norm/beta/.ATTRIBUTES/VARIABLE_VALUE',\n",
       " 'layer_with_weights-0/_blocks/0/1/_grid_attn_layer_norm/beta/.OPTIMIZER_SLOT/optimizer/m/.ATTRIBUTES/VARIABLE_VALUE',\n",
       " 'layer_with_weights-0/_blocks/0/1/_grid_attn_layer_norm/beta/.OPTIMIZER_SLOT/optimizer/v/.ATTRIBUTES/VARIABLE_VALUE',\n",
       " 'layer_with_weights-0/_blocks/0/1/_grid_attn_layer_norm/gamma/.ATTRIBUTES/VARIABLE_VALUE',\n",
       " 'layer_with_weights-0/_blocks/0/1/_grid_attn_layer_norm/gamma/.OPTIMIZER_SLOT/optimizer/m/.ATTRIBUTES/VARIABLE_VALUE',\n",
       " 'layer_with_weights-0/_blocks/0/1/_grid_attn_layer_norm/gamma/.OPTIMIZER_SLOT/optimizer/v/.ATTRIBUTES/VARIABLE_VALUE',\n",
       " 'layer_with_weights-0/_blocks/0/1/_grid_ffn/_expand_dense/bias/.ATTRIBUTES/VARIABLE_VALUE',\n",
       " 'layer_with_weights-0/_blocks/0/1/_grid_ffn/_expand_dense/bias/.OPTIMIZER_SLOT/optimizer/m/.ATTRIBUTES/VARIABLE_VALUE',\n",
       " 'layer_with_weights-0/_blocks/0/1/_grid_ffn/_expand_dense/bias/.OPTIMIZER_SLOT/optimizer/v/.ATTRIBUTES/VARIABLE_VALUE',\n",
       " 'layer_with_weights-0/_blocks/0/1/_grid_ffn/_expand_dense/weight/.ATTRIBUTES/VARIABLE_VALUE',\n",
       " 'layer_with_weights-0/_blocks/0/1/_grid_ffn/_expand_dense/weight/.OPTIMIZER_SLOT/optimizer/m/.ATTRIBUTES/VARIABLE_VALUE',\n",
       " 'layer_with_weights-0/_blocks/0/1/_grid_ffn/_expand_dense/weight/.OPTIMIZER_SLOT/optimizer/v/.ATTRIBUTES/VARIABLE_VALUE',\n",
       " 'layer_with_weights-0/_blocks/0/1/_grid_ffn/_shrink_dense/bias/.ATTRIBUTES/VARIABLE_VALUE',\n",
       " 'layer_with_weights-0/_blocks/0/1/_grid_ffn/_shrink_dense/bias/.OPTIMIZER_SLOT/optimizer/m/.ATTRIBUTES/VARIABLE_VALUE',\n",
       " 'layer_with_weights-0/_blocks/0/1/_grid_ffn/_shrink_dense/bias/.OPTIMIZER_SLOT/optimizer/v/.ATTRIBUTES/VARIABLE_VALUE',\n",
       " 'layer_with_weights-0/_blocks/0/1/_grid_ffn/_shrink_dense/weight/.ATTRIBUTES/VARIABLE_VALUE',\n",
       " 'layer_with_weights-0/_blocks/0/1/_grid_ffn/_shrink_dense/weight/.OPTIMIZER_SLOT/optimizer/m/.ATTRIBUTES/VARIABLE_VALUE',\n",
       " 'layer_with_weights-0/_blocks/0/1/_grid_ffn/_shrink_dense/weight/.OPTIMIZER_SLOT/optimizer/v/.ATTRIBUTES/VARIABLE_VALUE',\n",
       " 'layer_with_weights-0/_blocks/0/1/_grid_ffn_layer_norm/beta/.ATTRIBUTES/VARIABLE_VALUE',\n",
       " 'layer_with_weights-0/_blocks/0/1/_grid_ffn_layer_norm/beta/.OPTIMIZER_SLOT/optimizer/m/.ATTRIBUTES/VARIABLE_VALUE',\n",
       " 'layer_with_weights-0/_blocks/0/1/_grid_ffn_layer_norm/beta/.OPTIMIZER_SLOT/optimizer/v/.ATTRIBUTES/VARIABLE_VALUE',\n",
       " 'layer_with_weights-0/_blocks/0/1/_grid_ffn_layer_norm/gamma/.ATTRIBUTES/VARIABLE_VALUE',\n",
       " 'layer_with_weights-0/_blocks/0/1/_grid_ffn_layer_norm/gamma/.OPTIMIZER_SLOT/optimizer/m/.ATTRIBUTES/VARIABLE_VALUE',\n",
       " 'layer_with_weights-0/_blocks/0/1/_grid_ffn_layer_norm/gamma/.OPTIMIZER_SLOT/optimizer/v/.ATTRIBUTES/VARIABLE_VALUE',\n",
       " 'layer_with_weights-0/_blocks/0/1/_mbconv/_depthwise_conv/depthwise_kernel/.ATTRIBUTES/VARIABLE_VALUE',\n",
       " 'layer_with_weights-0/_blocks/0/1/_mbconv/_depthwise_conv/depthwise_kernel/.OPTIMIZER_SLOT/optimizer/m/.ATTRIBUTES/VARIABLE_VALUE',\n",
       " 'layer_with_weights-0/_blocks/0/1/_mbconv/_depthwise_conv/depthwise_kernel/.OPTIMIZER_SLOT/optimizer/v/.ATTRIBUTES/VARIABLE_VALUE',\n",
       " 'layer_with_weights-0/_blocks/0/1/_mbconv/_depthwise_norm/beta/.ATTRIBUTES/VARIABLE_VALUE',\n",
       " 'layer_with_weights-0/_blocks/0/1/_mbconv/_depthwise_norm/beta/.OPTIMIZER_SLOT/optimizer/m/.ATTRIBUTES/VARIABLE_VALUE',\n",
       " 'layer_with_weights-0/_blocks/0/1/_mbconv/_depthwise_norm/beta/.OPTIMIZER_SLOT/optimizer/v/.ATTRIBUTES/VARIABLE_VALUE',\n",
       " 'layer_with_weights-0/_blocks/0/1/_mbconv/_depthwise_norm/gamma/.ATTRIBUTES/VARIABLE_VALUE',\n",
       " 'layer_with_weights-0/_blocks/0/1/_mbconv/_depthwise_norm/gamma/.OPTIMIZER_SLOT/optimizer/m/.ATTRIBUTES/VARIABLE_VALUE',\n",
       " 'layer_with_weights-0/_blocks/0/1/_mbconv/_depthwise_norm/gamma/.OPTIMIZER_SLOT/optimizer/v/.ATTRIBUTES/VARIABLE_VALUE',\n",
       " 'layer_with_weights-0/_blocks/0/1/_mbconv/_depthwise_norm/moving_mean/.ATTRIBUTES/VARIABLE_VALUE',\n",
       " 'layer_with_weights-0/_blocks/0/1/_mbconv/_depthwise_norm/moving_variance/.ATTRIBUTES/VARIABLE_VALUE',\n",
       " 'layer_with_weights-0/_blocks/0/1/_mbconv/_expand_conv/kernel/.ATTRIBUTES/VARIABLE_VALUE',\n",
       " 'layer_with_weights-0/_blocks/0/1/_mbconv/_expand_conv/kernel/.OPTIMIZER_SLOT/optimizer/m/.ATTRIBUTES/VARIABLE_VALUE',\n",
       " 'layer_with_weights-0/_blocks/0/1/_mbconv/_expand_conv/kernel/.OPTIMIZER_SLOT/optimizer/v/.ATTRIBUTES/VARIABLE_VALUE',\n",
       " 'layer_with_weights-0/_blocks/0/1/_mbconv/_expand_norm/beta/.ATTRIBUTES/VARIABLE_VALUE',\n",
       " 'layer_with_weights-0/_blocks/0/1/_mbconv/_expand_norm/beta/.OPTIMIZER_SLOT/optimizer/m/.ATTRIBUTES/VARIABLE_VALUE',\n",
       " 'layer_with_weights-0/_blocks/0/1/_mbconv/_expand_norm/beta/.OPTIMIZER_SLOT/optimizer/v/.ATTRIBUTES/VARIABLE_VALUE',\n",
       " 'layer_with_weights-0/_blocks/0/1/_mbconv/_expand_norm/gamma/.ATTRIBUTES/VARIABLE_VALUE',\n",
       " 'layer_with_weights-0/_blocks/0/1/_mbconv/_expand_norm/gamma/.OPTIMIZER_SLOT/optimizer/m/.ATTRIBUTES/VARIABLE_VALUE',\n",
       " 'layer_with_weights-0/_blocks/0/1/_mbconv/_expand_norm/gamma/.OPTIMIZER_SLOT/optimizer/v/.ATTRIBUTES/VARIABLE_VALUE',\n",
       " 'layer_with_weights-0/_blocks/0/1/_mbconv/_expand_norm/moving_mean/.ATTRIBUTES/VARIABLE_VALUE',\n",
       " 'layer_with_weights-0/_blocks/0/1/_mbconv/_expand_norm/moving_variance/.ATTRIBUTES/VARIABLE_VALUE',\n",
       " 'layer_with_weights-0/_blocks/0/1/_mbconv/_pre_norm/beta/.ATTRIBUTES/VARIABLE_VALUE',\n",
       " 'layer_with_weights-0/_blocks/0/1/_mbconv/_pre_norm/beta/.OPTIMIZER_SLOT/optimizer/m/.ATTRIBUTES/VARIABLE_VALUE',\n",
       " 'layer_with_weights-0/_blocks/0/1/_mbconv/_pre_norm/beta/.OPTIMIZER_SLOT/optimizer/v/.ATTRIBUTES/VARIABLE_VALUE',\n",
       " 'layer_with_weights-0/_blocks/0/1/_mbconv/_pre_norm/gamma/.ATTRIBUTES/VARIABLE_VALUE',\n",
       " 'layer_with_weights-0/_blocks/0/1/_mbconv/_pre_norm/gamma/.OPTIMIZER_SLOT/optimizer/m/.ATTRIBUTES/VARIABLE_VALUE',\n",
       " 'layer_with_weights-0/_blocks/0/1/_mbconv/_pre_norm/gamma/.OPTIMIZER_SLOT/optimizer/v/.ATTRIBUTES/VARIABLE_VALUE',\n",
       " 'layer_with_weights-0/_blocks/0/1/_mbconv/_pre_norm/moving_mean/.ATTRIBUTES/VARIABLE_VALUE',\n",
       " 'layer_with_weights-0/_blocks/0/1/_mbconv/_pre_norm/moving_variance/.ATTRIBUTES/VARIABLE_VALUE',\n",
       " 'layer_with_weights-0/_blocks/0/1/_mbconv/_se/_se_expand/bias/.ATTRIBUTES/VARIABLE_VALUE',\n",
       " 'layer_with_weights-0/_blocks/0/1/_mbconv/_se/_se_expand/bias/.OPTIMIZER_SLOT/optimizer/m/.ATTRIBUTES/VARIABLE_VALUE',\n",
       " 'layer_with_weights-0/_blocks/0/1/_mbconv/_se/_se_expand/bias/.OPTIMIZER_SLOT/optimizer/v/.ATTRIBUTES/VARIABLE_VALUE',\n",
       " 'layer_with_weights-0/_blocks/0/1/_mbconv/_se/_se_expand/kernel/.ATTRIBUTES/VARIABLE_VALUE',\n",
       " 'layer_with_weights-0/_blocks/0/1/_mbconv/_se/_se_expand/kernel/.OPTIMIZER_SLOT/optimizer/m/.ATTRIBUTES/VARIABLE_VALUE',\n",
       " 'layer_with_weights-0/_blocks/0/1/_mbconv/_se/_se_expand/kernel/.OPTIMIZER_SLOT/optimizer/v/.ATTRIBUTES/VARIABLE_VALUE',\n",
       " 'layer_with_weights-0/_blocks/0/1/_mbconv/_se/_se_reduce/bias/.ATTRIBUTES/VARIABLE_VALUE',\n",
       " 'layer_with_weights-0/_blocks/0/1/_mbconv/_se/_se_reduce/bias/.OPTIMIZER_SLOT/optimizer/m/.ATTRIBUTES/VARIABLE_VALUE',\n",
       " 'layer_with_weights-0/_blocks/0/1/_mbconv/_se/_se_reduce/bias/.OPTIMIZER_SLOT/optimizer/v/.ATTRIBUTES/VARIABLE_VALUE',\n",
       " 'layer_with_weights-0/_blocks/0/1/_mbconv/_se/_se_reduce/kernel/.ATTRIBUTES/VARIABLE_VALUE',\n",
       " 'layer_with_weights-0/_blocks/0/1/_mbconv/_se/_se_reduce/kernel/.OPTIMIZER_SLOT/optimizer/m/.ATTRIBUTES/VARIABLE_VALUE',\n",
       " 'layer_with_weights-0/_blocks/0/1/_mbconv/_se/_se_reduce/kernel/.OPTIMIZER_SLOT/optimizer/v/.ATTRIBUTES/VARIABLE_VALUE',\n",
       " 'layer_with_weights-0/_blocks/0/1/_mbconv/_shrink_conv/bias/.ATTRIBUTES/VARIABLE_VALUE',\n",
       " 'layer_with_weights-0/_blocks/0/1/_mbconv/_shrink_conv/bias/.OPTIMIZER_SLOT/optimizer/m/.ATTRIBUTES/VARIABLE_VALUE',\n",
       " 'layer_with_weights-0/_blocks/0/1/_mbconv/_shrink_conv/bias/.OPTIMIZER_SLOT/optimizer/v/.ATTRIBUTES/VARIABLE_VALUE',\n",
       " 'layer_with_weights-0/_blocks/0/1/_mbconv/_shrink_conv/kernel/.ATTRIBUTES/VARIABLE_VALUE',\n",
       " 'layer_with_weights-0/_blocks/0/1/_mbconv/_shrink_conv/kernel/.OPTIMIZER_SLOT/optimizer/m/.ATTRIBUTES/VARIABLE_VALUE',\n",
       " 'layer_with_weights-0/_blocks/0/1/_mbconv/_shrink_conv/kernel/.OPTIMIZER_SLOT/optimizer/v/.ATTRIBUTES/VARIABLE_VALUE',\n",
       " 'layer_with_weights-0/_blocks/1/0/_block_attention/_k_proj/bias/.ATTRIBUTES/VARIABLE_VALUE',\n",
       " 'layer_with_weights-0/_blocks/1/0/_block_attention/_k_proj/bias/.OPTIMIZER_SLOT/optimizer/m/.ATTRIBUTES/VARIABLE_VALUE',\n",
       " 'layer_with_weights-0/_blocks/1/0/_block_attention/_k_proj/bias/.OPTIMIZER_SLOT/optimizer/v/.ATTRIBUTES/VARIABLE_VALUE',\n",
       " 'layer_with_weights-0/_blocks/1/0/_block_attention/_k_proj/weight/.ATTRIBUTES/VARIABLE_VALUE',\n",
       " 'layer_with_weights-0/_blocks/1/0/_block_attention/_k_proj/weight/.OPTIMIZER_SLOT/optimizer/m/.ATTRIBUTES/VARIABLE_VALUE',\n",
       " 'layer_with_weights-0/_blocks/1/0/_block_attention/_k_proj/weight/.OPTIMIZER_SLOT/optimizer/v/.ATTRIBUTES/VARIABLE_VALUE',\n",
       " 'layer_with_weights-0/_blocks/1/0/_block_attention/_o_proj/bias/.ATTRIBUTES/VARIABLE_VALUE',\n",
       " 'layer_with_weights-0/_blocks/1/0/_block_attention/_o_proj/bias/.OPTIMIZER_SLOT/optimizer/m/.ATTRIBUTES/VARIABLE_VALUE',\n",
       " 'layer_with_weights-0/_blocks/1/0/_block_attention/_o_proj/bias/.OPTIMIZER_SLOT/optimizer/v/.ATTRIBUTES/VARIABLE_VALUE',\n",
       " 'layer_with_weights-0/_blocks/1/0/_block_attention/_o_proj/weight/.ATTRIBUTES/VARIABLE_VALUE',\n",
       " 'layer_with_weights-0/_blocks/1/0/_block_attention/_o_proj/weight/.OPTIMIZER_SLOT/optimizer/m/.ATTRIBUTES/VARIABLE_VALUE',\n",
       " 'layer_with_weights-0/_blocks/1/0/_block_attention/_o_proj/weight/.OPTIMIZER_SLOT/optimizer/v/.ATTRIBUTES/VARIABLE_VALUE',\n",
       " 'layer_with_weights-0/_blocks/1/0/_block_attention/_q_proj/bias/.ATTRIBUTES/VARIABLE_VALUE',\n",
       " 'layer_with_weights-0/_blocks/1/0/_block_attention/_q_proj/bias/.OPTIMIZER_SLOT/optimizer/m/.ATTRIBUTES/VARIABLE_VALUE',\n",
       " 'layer_with_weights-0/_blocks/1/0/_block_attention/_q_proj/bias/.OPTIMIZER_SLOT/optimizer/v/.ATTRIBUTES/VARIABLE_VALUE',\n",
       " 'layer_with_weights-0/_blocks/1/0/_block_attention/_q_proj/weight/.ATTRIBUTES/VARIABLE_VALUE',\n",
       " 'layer_with_weights-0/_blocks/1/0/_block_attention/_q_proj/weight/.OPTIMIZER_SLOT/optimizer/m/.ATTRIBUTES/VARIABLE_VALUE',\n",
       " 'layer_with_weights-0/_blocks/1/0/_block_attention/_q_proj/weight/.OPTIMIZER_SLOT/optimizer/v/.ATTRIBUTES/VARIABLE_VALUE',\n",
       " 'layer_with_weights-0/_blocks/1/0/_block_attention/_v_proj/bias/.ATTRIBUTES/VARIABLE_VALUE',\n",
       " 'layer_with_weights-0/_blocks/1/0/_block_attention/_v_proj/bias/.OPTIMIZER_SLOT/optimizer/m/.ATTRIBUTES/VARIABLE_VALUE',\n",
       " 'layer_with_weights-0/_blocks/1/0/_block_attention/_v_proj/bias/.OPTIMIZER_SLOT/optimizer/v/.ATTRIBUTES/VARIABLE_VALUE',\n",
       " 'layer_with_weights-0/_blocks/1/0/_block_attention/_v_proj/weight/.ATTRIBUTES/VARIABLE_VALUE',\n",
       " 'layer_with_weights-0/_blocks/1/0/_block_attention/_v_proj/weight/.OPTIMIZER_SLOT/optimizer/m/.ATTRIBUTES/VARIABLE_VALUE',\n",
       " 'layer_with_weights-0/_blocks/1/0/_block_attention/_v_proj/weight/.OPTIMIZER_SLOT/optimizer/v/.ATTRIBUTES/VARIABLE_VALUE',\n",
       " 'layer_with_weights-0/_blocks/1/0/_block_attention/relative_bias/.ATTRIBUTES/VARIABLE_VALUE',\n",
       " 'layer_with_weights-0/_blocks/1/0/_block_attn_layer_norm/beta/.ATTRIBUTES/VARIABLE_VALUE',\n",
       " 'layer_with_weights-0/_blocks/1/0/_block_attn_layer_norm/beta/.OPTIMIZER_SLOT/optimizer/m/.ATTRIBUTES/VARIABLE_VALUE',\n",
       " 'layer_with_weights-0/_blocks/1/0/_block_attn_layer_norm/beta/.OPTIMIZER_SLOT/optimizer/v/.ATTRIBUTES/VARIABLE_VALUE',\n",
       " 'layer_with_weights-0/_blocks/1/0/_block_attn_layer_norm/gamma/.ATTRIBUTES/VARIABLE_VALUE',\n",
       " 'layer_with_weights-0/_blocks/1/0/_block_attn_layer_norm/gamma/.OPTIMIZER_SLOT/optimizer/m/.ATTRIBUTES/VARIABLE_VALUE',\n",
       " 'layer_with_weights-0/_blocks/1/0/_block_attn_layer_norm/gamma/.OPTIMIZER_SLOT/optimizer/v/.ATTRIBUTES/VARIABLE_VALUE',\n",
       " 'layer_with_weights-0/_blocks/1/0/_block_ffn/_expand_dense/bias/.ATTRIBUTES/VARIABLE_VALUE',\n",
       " 'layer_with_weights-0/_blocks/1/0/_block_ffn/_expand_dense/bias/.OPTIMIZER_SLOT/optimizer/m/.ATTRIBUTES/VARIABLE_VALUE',\n",
       " 'layer_with_weights-0/_blocks/1/0/_block_ffn/_expand_dense/bias/.OPTIMIZER_SLOT/optimizer/v/.ATTRIBUTES/VARIABLE_VALUE',\n",
       " 'layer_with_weights-0/_blocks/1/0/_block_ffn/_expand_dense/weight/.ATTRIBUTES/VARIABLE_VALUE',\n",
       " 'layer_with_weights-0/_blocks/1/0/_block_ffn/_expand_dense/weight/.OPTIMIZER_SLOT/optimizer/m/.ATTRIBUTES/VARIABLE_VALUE',\n",
       " 'layer_with_weights-0/_blocks/1/0/_block_ffn/_expand_dense/weight/.OPTIMIZER_SLOT/optimizer/v/.ATTRIBUTES/VARIABLE_VALUE',\n",
       " 'layer_with_weights-0/_blocks/1/0/_block_ffn/_shrink_dense/bias/.ATTRIBUTES/VARIABLE_VALUE',\n",
       " 'layer_with_weights-0/_blocks/1/0/_block_ffn/_shrink_dense/bias/.OPTIMIZER_SLOT/optimizer/m/.ATTRIBUTES/VARIABLE_VALUE',\n",
       " 'layer_with_weights-0/_blocks/1/0/_block_ffn/_shrink_dense/bias/.OPTIMIZER_SLOT/optimizer/v/.ATTRIBUTES/VARIABLE_VALUE',\n",
       " 'layer_with_weights-0/_blocks/1/0/_block_ffn/_shrink_dense/weight/.ATTRIBUTES/VARIABLE_VALUE',\n",
       " 'layer_with_weights-0/_blocks/1/0/_block_ffn/_shrink_dense/weight/.OPTIMIZER_SLOT/optimizer/m/.ATTRIBUTES/VARIABLE_VALUE',\n",
       " 'layer_with_weights-0/_blocks/1/0/_block_ffn/_shrink_dense/weight/.OPTIMIZER_SLOT/optimizer/v/.ATTRIBUTES/VARIABLE_VALUE',\n",
       " 'layer_with_weights-0/_blocks/1/0/_block_ffn_layer_norm/beta/.ATTRIBUTES/VARIABLE_VALUE',\n",
       " 'layer_with_weights-0/_blocks/1/0/_block_ffn_layer_norm/beta/.OPTIMIZER_SLOT/optimizer/m/.ATTRIBUTES/VARIABLE_VALUE',\n",
       " 'layer_with_weights-0/_blocks/1/0/_block_ffn_layer_norm/beta/.OPTIMIZER_SLOT/optimizer/v/.ATTRIBUTES/VARIABLE_VALUE',\n",
       " 'layer_with_weights-0/_blocks/1/0/_block_ffn_layer_norm/gamma/.ATTRIBUTES/VARIABLE_VALUE',\n",
       " 'layer_with_weights-0/_blocks/1/0/_block_ffn_layer_norm/gamma/.OPTIMIZER_SLOT/optimizer/m/.ATTRIBUTES/VARIABLE_VALUE',\n",
       " 'layer_with_weights-0/_blocks/1/0/_block_ffn_layer_norm/gamma/.OPTIMIZER_SLOT/optimizer/v/.ATTRIBUTES/VARIABLE_VALUE',\n",
       " 'layer_with_weights-0/_blocks/1/0/_grid_attention/_k_proj/bias/.ATTRIBUTES/VARIABLE_VALUE',\n",
       " 'layer_with_weights-0/_blocks/1/0/_grid_attention/_k_proj/bias/.OPTIMIZER_SLOT/optimizer/m/.ATTRIBUTES/VARIABLE_VALUE',\n",
       " 'layer_with_weights-0/_blocks/1/0/_grid_attention/_k_proj/bias/.OPTIMIZER_SLOT/optimizer/v/.ATTRIBUTES/VARIABLE_VALUE',\n",
       " 'layer_with_weights-0/_blocks/1/0/_grid_attention/_k_proj/weight/.ATTRIBUTES/VARIABLE_VALUE',\n",
       " 'layer_with_weights-0/_blocks/1/0/_grid_attention/_k_proj/weight/.OPTIMIZER_SLOT/optimizer/m/.ATTRIBUTES/VARIABLE_VALUE',\n",
       " 'layer_with_weights-0/_blocks/1/0/_grid_attention/_k_proj/weight/.OPTIMIZER_SLOT/optimizer/v/.ATTRIBUTES/VARIABLE_VALUE',\n",
       " 'layer_with_weights-0/_blocks/1/0/_grid_attention/_o_proj/bias/.ATTRIBUTES/VARIABLE_VALUE',\n",
       " 'layer_with_weights-0/_blocks/1/0/_grid_attention/_o_proj/bias/.OPTIMIZER_SLOT/optimizer/m/.ATTRIBUTES/VARIABLE_VALUE',\n",
       " 'layer_with_weights-0/_blocks/1/0/_grid_attention/_o_proj/bias/.OPTIMIZER_SLOT/optimizer/v/.ATTRIBUTES/VARIABLE_VALUE',\n",
       " 'layer_with_weights-0/_blocks/1/0/_grid_attention/_o_proj/weight/.ATTRIBUTES/VARIABLE_VALUE',\n",
       " 'layer_with_weights-0/_blocks/1/0/_grid_attention/_o_proj/weight/.OPTIMIZER_SLOT/optimizer/m/.ATTRIBUTES/VARIABLE_VALUE',\n",
       " 'layer_with_weights-0/_blocks/1/0/_grid_attention/_o_proj/weight/.OPTIMIZER_SLOT/optimizer/v/.ATTRIBUTES/VARIABLE_VALUE',\n",
       " 'layer_with_weights-0/_blocks/1/0/_grid_attention/_q_proj/bias/.ATTRIBUTES/VARIABLE_VALUE',\n",
       " 'layer_with_weights-0/_blocks/1/0/_grid_attention/_q_proj/bias/.OPTIMIZER_SLOT/optimizer/m/.ATTRIBUTES/VARIABLE_VALUE',\n",
       " 'layer_with_weights-0/_blocks/1/0/_grid_attention/_q_proj/bias/.OPTIMIZER_SLOT/optimizer/v/.ATTRIBUTES/VARIABLE_VALUE',\n",
       " 'layer_with_weights-0/_blocks/1/0/_grid_attention/_q_proj/weight/.ATTRIBUTES/VARIABLE_VALUE',\n",
       " 'layer_with_weights-0/_blocks/1/0/_grid_attention/_q_proj/weight/.OPTIMIZER_SLOT/optimizer/m/.ATTRIBUTES/VARIABLE_VALUE',\n",
       " 'layer_with_weights-0/_blocks/1/0/_grid_attention/_q_proj/weight/.OPTIMIZER_SLOT/optimizer/v/.ATTRIBUTES/VARIABLE_VALUE',\n",
       " 'layer_with_weights-0/_blocks/1/0/_grid_attention/_v_proj/bias/.ATTRIBUTES/VARIABLE_VALUE',\n",
       " 'layer_with_weights-0/_blocks/1/0/_grid_attention/_v_proj/bias/.OPTIMIZER_SLOT/optimizer/m/.ATTRIBUTES/VARIABLE_VALUE',\n",
       " 'layer_with_weights-0/_blocks/1/0/_grid_attention/_v_proj/bias/.OPTIMIZER_SLOT/optimizer/v/.ATTRIBUTES/VARIABLE_VALUE',\n",
       " 'layer_with_weights-0/_blocks/1/0/_grid_attention/_v_proj/weight/.ATTRIBUTES/VARIABLE_VALUE',\n",
       " 'layer_with_weights-0/_blocks/1/0/_grid_attention/_v_proj/weight/.OPTIMIZER_SLOT/optimizer/m/.ATTRIBUTES/VARIABLE_VALUE',\n",
       " 'layer_with_weights-0/_blocks/1/0/_grid_attention/_v_proj/weight/.OPTIMIZER_SLOT/optimizer/v/.ATTRIBUTES/VARIABLE_VALUE',\n",
       " 'layer_with_weights-0/_blocks/1/0/_grid_attention/relative_bias/.ATTRIBUTES/VARIABLE_VALUE',\n",
       " 'layer_with_weights-0/_blocks/1/0/_grid_attn_layer_norm/beta/.ATTRIBUTES/VARIABLE_VALUE',\n",
       " 'layer_with_weights-0/_blocks/1/0/_grid_attn_layer_norm/beta/.OPTIMIZER_SLOT/optimizer/m/.ATTRIBUTES/VARIABLE_VALUE',\n",
       " 'layer_with_weights-0/_blocks/1/0/_grid_attn_layer_norm/beta/.OPTIMIZER_SLOT/optimizer/v/.ATTRIBUTES/VARIABLE_VALUE',\n",
       " 'layer_with_weights-0/_blocks/1/0/_grid_attn_layer_norm/gamma/.ATTRIBUTES/VARIABLE_VALUE',\n",
       " 'layer_with_weights-0/_blocks/1/0/_grid_attn_layer_norm/gamma/.OPTIMIZER_SLOT/optimizer/m/.ATTRIBUTES/VARIABLE_VALUE',\n",
       " 'layer_with_weights-0/_blocks/1/0/_grid_attn_layer_norm/gamma/.OPTIMIZER_SLOT/optimizer/v/.ATTRIBUTES/VARIABLE_VALUE',\n",
       " 'layer_with_weights-0/_blocks/1/0/_grid_ffn/_expand_dense/bias/.ATTRIBUTES/VARIABLE_VALUE',\n",
       " 'layer_with_weights-0/_blocks/1/0/_grid_ffn/_expand_dense/bias/.OPTIMIZER_SLOT/optimizer/m/.ATTRIBUTES/VARIABLE_VALUE',\n",
       " 'layer_with_weights-0/_blocks/1/0/_grid_ffn/_expand_dense/bias/.OPTIMIZER_SLOT/optimizer/v/.ATTRIBUTES/VARIABLE_VALUE',\n",
       " 'layer_with_weights-0/_blocks/1/0/_grid_ffn/_expand_dense/weight/.ATTRIBUTES/VARIABLE_VALUE',\n",
       " 'layer_with_weights-0/_blocks/1/0/_grid_ffn/_expand_dense/weight/.OPTIMIZER_SLOT/optimizer/m/.ATTRIBUTES/VARIABLE_VALUE',\n",
       " 'layer_with_weights-0/_blocks/1/0/_grid_ffn/_expand_dense/weight/.OPTIMIZER_SLOT/optimizer/v/.ATTRIBUTES/VARIABLE_VALUE',\n",
       " 'layer_with_weights-0/_blocks/1/0/_grid_ffn/_shrink_dense/bias/.ATTRIBUTES/VARIABLE_VALUE',\n",
       " 'layer_with_weights-0/_blocks/1/0/_grid_ffn/_shrink_dense/bias/.OPTIMIZER_SLOT/optimizer/m/.ATTRIBUTES/VARIABLE_VALUE',\n",
       " 'layer_with_weights-0/_blocks/1/0/_grid_ffn/_shrink_dense/bias/.OPTIMIZER_SLOT/optimizer/v/.ATTRIBUTES/VARIABLE_VALUE',\n",
       " 'layer_with_weights-0/_blocks/1/0/_grid_ffn/_shrink_dense/weight/.ATTRIBUTES/VARIABLE_VALUE',\n",
       " 'layer_with_weights-0/_blocks/1/0/_grid_ffn/_shrink_dense/weight/.OPTIMIZER_SLOT/optimizer/m/.ATTRIBUTES/VARIABLE_VALUE',\n",
       " 'layer_with_weights-0/_blocks/1/0/_grid_ffn/_shrink_dense/weight/.OPTIMIZER_SLOT/optimizer/v/.ATTRIBUTES/VARIABLE_VALUE',\n",
       " 'layer_with_weights-0/_blocks/1/0/_grid_ffn_layer_norm/beta/.ATTRIBUTES/VARIABLE_VALUE',\n",
       " 'layer_with_weights-0/_blocks/1/0/_grid_ffn_layer_norm/beta/.OPTIMIZER_SLOT/optimizer/m/.ATTRIBUTES/VARIABLE_VALUE',\n",
       " 'layer_with_weights-0/_blocks/1/0/_grid_ffn_layer_norm/beta/.OPTIMIZER_SLOT/optimizer/v/.ATTRIBUTES/VARIABLE_VALUE',\n",
       " 'layer_with_weights-0/_blocks/1/0/_grid_ffn_layer_norm/gamma/.ATTRIBUTES/VARIABLE_VALUE',\n",
       " 'layer_with_weights-0/_blocks/1/0/_grid_ffn_layer_norm/gamma/.OPTIMIZER_SLOT/optimizer/m/.ATTRIBUTES/VARIABLE_VALUE',\n",
       " 'layer_with_weights-0/_blocks/1/0/_grid_ffn_layer_norm/gamma/.OPTIMIZER_SLOT/optimizer/v/.ATTRIBUTES/VARIABLE_VALUE',\n",
       " 'layer_with_weights-0/_blocks/1/0/_mbconv/_depthwise_conv/depthwise_kernel/.ATTRIBUTES/VARIABLE_VALUE',\n",
       " 'layer_with_weights-0/_blocks/1/0/_mbconv/_depthwise_conv/depthwise_kernel/.OPTIMIZER_SLOT/optimizer/m/.ATTRIBUTES/VARIABLE_VALUE',\n",
       " 'layer_with_weights-0/_blocks/1/0/_mbconv/_depthwise_conv/depthwise_kernel/.OPTIMIZER_SLOT/optimizer/v/.ATTRIBUTES/VARIABLE_VALUE',\n",
       " 'layer_with_weights-0/_blocks/1/0/_mbconv/_depthwise_norm/beta/.ATTRIBUTES/VARIABLE_VALUE',\n",
       " 'layer_with_weights-0/_blocks/1/0/_mbconv/_depthwise_norm/beta/.OPTIMIZER_SLOT/optimizer/m/.ATTRIBUTES/VARIABLE_VALUE',\n",
       " 'layer_with_weights-0/_blocks/1/0/_mbconv/_depthwise_norm/beta/.OPTIMIZER_SLOT/optimizer/v/.ATTRIBUTES/VARIABLE_VALUE',\n",
       " 'layer_with_weights-0/_blocks/1/0/_mbconv/_depthwise_norm/gamma/.ATTRIBUTES/VARIABLE_VALUE',\n",
       " 'layer_with_weights-0/_blocks/1/0/_mbconv/_depthwise_norm/gamma/.OPTIMIZER_SLOT/optimizer/m/.ATTRIBUTES/VARIABLE_VALUE',\n",
       " 'layer_with_weights-0/_blocks/1/0/_mbconv/_depthwise_norm/gamma/.OPTIMIZER_SLOT/optimizer/v/.ATTRIBUTES/VARIABLE_VALUE',\n",
       " 'layer_with_weights-0/_blocks/1/0/_mbconv/_depthwise_norm/moving_mean/.ATTRIBUTES/VARIABLE_VALUE',\n",
       " 'layer_with_weights-0/_blocks/1/0/_mbconv/_depthwise_norm/moving_variance/.ATTRIBUTES/VARIABLE_VALUE',\n",
       " 'layer_with_weights-0/_blocks/1/0/_mbconv/_expand_conv/kernel/.ATTRIBUTES/VARIABLE_VALUE',\n",
       " 'layer_with_weights-0/_blocks/1/0/_mbconv/_expand_conv/kernel/.OPTIMIZER_SLOT/optimizer/m/.ATTRIBUTES/VARIABLE_VALUE',\n",
       " 'layer_with_weights-0/_blocks/1/0/_mbconv/_expand_conv/kernel/.OPTIMIZER_SLOT/optimizer/v/.ATTRIBUTES/VARIABLE_VALUE',\n",
       " 'layer_with_weights-0/_blocks/1/0/_mbconv/_expand_norm/beta/.ATTRIBUTES/VARIABLE_VALUE',\n",
       " 'layer_with_weights-0/_blocks/1/0/_mbconv/_expand_norm/beta/.OPTIMIZER_SLOT/optimizer/m/.ATTRIBUTES/VARIABLE_VALUE',\n",
       " 'layer_with_weights-0/_blocks/1/0/_mbconv/_expand_norm/beta/.OPTIMIZER_SLOT/optimizer/v/.ATTRIBUTES/VARIABLE_VALUE',\n",
       " 'layer_with_weights-0/_blocks/1/0/_mbconv/_expand_norm/gamma/.ATTRIBUTES/VARIABLE_VALUE',\n",
       " 'layer_with_weights-0/_blocks/1/0/_mbconv/_expand_norm/gamma/.OPTIMIZER_SLOT/optimizer/m/.ATTRIBUTES/VARIABLE_VALUE',\n",
       " 'layer_with_weights-0/_blocks/1/0/_mbconv/_expand_norm/gamma/.OPTIMIZER_SLOT/optimizer/v/.ATTRIBUTES/VARIABLE_VALUE',\n",
       " 'layer_with_weights-0/_blocks/1/0/_mbconv/_expand_norm/moving_mean/.ATTRIBUTES/VARIABLE_VALUE',\n",
       " 'layer_with_weights-0/_blocks/1/0/_mbconv/_expand_norm/moving_variance/.ATTRIBUTES/VARIABLE_VALUE',\n",
       " 'layer_with_weights-0/_blocks/1/0/_mbconv/_pre_norm/beta/.ATTRIBUTES/VARIABLE_VALUE',\n",
       " 'layer_with_weights-0/_blocks/1/0/_mbconv/_pre_norm/beta/.OPTIMIZER_SLOT/optimizer/m/.ATTRIBUTES/VARIABLE_VALUE',\n",
       " 'layer_with_weights-0/_blocks/1/0/_mbconv/_pre_norm/beta/.OPTIMIZER_SLOT/optimizer/v/.ATTRIBUTES/VARIABLE_VALUE',\n",
       " 'layer_with_weights-0/_blocks/1/0/_mbconv/_pre_norm/gamma/.ATTRIBUTES/VARIABLE_VALUE',\n",
       " 'layer_with_weights-0/_blocks/1/0/_mbconv/_pre_norm/gamma/.OPTIMIZER_SLOT/optimizer/m/.ATTRIBUTES/VARIABLE_VALUE',\n",
       " 'layer_with_weights-0/_blocks/1/0/_mbconv/_pre_norm/gamma/.OPTIMIZER_SLOT/optimizer/v/.ATTRIBUTES/VARIABLE_VALUE',\n",
       " 'layer_with_weights-0/_blocks/1/0/_mbconv/_pre_norm/moving_mean/.ATTRIBUTES/VARIABLE_VALUE',\n",
       " 'layer_with_weights-0/_blocks/1/0/_mbconv/_pre_norm/moving_variance/.ATTRIBUTES/VARIABLE_VALUE',\n",
       " 'layer_with_weights-0/_blocks/1/0/_mbconv/_se/_se_expand/bias/.ATTRIBUTES/VARIABLE_VALUE',\n",
       " 'layer_with_weights-0/_blocks/1/0/_mbconv/_se/_se_expand/bias/.OPTIMIZER_SLOT/optimizer/m/.ATTRIBUTES/VARIABLE_VALUE',\n",
       " 'layer_with_weights-0/_blocks/1/0/_mbconv/_se/_se_expand/bias/.OPTIMIZER_SLOT/optimizer/v/.ATTRIBUTES/VARIABLE_VALUE',\n",
       " 'layer_with_weights-0/_blocks/1/0/_mbconv/_se/_se_expand/kernel/.ATTRIBUTES/VARIABLE_VALUE',\n",
       " 'layer_with_weights-0/_blocks/1/0/_mbconv/_se/_se_expand/kernel/.OPTIMIZER_SLOT/optimizer/m/.ATTRIBUTES/VARIABLE_VALUE',\n",
       " 'layer_with_weights-0/_blocks/1/0/_mbconv/_se/_se_expand/kernel/.OPTIMIZER_SLOT/optimizer/v/.ATTRIBUTES/VARIABLE_VALUE',\n",
       " 'layer_with_weights-0/_blocks/1/0/_mbconv/_se/_se_reduce/bias/.ATTRIBUTES/VARIABLE_VALUE',\n",
       " 'layer_with_weights-0/_blocks/1/0/_mbconv/_se/_se_reduce/bias/.OPTIMIZER_SLOT/optimizer/m/.ATTRIBUTES/VARIABLE_VALUE',\n",
       " 'layer_with_weights-0/_blocks/1/0/_mbconv/_se/_se_reduce/bias/.OPTIMIZER_SLOT/optimizer/v/.ATTRIBUTES/VARIABLE_VALUE',\n",
       " 'layer_with_weights-0/_blocks/1/0/_mbconv/_se/_se_reduce/kernel/.ATTRIBUTES/VARIABLE_VALUE',\n",
       " 'layer_with_weights-0/_blocks/1/0/_mbconv/_se/_se_reduce/kernel/.OPTIMIZER_SLOT/optimizer/m/.ATTRIBUTES/VARIABLE_VALUE',\n",
       " 'layer_with_weights-0/_blocks/1/0/_mbconv/_se/_se_reduce/kernel/.OPTIMIZER_SLOT/optimizer/v/.ATTRIBUTES/VARIABLE_VALUE',\n",
       " 'layer_with_weights-0/_blocks/1/0/_mbconv/_shortcut_conv/bias/.ATTRIBUTES/VARIABLE_VALUE',\n",
       " 'layer_with_weights-0/_blocks/1/0/_mbconv/_shortcut_conv/bias/.OPTIMIZER_SLOT/optimizer/m/.ATTRIBUTES/VARIABLE_VALUE',\n",
       " 'layer_with_weights-0/_blocks/1/0/_mbconv/_shortcut_conv/bias/.OPTIMIZER_SLOT/optimizer/v/.ATTRIBUTES/VARIABLE_VALUE',\n",
       " 'layer_with_weights-0/_blocks/1/0/_mbconv/_shortcut_conv/kernel/.ATTRIBUTES/VARIABLE_VALUE',\n",
       " 'layer_with_weights-0/_blocks/1/0/_mbconv/_shortcut_conv/kernel/.OPTIMIZER_SLOT/optimizer/m/.ATTRIBUTES/VARIABLE_VALUE',\n",
       " 'layer_with_weights-0/_blocks/1/0/_mbconv/_shortcut_conv/kernel/.OPTIMIZER_SLOT/optimizer/v/.ATTRIBUTES/VARIABLE_VALUE',\n",
       " 'layer_with_weights-0/_blocks/1/0/_mbconv/_shrink_conv/bias/.ATTRIBUTES/VARIABLE_VALUE',\n",
       " 'layer_with_weights-0/_blocks/1/0/_mbconv/_shrink_conv/bias/.OPTIMIZER_SLOT/optimizer/m/.ATTRIBUTES/VARIABLE_VALUE',\n",
       " 'layer_with_weights-0/_blocks/1/0/_mbconv/_shrink_conv/bias/.OPTIMIZER_SLOT/optimizer/v/.ATTRIBUTES/VARIABLE_VALUE',\n",
       " 'layer_with_weights-0/_blocks/1/0/_mbconv/_shrink_conv/kernel/.ATTRIBUTES/VARIABLE_VALUE',\n",
       " 'layer_with_weights-0/_blocks/1/0/_mbconv/_shrink_conv/kernel/.OPTIMIZER_SLOT/optimizer/m/.ATTRIBUTES/VARIABLE_VALUE',\n",
       " 'layer_with_weights-0/_blocks/1/0/_mbconv/_shrink_conv/kernel/.OPTIMIZER_SLOT/optimizer/v/.ATTRIBUTES/VARIABLE_VALUE',\n",
       " 'layer_with_weights-0/_blocks/1/1/_block_attention/_k_proj/bias/.ATTRIBUTES/VARIABLE_VALUE',\n",
       " 'layer_with_weights-0/_blocks/1/1/_block_attention/_k_proj/bias/.OPTIMIZER_SLOT/optimizer/m/.ATTRIBUTES/VARIABLE_VALUE',\n",
       " 'layer_with_weights-0/_blocks/1/1/_block_attention/_k_proj/bias/.OPTIMIZER_SLOT/optimizer/v/.ATTRIBUTES/VARIABLE_VALUE',\n",
       " 'layer_with_weights-0/_blocks/1/1/_block_attention/_k_proj/weight/.ATTRIBUTES/VARIABLE_VALUE',\n",
       " 'layer_with_weights-0/_blocks/1/1/_block_attention/_k_proj/weight/.OPTIMIZER_SLOT/optimizer/m/.ATTRIBUTES/VARIABLE_VALUE',\n",
       " 'layer_with_weights-0/_blocks/1/1/_block_attention/_k_proj/weight/.OPTIMIZER_SLOT/optimizer/v/.ATTRIBUTES/VARIABLE_VALUE',\n",
       " 'layer_with_weights-0/_blocks/1/1/_block_attention/_o_proj/bias/.ATTRIBUTES/VARIABLE_VALUE',\n",
       " 'layer_with_weights-0/_blocks/1/1/_block_attention/_o_proj/bias/.OPTIMIZER_SLOT/optimizer/m/.ATTRIBUTES/VARIABLE_VALUE',\n",
       " 'layer_with_weights-0/_blocks/1/1/_block_attention/_o_proj/bias/.OPTIMIZER_SLOT/optimizer/v/.ATTRIBUTES/VARIABLE_VALUE',\n",
       " 'layer_with_weights-0/_blocks/1/1/_block_attention/_o_proj/weight/.ATTRIBUTES/VARIABLE_VALUE',\n",
       " 'layer_with_weights-0/_blocks/1/1/_block_attention/_o_proj/weight/.OPTIMIZER_SLOT/optimizer/m/.ATTRIBUTES/VARIABLE_VALUE',\n",
       " 'layer_with_weights-0/_blocks/1/1/_block_attention/_o_proj/weight/.OPTIMIZER_SLOT/optimizer/v/.ATTRIBUTES/VARIABLE_VALUE',\n",
       " 'layer_with_weights-0/_blocks/1/1/_block_attention/_q_proj/bias/.ATTRIBUTES/VARIABLE_VALUE',\n",
       " 'layer_with_weights-0/_blocks/1/1/_block_attention/_q_proj/bias/.OPTIMIZER_SLOT/optimizer/m/.ATTRIBUTES/VARIABLE_VALUE',\n",
       " 'layer_with_weights-0/_blocks/1/1/_block_attention/_q_proj/bias/.OPTIMIZER_SLOT/optimizer/v/.ATTRIBUTES/VARIABLE_VALUE',\n",
       " 'layer_with_weights-0/_blocks/1/1/_block_attention/_q_proj/weight/.ATTRIBUTES/VARIABLE_VALUE',\n",
       " 'layer_with_weights-0/_blocks/1/1/_block_attention/_q_proj/weight/.OPTIMIZER_SLOT/optimizer/m/.ATTRIBUTES/VARIABLE_VALUE',\n",
       " 'layer_with_weights-0/_blocks/1/1/_block_attention/_q_proj/weight/.OPTIMIZER_SLOT/optimizer/v/.ATTRIBUTES/VARIABLE_VALUE',\n",
       " 'layer_with_weights-0/_blocks/1/1/_block_attention/_v_proj/bias/.ATTRIBUTES/VARIABLE_VALUE',\n",
       " 'layer_with_weights-0/_blocks/1/1/_block_attention/_v_proj/bias/.OPTIMIZER_SLOT/optimizer/m/.ATTRIBUTES/VARIABLE_VALUE',\n",
       " 'layer_with_weights-0/_blocks/1/1/_block_attention/_v_proj/bias/.OPTIMIZER_SLOT/optimizer/v/.ATTRIBUTES/VARIABLE_VALUE',\n",
       " 'layer_with_weights-0/_blocks/1/1/_block_attention/_v_proj/weight/.ATTRIBUTES/VARIABLE_VALUE',\n",
       " 'layer_with_weights-0/_blocks/1/1/_block_attention/_v_proj/weight/.OPTIMIZER_SLOT/optimizer/m/.ATTRIBUTES/VARIABLE_VALUE',\n",
       " 'layer_with_weights-0/_blocks/1/1/_block_attention/_v_proj/weight/.OPTIMIZER_SLOT/optimizer/v/.ATTRIBUTES/VARIABLE_VALUE',\n",
       " 'layer_with_weights-0/_blocks/1/1/_block_attention/relative_bias/.ATTRIBUTES/VARIABLE_VALUE',\n",
       " 'layer_with_weights-0/_blocks/1/1/_block_attn_layer_norm/beta/.ATTRIBUTES/VARIABLE_VALUE',\n",
       " 'layer_with_weights-0/_blocks/1/1/_block_attn_layer_norm/beta/.OPTIMIZER_SLOT/optimizer/m/.ATTRIBUTES/VARIABLE_VALUE',\n",
       " 'layer_with_weights-0/_blocks/1/1/_block_attn_layer_norm/beta/.OPTIMIZER_SLOT/optimizer/v/.ATTRIBUTES/VARIABLE_VALUE',\n",
       " 'layer_with_weights-0/_blocks/1/1/_block_attn_layer_norm/gamma/.ATTRIBUTES/VARIABLE_VALUE',\n",
       " 'layer_with_weights-0/_blocks/1/1/_block_attn_layer_norm/gamma/.OPTIMIZER_SLOT/optimizer/m/.ATTRIBUTES/VARIABLE_VALUE',\n",
       " 'layer_with_weights-0/_blocks/1/1/_block_attn_layer_norm/gamma/.OPTIMIZER_SLOT/optimizer/v/.ATTRIBUTES/VARIABLE_VALUE',\n",
       " 'layer_with_weights-0/_blocks/1/1/_block_ffn/_expand_dense/bias/.ATTRIBUTES/VARIABLE_VALUE',\n",
       " 'layer_with_weights-0/_blocks/1/1/_block_ffn/_expand_dense/bias/.OPTIMIZER_SLOT/optimizer/m/.ATTRIBUTES/VARIABLE_VALUE',\n",
       " 'layer_with_weights-0/_blocks/1/1/_block_ffn/_expand_dense/bias/.OPTIMIZER_SLOT/optimizer/v/.ATTRIBUTES/VARIABLE_VALUE',\n",
       " 'layer_with_weights-0/_blocks/1/1/_block_ffn/_expand_dense/weight/.ATTRIBUTES/VARIABLE_VALUE',\n",
       " 'layer_with_weights-0/_blocks/1/1/_block_ffn/_expand_dense/weight/.OPTIMIZER_SLOT/optimizer/m/.ATTRIBUTES/VARIABLE_VALUE',\n",
       " 'layer_with_weights-0/_blocks/1/1/_block_ffn/_expand_dense/weight/.OPTIMIZER_SLOT/optimizer/v/.ATTRIBUTES/VARIABLE_VALUE',\n",
       " 'layer_with_weights-0/_blocks/1/1/_block_ffn/_shrink_dense/bias/.ATTRIBUTES/VARIABLE_VALUE',\n",
       " 'layer_with_weights-0/_blocks/1/1/_block_ffn/_shrink_dense/bias/.OPTIMIZER_SLOT/optimizer/m/.ATTRIBUTES/VARIABLE_VALUE',\n",
       " 'layer_with_weights-0/_blocks/1/1/_block_ffn/_shrink_dense/bias/.OPTIMIZER_SLOT/optimizer/v/.ATTRIBUTES/VARIABLE_VALUE',\n",
       " 'layer_with_weights-0/_blocks/1/1/_block_ffn/_shrink_dense/weight/.ATTRIBUTES/VARIABLE_VALUE',\n",
       " 'layer_with_weights-0/_blocks/1/1/_block_ffn/_shrink_dense/weight/.OPTIMIZER_SLOT/optimizer/m/.ATTRIBUTES/VARIABLE_VALUE',\n",
       " 'layer_with_weights-0/_blocks/1/1/_block_ffn/_shrink_dense/weight/.OPTIMIZER_SLOT/optimizer/v/.ATTRIBUTES/VARIABLE_VALUE',\n",
       " 'layer_with_weights-0/_blocks/1/1/_block_ffn_layer_norm/beta/.ATTRIBUTES/VARIABLE_VALUE',\n",
       " 'layer_with_weights-0/_blocks/1/1/_block_ffn_layer_norm/beta/.OPTIMIZER_SLOT/optimizer/m/.ATTRIBUTES/VARIABLE_VALUE',\n",
       " 'layer_with_weights-0/_blocks/1/1/_block_ffn_layer_norm/beta/.OPTIMIZER_SLOT/optimizer/v/.ATTRIBUTES/VARIABLE_VALUE',\n",
       " 'layer_with_weights-0/_blocks/1/1/_block_ffn_layer_norm/gamma/.ATTRIBUTES/VARIABLE_VALUE',\n",
       " 'layer_with_weights-0/_blocks/1/1/_block_ffn_layer_norm/gamma/.OPTIMIZER_SLOT/optimizer/m/.ATTRIBUTES/VARIABLE_VALUE',\n",
       " 'layer_with_weights-0/_blocks/1/1/_block_ffn_layer_norm/gamma/.OPTIMIZER_SLOT/optimizer/v/.ATTRIBUTES/VARIABLE_VALUE',\n",
       " 'layer_with_weights-0/_blocks/1/1/_grid_attention/_k_proj/bias/.ATTRIBUTES/VARIABLE_VALUE',\n",
       " 'layer_with_weights-0/_blocks/1/1/_grid_attention/_k_proj/bias/.OPTIMIZER_SLOT/optimizer/m/.ATTRIBUTES/VARIABLE_VALUE',\n",
       " 'layer_with_weights-0/_blocks/1/1/_grid_attention/_k_proj/bias/.OPTIMIZER_SLOT/optimizer/v/.ATTRIBUTES/VARIABLE_VALUE',\n",
       " 'layer_with_weights-0/_blocks/1/1/_grid_attention/_k_proj/weight/.ATTRIBUTES/VARIABLE_VALUE',\n",
       " 'layer_with_weights-0/_blocks/1/1/_grid_attention/_k_proj/weight/.OPTIMIZER_SLOT/optimizer/m/.ATTRIBUTES/VARIABLE_VALUE',\n",
       " 'layer_with_weights-0/_blocks/1/1/_grid_attention/_k_proj/weight/.OPTIMIZER_SLOT/optimizer/v/.ATTRIBUTES/VARIABLE_VALUE',\n",
       " 'layer_with_weights-0/_blocks/1/1/_grid_attention/_o_proj/bias/.ATTRIBUTES/VARIABLE_VALUE',\n",
       " 'layer_with_weights-0/_blocks/1/1/_grid_attention/_o_proj/bias/.OPTIMIZER_SLOT/optimizer/m/.ATTRIBUTES/VARIABLE_VALUE',\n",
       " 'layer_with_weights-0/_blocks/1/1/_grid_attention/_o_proj/bias/.OPTIMIZER_SLOT/optimizer/v/.ATTRIBUTES/VARIABLE_VALUE',\n",
       " 'layer_with_weights-0/_blocks/1/1/_grid_attention/_o_proj/weight/.ATTRIBUTES/VARIABLE_VALUE',\n",
       " 'layer_with_weights-0/_blocks/1/1/_grid_attention/_o_proj/weight/.OPTIMIZER_SLOT/optimizer/m/.ATTRIBUTES/VARIABLE_VALUE',\n",
       " 'layer_with_weights-0/_blocks/1/1/_grid_attention/_o_proj/weight/.OPTIMIZER_SLOT/optimizer/v/.ATTRIBUTES/VARIABLE_VALUE',\n",
       " 'layer_with_weights-0/_blocks/1/1/_grid_attention/_q_proj/bias/.ATTRIBUTES/VARIABLE_VALUE',\n",
       " 'layer_with_weights-0/_blocks/1/1/_grid_attention/_q_proj/bias/.OPTIMIZER_SLOT/optimizer/m/.ATTRIBUTES/VARIABLE_VALUE',\n",
       " 'layer_with_weights-0/_blocks/1/1/_grid_attention/_q_proj/bias/.OPTIMIZER_SLOT/optimizer/v/.ATTRIBUTES/VARIABLE_VALUE',\n",
       " 'layer_with_weights-0/_blocks/1/1/_grid_attention/_q_proj/weight/.ATTRIBUTES/VARIABLE_VALUE',\n",
       " 'layer_with_weights-0/_blocks/1/1/_grid_attention/_q_proj/weight/.OPTIMIZER_SLOT/optimizer/m/.ATTRIBUTES/VARIABLE_VALUE',\n",
       " 'layer_with_weights-0/_blocks/1/1/_grid_attention/_q_proj/weight/.OPTIMIZER_SLOT/optimizer/v/.ATTRIBUTES/VARIABLE_VALUE',\n",
       " 'layer_with_weights-0/_blocks/1/1/_grid_attention/_v_proj/bias/.ATTRIBUTES/VARIABLE_VALUE',\n",
       " 'layer_with_weights-0/_blocks/1/1/_grid_attention/_v_proj/bias/.OPTIMIZER_SLOT/optimizer/m/.ATTRIBUTES/VARIABLE_VALUE',\n",
       " 'layer_with_weights-0/_blocks/1/1/_grid_attention/_v_proj/bias/.OPTIMIZER_SLOT/optimizer/v/.ATTRIBUTES/VARIABLE_VALUE',\n",
       " 'layer_with_weights-0/_blocks/1/1/_grid_attention/_v_proj/weight/.ATTRIBUTES/VARIABLE_VALUE',\n",
       " 'layer_with_weights-0/_blocks/1/1/_grid_attention/_v_proj/weight/.OPTIMIZER_SLOT/optimizer/m/.ATTRIBUTES/VARIABLE_VALUE',\n",
       " 'layer_with_weights-0/_blocks/1/1/_grid_attention/_v_proj/weight/.OPTIMIZER_SLOT/optimizer/v/.ATTRIBUTES/VARIABLE_VALUE',\n",
       " 'layer_with_weights-0/_blocks/1/1/_grid_attention/relative_bias/.ATTRIBUTES/VARIABLE_VALUE',\n",
       " 'layer_with_weights-0/_blocks/1/1/_grid_attn_layer_norm/beta/.ATTRIBUTES/VARIABLE_VALUE',\n",
       " 'layer_with_weights-0/_blocks/1/1/_grid_attn_layer_norm/beta/.OPTIMIZER_SLOT/optimizer/m/.ATTRIBUTES/VARIABLE_VALUE',\n",
       " 'layer_with_weights-0/_blocks/1/1/_grid_attn_layer_norm/beta/.OPTIMIZER_SLOT/optimizer/v/.ATTRIBUTES/VARIABLE_VALUE',\n",
       " 'layer_with_weights-0/_blocks/1/1/_grid_attn_layer_norm/gamma/.ATTRIBUTES/VARIABLE_VALUE',\n",
       " 'layer_with_weights-0/_blocks/1/1/_grid_attn_layer_norm/gamma/.OPTIMIZER_SLOT/optimizer/m/.ATTRIBUTES/VARIABLE_VALUE',\n",
       " 'layer_with_weights-0/_blocks/1/1/_grid_attn_layer_norm/gamma/.OPTIMIZER_SLOT/optimizer/v/.ATTRIBUTES/VARIABLE_VALUE',\n",
       " 'layer_with_weights-0/_blocks/1/1/_grid_ffn/_expand_dense/bias/.ATTRIBUTES/VARIABLE_VALUE',\n",
       " 'layer_with_weights-0/_blocks/1/1/_grid_ffn/_expand_dense/bias/.OPTIMIZER_SLOT/optimizer/m/.ATTRIBUTES/VARIABLE_VALUE',\n",
       " 'layer_with_weights-0/_blocks/1/1/_grid_ffn/_expand_dense/bias/.OPTIMIZER_SLOT/optimizer/v/.ATTRIBUTES/VARIABLE_VALUE',\n",
       " 'layer_with_weights-0/_blocks/1/1/_grid_ffn/_expand_dense/weight/.ATTRIBUTES/VARIABLE_VALUE',\n",
       " 'layer_with_weights-0/_blocks/1/1/_grid_ffn/_expand_dense/weight/.OPTIMIZER_SLOT/optimizer/m/.ATTRIBUTES/VARIABLE_VALUE',\n",
       " 'layer_with_weights-0/_blocks/1/1/_grid_ffn/_expand_dense/weight/.OPTIMIZER_SLOT/optimizer/v/.ATTRIBUTES/VARIABLE_VALUE',\n",
       " 'layer_with_weights-0/_blocks/1/1/_grid_ffn/_shrink_dense/bias/.ATTRIBUTES/VARIABLE_VALUE',\n",
       " 'layer_with_weights-0/_blocks/1/1/_grid_ffn/_shrink_dense/bias/.OPTIMIZER_SLOT/optimizer/m/.ATTRIBUTES/VARIABLE_VALUE',\n",
       " 'layer_with_weights-0/_blocks/1/1/_grid_ffn/_shrink_dense/bias/.OPTIMIZER_SLOT/optimizer/v/.ATTRIBUTES/VARIABLE_VALUE',\n",
       " 'layer_with_weights-0/_blocks/1/1/_grid_ffn/_shrink_dense/weight/.ATTRIBUTES/VARIABLE_VALUE',\n",
       " 'layer_with_weights-0/_blocks/1/1/_grid_ffn/_shrink_dense/weight/.OPTIMIZER_SLOT/optimizer/m/.ATTRIBUTES/VARIABLE_VALUE',\n",
       " 'layer_with_weights-0/_blocks/1/1/_grid_ffn/_shrink_dense/weight/.OPTIMIZER_SLOT/optimizer/v/.ATTRIBUTES/VARIABLE_VALUE',\n",
       " 'layer_with_weights-0/_blocks/1/1/_grid_ffn_layer_norm/beta/.ATTRIBUTES/VARIABLE_VALUE',\n",
       " 'layer_with_weights-0/_blocks/1/1/_grid_ffn_layer_norm/beta/.OPTIMIZER_SLOT/optimizer/m/.ATTRIBUTES/VARIABLE_VALUE',\n",
       " 'layer_with_weights-0/_blocks/1/1/_grid_ffn_layer_norm/beta/.OPTIMIZER_SLOT/optimizer/v/.ATTRIBUTES/VARIABLE_VALUE',\n",
       " 'layer_with_weights-0/_blocks/1/1/_grid_ffn_layer_norm/gamma/.ATTRIBUTES/VARIABLE_VALUE',\n",
       " 'layer_with_weights-0/_blocks/1/1/_grid_ffn_layer_norm/gamma/.OPTIMIZER_SLOT/optimizer/m/.ATTRIBUTES/VARIABLE_VALUE',\n",
       " 'layer_with_weights-0/_blocks/1/1/_grid_ffn_layer_norm/gamma/.OPTIMIZER_SLOT/optimizer/v/.ATTRIBUTES/VARIABLE_VALUE',\n",
       " 'layer_with_weights-0/_blocks/1/1/_mbconv/_depthwise_conv/depthwise_kernel/.ATTRIBUTES/VARIABLE_VALUE',\n",
       " 'layer_with_weights-0/_blocks/1/1/_mbconv/_depthwise_conv/depthwise_kernel/.OPTIMIZER_SLOT/optimizer/m/.ATTRIBUTES/VARIABLE_VALUE',\n",
       " 'layer_with_weights-0/_blocks/1/1/_mbconv/_depthwise_conv/depthwise_kernel/.OPTIMIZER_SLOT/optimizer/v/.ATTRIBUTES/VARIABLE_VALUE',\n",
       " 'layer_with_weights-0/_blocks/1/1/_mbconv/_depthwise_norm/beta/.ATTRIBUTES/VARIABLE_VALUE',\n",
       " 'layer_with_weights-0/_blocks/1/1/_mbconv/_depthwise_norm/beta/.OPTIMIZER_SLOT/optimizer/m/.ATTRIBUTES/VARIABLE_VALUE',\n",
       " 'layer_with_weights-0/_blocks/1/1/_mbconv/_depthwise_norm/beta/.OPTIMIZER_SLOT/optimizer/v/.ATTRIBUTES/VARIABLE_VALUE',\n",
       " 'layer_with_weights-0/_blocks/1/1/_mbconv/_depthwise_norm/gamma/.ATTRIBUTES/VARIABLE_VALUE',\n",
       " 'layer_with_weights-0/_blocks/1/1/_mbconv/_depthwise_norm/gamma/.OPTIMIZER_SLOT/optimizer/m/.ATTRIBUTES/VARIABLE_VALUE',\n",
       " 'layer_with_weights-0/_blocks/1/1/_mbconv/_depthwise_norm/gamma/.OPTIMIZER_SLOT/optimizer/v/.ATTRIBUTES/VARIABLE_VALUE',\n",
       " 'layer_with_weights-0/_blocks/1/1/_mbconv/_depthwise_norm/moving_mean/.ATTRIBUTES/VARIABLE_VALUE',\n",
       " 'layer_with_weights-0/_blocks/1/1/_mbconv/_depthwise_norm/moving_variance/.ATTRIBUTES/VARIABLE_VALUE',\n",
       " 'layer_with_weights-0/_blocks/1/1/_mbconv/_expand_conv/kernel/.ATTRIBUTES/VARIABLE_VALUE',\n",
       " 'layer_with_weights-0/_blocks/1/1/_mbconv/_expand_conv/kernel/.OPTIMIZER_SLOT/optimizer/m/.ATTRIBUTES/VARIABLE_VALUE',\n",
       " 'layer_with_weights-0/_blocks/1/1/_mbconv/_expand_conv/kernel/.OPTIMIZER_SLOT/optimizer/v/.ATTRIBUTES/VARIABLE_VALUE',\n",
       " 'layer_with_weights-0/_blocks/1/1/_mbconv/_expand_norm/beta/.ATTRIBUTES/VARIABLE_VALUE',\n",
       " 'layer_with_weights-0/_blocks/1/1/_mbconv/_expand_norm/beta/.OPTIMIZER_SLOT/optimizer/m/.ATTRIBUTES/VARIABLE_VALUE',\n",
       " 'layer_with_weights-0/_blocks/1/1/_mbconv/_expand_norm/beta/.OPTIMIZER_SLOT/optimizer/v/.ATTRIBUTES/VARIABLE_VALUE',\n",
       " 'layer_with_weights-0/_blocks/1/1/_mbconv/_expand_norm/gamma/.ATTRIBUTES/VARIABLE_VALUE',\n",
       " 'layer_with_weights-0/_blocks/1/1/_mbconv/_expand_norm/gamma/.OPTIMIZER_SLOT/optimizer/m/.ATTRIBUTES/VARIABLE_VALUE',\n",
       " 'layer_with_weights-0/_blocks/1/1/_mbconv/_expand_norm/gamma/.OPTIMIZER_SLOT/optimizer/v/.ATTRIBUTES/VARIABLE_VALUE',\n",
       " 'layer_with_weights-0/_blocks/1/1/_mbconv/_expand_norm/moving_mean/.ATTRIBUTES/VARIABLE_VALUE',\n",
       " 'layer_with_weights-0/_blocks/1/1/_mbconv/_expand_norm/moving_variance/.ATTRIBUTES/VARIABLE_VALUE',\n",
       " 'layer_with_weights-0/_blocks/1/1/_mbconv/_pre_norm/beta/.ATTRIBUTES/VARIABLE_VALUE',\n",
       " 'layer_with_weights-0/_blocks/1/1/_mbconv/_pre_norm/beta/.OPTIMIZER_SLOT/optimizer/m/.ATTRIBUTES/VARIABLE_VALUE',\n",
       " 'layer_with_weights-0/_blocks/1/1/_mbconv/_pre_norm/beta/.OPTIMIZER_SLOT/optimizer/v/.ATTRIBUTES/VARIABLE_VALUE',\n",
       " 'layer_with_weights-0/_blocks/1/1/_mbconv/_pre_norm/gamma/.ATTRIBUTES/VARIABLE_VALUE',\n",
       " 'layer_with_weights-0/_blocks/1/1/_mbconv/_pre_norm/gamma/.OPTIMIZER_SLOT/optimizer/m/.ATTRIBUTES/VARIABLE_VALUE',\n",
       " 'layer_with_weights-0/_blocks/1/1/_mbconv/_pre_norm/gamma/.OPTIMIZER_SLOT/optimizer/v/.ATTRIBUTES/VARIABLE_VALUE',\n",
       " 'layer_with_weights-0/_blocks/1/1/_mbconv/_pre_norm/moving_mean/.ATTRIBUTES/VARIABLE_VALUE',\n",
       " 'layer_with_weights-0/_blocks/1/1/_mbconv/_pre_norm/moving_variance/.ATTRIBUTES/VARIABLE_VALUE',\n",
       " 'layer_with_weights-0/_blocks/1/1/_mbconv/_se/_se_expand/bias/.ATTRIBUTES/VARIABLE_VALUE',\n",
       " 'layer_with_weights-0/_blocks/1/1/_mbconv/_se/_se_expand/bias/.OPTIMIZER_SLOT/optimizer/m/.ATTRIBUTES/VARIABLE_VALUE',\n",
       " 'layer_with_weights-0/_blocks/1/1/_mbconv/_se/_se_expand/bias/.OPTIMIZER_SLOT/optimizer/v/.ATTRIBUTES/VARIABLE_VALUE',\n",
       " 'layer_with_weights-0/_blocks/1/1/_mbconv/_se/_se_expand/kernel/.ATTRIBUTES/VARIABLE_VALUE',\n",
       " 'layer_with_weights-0/_blocks/1/1/_mbconv/_se/_se_expand/kernel/.OPTIMIZER_SLOT/optimizer/m/.ATTRIBUTES/VARIABLE_VALUE',\n",
       " 'layer_with_weights-0/_blocks/1/1/_mbconv/_se/_se_expand/kernel/.OPTIMIZER_SLOT/optimizer/v/.ATTRIBUTES/VARIABLE_VALUE',\n",
       " 'layer_with_weights-0/_blocks/1/1/_mbconv/_se/_se_reduce/bias/.ATTRIBUTES/VARIABLE_VALUE',\n",
       " 'layer_with_weights-0/_blocks/1/1/_mbconv/_se/_se_reduce/bias/.OPTIMIZER_SLOT/optimizer/m/.ATTRIBUTES/VARIABLE_VALUE',\n",
       " 'layer_with_weights-0/_blocks/1/1/_mbconv/_se/_se_reduce/bias/.OPTIMIZER_SLOT/optimizer/v/.ATTRIBUTES/VARIABLE_VALUE',\n",
       " 'layer_with_weights-0/_blocks/1/1/_mbconv/_se/_se_reduce/kernel/.ATTRIBUTES/VARIABLE_VALUE',\n",
       " 'layer_with_weights-0/_blocks/1/1/_mbconv/_se/_se_reduce/kernel/.OPTIMIZER_SLOT/optimizer/m/.ATTRIBUTES/VARIABLE_VALUE',\n",
       " 'layer_with_weights-0/_blocks/1/1/_mbconv/_se/_se_reduce/kernel/.OPTIMIZER_SLOT/optimizer/v/.ATTRIBUTES/VARIABLE_VALUE',\n",
       " 'layer_with_weights-0/_blocks/1/1/_mbconv/_shrink_conv/bias/.ATTRIBUTES/VARIABLE_VALUE',\n",
       " 'layer_with_weights-0/_blocks/1/1/_mbconv/_shrink_conv/bias/.OPTIMIZER_SLOT/optimizer/m/.ATTRIBUTES/VARIABLE_VALUE',\n",
       " 'layer_with_weights-0/_blocks/1/1/_mbconv/_shrink_conv/bias/.OPTIMIZER_SLOT/optimizer/v/.ATTRIBUTES/VARIABLE_VALUE',\n",
       " 'layer_with_weights-0/_blocks/1/1/_mbconv/_shrink_conv/kernel/.ATTRIBUTES/VARIABLE_VALUE',\n",
       " 'layer_with_weights-0/_blocks/1/1/_mbconv/_shrink_conv/kernel/.OPTIMIZER_SLOT/optimizer/m/.ATTRIBUTES/VARIABLE_VALUE',\n",
       " 'layer_with_weights-0/_blocks/1/1/_mbconv/_shrink_conv/kernel/.OPTIMIZER_SLOT/optimizer/v/.ATTRIBUTES/VARIABLE_VALUE',\n",
       " 'layer_with_weights-0/_blocks/2/0/_block_attention/_k_proj/bias/.ATTRIBUTES/VARIABLE_VALUE',\n",
       " 'layer_with_weights-0/_blocks/2/0/_block_attention/_k_proj/bias/.OPTIMIZER_SLOT/optimizer/m/.ATTRIBUTES/VARIABLE_VALUE',\n",
       " 'layer_with_weights-0/_blocks/2/0/_block_attention/_k_proj/bias/.OPTIMIZER_SLOT/optimizer/v/.ATTRIBUTES/VARIABLE_VALUE',\n",
       " 'layer_with_weights-0/_blocks/2/0/_block_attention/_k_proj/weight/.ATTRIBUTES/VARIABLE_VALUE',\n",
       " 'layer_with_weights-0/_blocks/2/0/_block_attention/_k_proj/weight/.OPTIMIZER_SLOT/optimizer/m/.ATTRIBUTES/VARIABLE_VALUE',\n",
       " 'layer_with_weights-0/_blocks/2/0/_block_attention/_k_proj/weight/.OPTIMIZER_SLOT/optimizer/v/.ATTRIBUTES/VARIABLE_VALUE',\n",
       " 'layer_with_weights-0/_blocks/2/0/_block_attention/_o_proj/bias/.ATTRIBUTES/VARIABLE_VALUE',\n",
       " 'layer_with_weights-0/_blocks/2/0/_block_attention/_o_proj/bias/.OPTIMIZER_SLOT/optimizer/m/.ATTRIBUTES/VARIABLE_VALUE',\n",
       " 'layer_with_weights-0/_blocks/2/0/_block_attention/_o_proj/bias/.OPTIMIZER_SLOT/optimizer/v/.ATTRIBUTES/VARIABLE_VALUE',\n",
       " 'layer_with_weights-0/_blocks/2/0/_block_attention/_o_proj/weight/.ATTRIBUTES/VARIABLE_VALUE',\n",
       " 'layer_with_weights-0/_blocks/2/0/_block_attention/_o_proj/weight/.OPTIMIZER_SLOT/optimizer/m/.ATTRIBUTES/VARIABLE_VALUE',\n",
       " 'layer_with_weights-0/_blocks/2/0/_block_attention/_o_proj/weight/.OPTIMIZER_SLOT/optimizer/v/.ATTRIBUTES/VARIABLE_VALUE',\n",
       " 'layer_with_weights-0/_blocks/2/0/_block_attention/_q_proj/bias/.ATTRIBUTES/VARIABLE_VALUE',\n",
       " 'layer_with_weights-0/_blocks/2/0/_block_attention/_q_proj/bias/.OPTIMIZER_SLOT/optimizer/m/.ATTRIBUTES/VARIABLE_VALUE',\n",
       " 'layer_with_weights-0/_blocks/2/0/_block_attention/_q_proj/bias/.OPTIMIZER_SLOT/optimizer/v/.ATTRIBUTES/VARIABLE_VALUE',\n",
       " 'layer_with_weights-0/_blocks/2/0/_block_attention/_q_proj/weight/.ATTRIBUTES/VARIABLE_VALUE',\n",
       " 'layer_with_weights-0/_blocks/2/0/_block_attention/_q_proj/weight/.OPTIMIZER_SLOT/optimizer/m/.ATTRIBUTES/VARIABLE_VALUE',\n",
       " 'layer_with_weights-0/_blocks/2/0/_block_attention/_q_proj/weight/.OPTIMIZER_SLOT/optimizer/v/.ATTRIBUTES/VARIABLE_VALUE',\n",
       " 'layer_with_weights-0/_blocks/2/0/_block_attention/_v_proj/bias/.ATTRIBUTES/VARIABLE_VALUE',\n",
       " 'layer_with_weights-0/_blocks/2/0/_block_attention/_v_proj/bias/.OPTIMIZER_SLOT/optimizer/m/.ATTRIBUTES/VARIABLE_VALUE',\n",
       " 'layer_with_weights-0/_blocks/2/0/_block_attention/_v_proj/bias/.OPTIMIZER_SLOT/optimizer/v/.ATTRIBUTES/VARIABLE_VALUE',\n",
       " 'layer_with_weights-0/_blocks/2/0/_block_attention/_v_proj/weight/.ATTRIBUTES/VARIABLE_VALUE',\n",
       " 'layer_with_weights-0/_blocks/2/0/_block_attention/_v_proj/weight/.OPTIMIZER_SLOT/optimizer/m/.ATTRIBUTES/VARIABLE_VALUE',\n",
       " 'layer_with_weights-0/_blocks/2/0/_block_attention/_v_proj/weight/.OPTIMIZER_SLOT/optimizer/v/.ATTRIBUTES/VARIABLE_VALUE',\n",
       " 'layer_with_weights-0/_blocks/2/0/_block_attention/relative_bias/.ATTRIBUTES/VARIABLE_VALUE',\n",
       " 'layer_with_weights-0/_blocks/2/0/_block_attn_layer_norm/beta/.ATTRIBUTES/VARIABLE_VALUE',\n",
       " 'layer_with_weights-0/_blocks/2/0/_block_attn_layer_norm/beta/.OPTIMIZER_SLOT/optimizer/m/.ATTRIBUTES/VARIABLE_VALUE',\n",
       " 'layer_with_weights-0/_blocks/2/0/_block_attn_layer_norm/beta/.OPTIMIZER_SLOT/optimizer/v/.ATTRIBUTES/VARIABLE_VALUE',\n",
       " 'layer_with_weights-0/_blocks/2/0/_block_attn_layer_norm/gamma/.ATTRIBUTES/VARIABLE_VALUE',\n",
       " 'layer_with_weights-0/_blocks/2/0/_block_attn_layer_norm/gamma/.OPTIMIZER_SLOT/optimizer/m/.ATTRIBUTES/VARIABLE_VALUE',\n",
       " 'layer_with_weights-0/_blocks/2/0/_block_attn_layer_norm/gamma/.OPTIMIZER_SLOT/optimizer/v/.ATTRIBUTES/VARIABLE_VALUE',\n",
       " 'layer_with_weights-0/_blocks/2/0/_block_ffn/_expand_dense/bias/.ATTRIBUTES/VARIABLE_VALUE',\n",
       " 'layer_with_weights-0/_blocks/2/0/_block_ffn/_expand_dense/bias/.OPTIMIZER_SLOT/optimizer/m/.ATTRIBUTES/VARIABLE_VALUE',\n",
       " 'layer_with_weights-0/_blocks/2/0/_block_ffn/_expand_dense/bias/.OPTIMIZER_SLOT/optimizer/v/.ATTRIBUTES/VARIABLE_VALUE',\n",
       " 'layer_with_weights-0/_blocks/2/0/_block_ffn/_expand_dense/weight/.ATTRIBUTES/VARIABLE_VALUE',\n",
       " 'layer_with_weights-0/_blocks/2/0/_block_ffn/_expand_dense/weight/.OPTIMIZER_SLOT/optimizer/m/.ATTRIBUTES/VARIABLE_VALUE',\n",
       " 'layer_with_weights-0/_blocks/2/0/_block_ffn/_expand_dense/weight/.OPTIMIZER_SLOT/optimizer/v/.ATTRIBUTES/VARIABLE_VALUE',\n",
       " 'layer_with_weights-0/_blocks/2/0/_block_ffn/_shrink_dense/bias/.ATTRIBUTES/VARIABLE_VALUE',\n",
       " 'layer_with_weights-0/_blocks/2/0/_block_ffn/_shrink_dense/bias/.OPTIMIZER_SLOT/optimizer/m/.ATTRIBUTES/VARIABLE_VALUE',\n",
       " 'layer_with_weights-0/_blocks/2/0/_block_ffn/_shrink_dense/bias/.OPTIMIZER_SLOT/optimizer/v/.ATTRIBUTES/VARIABLE_VALUE',\n",
       " 'layer_with_weights-0/_blocks/2/0/_block_ffn/_shrink_dense/weight/.ATTRIBUTES/VARIABLE_VALUE',\n",
       " 'layer_with_weights-0/_blocks/2/0/_block_ffn/_shrink_dense/weight/.OPTIMIZER_SLOT/optimizer/m/.ATTRIBUTES/VARIABLE_VALUE',\n",
       " 'layer_with_weights-0/_blocks/2/0/_block_ffn/_shrink_dense/weight/.OPTIMIZER_SLOT/optimizer/v/.ATTRIBUTES/VARIABLE_VALUE',\n",
       " 'layer_with_weights-0/_blocks/2/0/_block_ffn_layer_norm/beta/.ATTRIBUTES/VARIABLE_VALUE',\n",
       " 'layer_with_weights-0/_blocks/2/0/_block_ffn_layer_norm/beta/.OPTIMIZER_SLOT/optimizer/m/.ATTRIBUTES/VARIABLE_VALUE',\n",
       " 'layer_with_weights-0/_blocks/2/0/_block_ffn_layer_norm/beta/.OPTIMIZER_SLOT/optimizer/v/.ATTRIBUTES/VARIABLE_VALUE',\n",
       " 'layer_with_weights-0/_blocks/2/0/_block_ffn_layer_norm/gamma/.ATTRIBUTES/VARIABLE_VALUE',\n",
       " 'layer_with_weights-0/_blocks/2/0/_block_ffn_layer_norm/gamma/.OPTIMIZER_SLOT/optimizer/m/.ATTRIBUTES/VARIABLE_VALUE',\n",
       " 'layer_with_weights-0/_blocks/2/0/_block_ffn_layer_norm/gamma/.OPTIMIZER_SLOT/optimizer/v/.ATTRIBUTES/VARIABLE_VALUE',\n",
       " 'layer_with_weights-0/_blocks/2/0/_grid_attention/_k_proj/bias/.ATTRIBUTES/VARIABLE_VALUE',\n",
       " 'layer_with_weights-0/_blocks/2/0/_grid_attention/_k_proj/bias/.OPTIMIZER_SLOT/optimizer/m/.ATTRIBUTES/VARIABLE_VALUE',\n",
       " 'layer_with_weights-0/_blocks/2/0/_grid_attention/_k_proj/bias/.OPTIMIZER_SLOT/optimizer/v/.ATTRIBUTES/VARIABLE_VALUE',\n",
       " 'layer_with_weights-0/_blocks/2/0/_grid_attention/_k_proj/weight/.ATTRIBUTES/VARIABLE_VALUE',\n",
       " 'layer_with_weights-0/_blocks/2/0/_grid_attention/_k_proj/weight/.OPTIMIZER_SLOT/optimizer/m/.ATTRIBUTES/VARIABLE_VALUE',\n",
       " 'layer_with_weights-0/_blocks/2/0/_grid_attention/_k_proj/weight/.OPTIMIZER_SLOT/optimizer/v/.ATTRIBUTES/VARIABLE_VALUE',\n",
       " 'layer_with_weights-0/_blocks/2/0/_grid_attention/_o_proj/bias/.ATTRIBUTES/VARIABLE_VALUE',\n",
       " 'layer_with_weights-0/_blocks/2/0/_grid_attention/_o_proj/bias/.OPTIMIZER_SLOT/optimizer/m/.ATTRIBUTES/VARIABLE_VALUE',\n",
       " 'layer_with_weights-0/_blocks/2/0/_grid_attention/_o_proj/bias/.OPTIMIZER_SLOT/optimizer/v/.ATTRIBUTES/VARIABLE_VALUE',\n",
       " 'layer_with_weights-0/_blocks/2/0/_grid_attention/_o_proj/weight/.ATTRIBUTES/VARIABLE_VALUE',\n",
       " 'layer_with_weights-0/_blocks/2/0/_grid_attention/_o_proj/weight/.OPTIMIZER_SLOT/optimizer/m/.ATTRIBUTES/VARIABLE_VALUE',\n",
       " 'layer_with_weights-0/_blocks/2/0/_grid_attention/_o_proj/weight/.OPTIMIZER_SLOT/optimizer/v/.ATTRIBUTES/VARIABLE_VALUE',\n",
       " 'layer_with_weights-0/_blocks/2/0/_grid_attention/_q_proj/bias/.ATTRIBUTES/VARIABLE_VALUE',\n",
       " 'layer_with_weights-0/_blocks/2/0/_grid_attention/_q_proj/bias/.OPTIMIZER_SLOT/optimizer/m/.ATTRIBUTES/VARIABLE_VALUE',\n",
       " 'layer_with_weights-0/_blocks/2/0/_grid_attention/_q_proj/bias/.OPTIMIZER_SLOT/optimizer/v/.ATTRIBUTES/VARIABLE_VALUE',\n",
       " 'layer_with_weights-0/_blocks/2/0/_grid_attention/_q_proj/weight/.ATTRIBUTES/VARIABLE_VALUE',\n",
       " 'layer_with_weights-0/_blocks/2/0/_grid_attention/_q_proj/weight/.OPTIMIZER_SLOT/optimizer/m/.ATTRIBUTES/VARIABLE_VALUE',\n",
       " 'layer_with_weights-0/_blocks/2/0/_grid_attention/_q_proj/weight/.OPTIMIZER_SLOT/optimizer/v/.ATTRIBUTES/VARIABLE_VALUE',\n",
       " 'layer_with_weights-0/_blocks/2/0/_grid_attention/_v_proj/bias/.ATTRIBUTES/VARIABLE_VALUE',\n",
       " 'layer_with_weights-0/_blocks/2/0/_grid_attention/_v_proj/bias/.OPTIMIZER_SLOT/optimizer/m/.ATTRIBUTES/VARIABLE_VALUE',\n",
       " 'layer_with_weights-0/_blocks/2/0/_grid_attention/_v_proj/bias/.OPTIMIZER_SLOT/optimizer/v/.ATTRIBUTES/VARIABLE_VALUE',\n",
       " 'layer_with_weights-0/_blocks/2/0/_grid_attention/_v_proj/weight/.ATTRIBUTES/VARIABLE_VALUE',\n",
       " 'layer_with_weights-0/_blocks/2/0/_grid_attention/_v_proj/weight/.OPTIMIZER_SLOT/optimizer/m/.ATTRIBUTES/VARIABLE_VALUE',\n",
       " 'layer_with_weights-0/_blocks/2/0/_grid_attention/_v_proj/weight/.OPTIMIZER_SLOT/optimizer/v/.ATTRIBUTES/VARIABLE_VALUE',\n",
       " 'layer_with_weights-0/_blocks/2/0/_grid_attention/relative_bias/.ATTRIBUTES/VARIABLE_VALUE',\n",
       " 'layer_with_weights-0/_blocks/2/0/_grid_attn_layer_norm/beta/.ATTRIBUTES/VARIABLE_VALUE',\n",
       " 'layer_with_weights-0/_blocks/2/0/_grid_attn_layer_norm/beta/.OPTIMIZER_SLOT/optimizer/m/.ATTRIBUTES/VARIABLE_VALUE',\n",
       " 'layer_with_weights-0/_blocks/2/0/_grid_attn_layer_norm/beta/.OPTIMIZER_SLOT/optimizer/v/.ATTRIBUTES/VARIABLE_VALUE',\n",
       " 'layer_with_weights-0/_blocks/2/0/_grid_attn_layer_norm/gamma/.ATTRIBUTES/VARIABLE_VALUE',\n",
       " 'layer_with_weights-0/_blocks/2/0/_grid_attn_layer_norm/gamma/.OPTIMIZER_SLOT/optimizer/m/.ATTRIBUTES/VARIABLE_VALUE',\n",
       " 'layer_with_weights-0/_blocks/2/0/_grid_attn_layer_norm/gamma/.OPTIMIZER_SLOT/optimizer/v/.ATTRIBUTES/VARIABLE_VALUE',\n",
       " 'layer_with_weights-0/_blocks/2/0/_grid_ffn/_expand_dense/bias/.ATTRIBUTES/VARIABLE_VALUE',\n",
       " 'layer_with_weights-0/_blocks/2/0/_grid_ffn/_expand_dense/bias/.OPTIMIZER_SLOT/optimizer/m/.ATTRIBUTES/VARIABLE_VALUE',\n",
       " 'layer_with_weights-0/_blocks/2/0/_grid_ffn/_expand_dense/bias/.OPTIMIZER_SLOT/optimizer/v/.ATTRIBUTES/VARIABLE_VALUE',\n",
       " 'layer_with_weights-0/_blocks/2/0/_grid_ffn/_expand_dense/weight/.ATTRIBUTES/VARIABLE_VALUE',\n",
       " 'layer_with_weights-0/_blocks/2/0/_grid_ffn/_expand_dense/weight/.OPTIMIZER_SLOT/optimizer/m/.ATTRIBUTES/VARIABLE_VALUE',\n",
       " 'layer_with_weights-0/_blocks/2/0/_grid_ffn/_expand_dense/weight/.OPTIMIZER_SLOT/optimizer/v/.ATTRIBUTES/VARIABLE_VALUE',\n",
       " 'layer_with_weights-0/_blocks/2/0/_grid_ffn/_shrink_dense/bias/.ATTRIBUTES/VARIABLE_VALUE',\n",
       " 'layer_with_weights-0/_blocks/2/0/_grid_ffn/_shrink_dense/bias/.OPTIMIZER_SLOT/optimizer/m/.ATTRIBUTES/VARIABLE_VALUE',\n",
       " 'layer_with_weights-0/_blocks/2/0/_grid_ffn/_shrink_dense/bias/.OPTIMIZER_SLOT/optimizer/v/.ATTRIBUTES/VARIABLE_VALUE',\n",
       " 'layer_with_weights-0/_blocks/2/0/_grid_ffn/_shrink_dense/weight/.ATTRIBUTES/VARIABLE_VALUE',\n",
       " 'layer_with_weights-0/_blocks/2/0/_grid_ffn/_shrink_dense/weight/.OPTIMIZER_SLOT/optimizer/m/.ATTRIBUTES/VARIABLE_VALUE',\n",
       " 'layer_with_weights-0/_blocks/2/0/_grid_ffn/_shrink_dense/weight/.OPTIMIZER_SLOT/optimizer/v/.ATTRIBUTES/VARIABLE_VALUE',\n",
       " 'layer_with_weights-0/_blocks/2/0/_grid_ffn_layer_norm/beta/.ATTRIBUTES/VARIABLE_VALUE',\n",
       " 'layer_with_weights-0/_blocks/2/0/_grid_ffn_layer_norm/beta/.OPTIMIZER_SLOT/optimizer/m/.ATTRIBUTES/VARIABLE_VALUE',\n",
       " 'layer_with_weights-0/_blocks/2/0/_grid_ffn_layer_norm/beta/.OPTIMIZER_SLOT/optimizer/v/.ATTRIBUTES/VARIABLE_VALUE',\n",
       " 'layer_with_weights-0/_blocks/2/0/_grid_ffn_layer_norm/gamma/.ATTRIBUTES/VARIABLE_VALUE',\n",
       " 'layer_with_weights-0/_blocks/2/0/_grid_ffn_layer_norm/gamma/.OPTIMIZER_SLOT/optimizer/m/.ATTRIBUTES/VARIABLE_VALUE',\n",
       " 'layer_with_weights-0/_blocks/2/0/_grid_ffn_layer_norm/gamma/.OPTIMIZER_SLOT/optimizer/v/.ATTRIBUTES/VARIABLE_VALUE',\n",
       " 'layer_with_weights-0/_blocks/2/0/_mbconv/_depthwise_conv/depthwise_kernel/.ATTRIBUTES/VARIABLE_VALUE',\n",
       " 'layer_with_weights-0/_blocks/2/0/_mbconv/_depthwise_conv/depthwise_kernel/.OPTIMIZER_SLOT/optimizer/m/.ATTRIBUTES/VARIABLE_VALUE',\n",
       " 'layer_with_weights-0/_blocks/2/0/_mbconv/_depthwise_conv/depthwise_kernel/.OPTIMIZER_SLOT/optimizer/v/.ATTRIBUTES/VARIABLE_VALUE',\n",
       " 'layer_with_weights-0/_blocks/2/0/_mbconv/_depthwise_norm/beta/.ATTRIBUTES/VARIABLE_VALUE',\n",
       " 'layer_with_weights-0/_blocks/2/0/_mbconv/_depthwise_norm/beta/.OPTIMIZER_SLOT/optimizer/m/.ATTRIBUTES/VARIABLE_VALUE',\n",
       " 'layer_with_weights-0/_blocks/2/0/_mbconv/_depthwise_norm/beta/.OPTIMIZER_SLOT/optimizer/v/.ATTRIBUTES/VARIABLE_VALUE',\n",
       " 'layer_with_weights-0/_blocks/2/0/_mbconv/_depthwise_norm/gamma/.ATTRIBUTES/VARIABLE_VALUE',\n",
       " 'layer_with_weights-0/_blocks/2/0/_mbconv/_depthwise_norm/gamma/.OPTIMIZER_SLOT/optimizer/m/.ATTRIBUTES/VARIABLE_VALUE',\n",
       " 'layer_with_weights-0/_blocks/2/0/_mbconv/_depthwise_norm/gamma/.OPTIMIZER_SLOT/optimizer/v/.ATTRIBUTES/VARIABLE_VALUE',\n",
       " 'layer_with_weights-0/_blocks/2/0/_mbconv/_depthwise_norm/moving_mean/.ATTRIBUTES/VARIABLE_VALUE',\n",
       " 'layer_with_weights-0/_blocks/2/0/_mbconv/_depthwise_norm/moving_variance/.ATTRIBUTES/VARIABLE_VALUE',\n",
       " 'layer_with_weights-0/_blocks/2/0/_mbconv/_expand_conv/kernel/.ATTRIBUTES/VARIABLE_VALUE',\n",
       " 'layer_with_weights-0/_blocks/2/0/_mbconv/_expand_conv/kernel/.OPTIMIZER_SLOT/optimizer/m/.ATTRIBUTES/VARIABLE_VALUE',\n",
       " 'layer_with_weights-0/_blocks/2/0/_mbconv/_expand_conv/kernel/.OPTIMIZER_SLOT/optimizer/v/.ATTRIBUTES/VARIABLE_VALUE',\n",
       " 'layer_with_weights-0/_blocks/2/0/_mbconv/_expand_norm/beta/.ATTRIBUTES/VARIABLE_VALUE',\n",
       " 'layer_with_weights-0/_blocks/2/0/_mbconv/_expand_norm/beta/.OPTIMIZER_SLOT/optimizer/m/.ATTRIBUTES/VARIABLE_VALUE',\n",
       " 'layer_with_weights-0/_blocks/2/0/_mbconv/_expand_norm/beta/.OPTIMIZER_SLOT/optimizer/v/.ATTRIBUTES/VARIABLE_VALUE',\n",
       " 'layer_with_weights-0/_blocks/2/0/_mbconv/_expand_norm/gamma/.ATTRIBUTES/VARIABLE_VALUE',\n",
       " 'layer_with_weights-0/_blocks/2/0/_mbconv/_expand_norm/gamma/.OPTIMIZER_SLOT/optimizer/m/.ATTRIBUTES/VARIABLE_VALUE',\n",
       " 'layer_with_weights-0/_blocks/2/0/_mbconv/_expand_norm/gamma/.OPTIMIZER_SLOT/optimizer/v/.ATTRIBUTES/VARIABLE_VALUE',\n",
       " 'layer_with_weights-0/_blocks/2/0/_mbconv/_expand_norm/moving_mean/.ATTRIBUTES/VARIABLE_VALUE',\n",
       " 'layer_with_weights-0/_blocks/2/0/_mbconv/_expand_norm/moving_variance/.ATTRIBUTES/VARIABLE_VALUE',\n",
       " 'layer_with_weights-0/_blocks/2/0/_mbconv/_pre_norm/beta/.ATTRIBUTES/VARIABLE_VALUE',\n",
       " 'layer_with_weights-0/_blocks/2/0/_mbconv/_pre_norm/beta/.OPTIMIZER_SLOT/optimizer/m/.ATTRIBUTES/VARIABLE_VALUE',\n",
       " 'layer_with_weights-0/_blocks/2/0/_mbconv/_pre_norm/beta/.OPTIMIZER_SLOT/optimizer/v/.ATTRIBUTES/VARIABLE_VALUE',\n",
       " 'layer_with_weights-0/_blocks/2/0/_mbconv/_pre_norm/gamma/.ATTRIBUTES/VARIABLE_VALUE',\n",
       " 'layer_with_weights-0/_blocks/2/0/_mbconv/_pre_norm/gamma/.OPTIMIZER_SLOT/optimizer/m/.ATTRIBUTES/VARIABLE_VALUE',\n",
       " 'layer_with_weights-0/_blocks/2/0/_mbconv/_pre_norm/gamma/.OPTIMIZER_SLOT/optimizer/v/.ATTRIBUTES/VARIABLE_VALUE',\n",
       " 'layer_with_weights-0/_blocks/2/0/_mbconv/_pre_norm/moving_mean/.ATTRIBUTES/VARIABLE_VALUE',\n",
       " 'layer_with_weights-0/_blocks/2/0/_mbconv/_pre_norm/moving_variance/.ATTRIBUTES/VARIABLE_VALUE',\n",
       " 'layer_with_weights-0/_blocks/2/0/_mbconv/_se/_se_expand/bias/.ATTRIBUTES/VARIABLE_VALUE',\n",
       " 'layer_with_weights-0/_blocks/2/0/_mbconv/_se/_se_expand/bias/.OPTIMIZER_SLOT/optimizer/m/.ATTRIBUTES/VARIABLE_VALUE',\n",
       " 'layer_with_weights-0/_blocks/2/0/_mbconv/_se/_se_expand/bias/.OPTIMIZER_SLOT/optimizer/v/.ATTRIBUTES/VARIABLE_VALUE',\n",
       " 'layer_with_weights-0/_blocks/2/0/_mbconv/_se/_se_expand/kernel/.ATTRIBUTES/VARIABLE_VALUE',\n",
       " 'layer_with_weights-0/_blocks/2/0/_mbconv/_se/_se_expand/kernel/.OPTIMIZER_SLOT/optimizer/m/.ATTRIBUTES/VARIABLE_VALUE',\n",
       " 'layer_with_weights-0/_blocks/2/0/_mbconv/_se/_se_expand/kernel/.OPTIMIZER_SLOT/optimizer/v/.ATTRIBUTES/VARIABLE_VALUE',\n",
       " 'layer_with_weights-0/_blocks/2/0/_mbconv/_se/_se_reduce/bias/.ATTRIBUTES/VARIABLE_VALUE',\n",
       " 'layer_with_weights-0/_blocks/2/0/_mbconv/_se/_se_reduce/bias/.OPTIMIZER_SLOT/optimizer/m/.ATTRIBUTES/VARIABLE_VALUE',\n",
       " 'layer_with_weights-0/_blocks/2/0/_mbconv/_se/_se_reduce/bias/.OPTIMIZER_SLOT/optimizer/v/.ATTRIBUTES/VARIABLE_VALUE',\n",
       " 'layer_with_weights-0/_blocks/2/0/_mbconv/_se/_se_reduce/kernel/.ATTRIBUTES/VARIABLE_VALUE',\n",
       " 'layer_with_weights-0/_blocks/2/0/_mbconv/_se/_se_reduce/kernel/.OPTIMIZER_SLOT/optimizer/m/.ATTRIBUTES/VARIABLE_VALUE',\n",
       " 'layer_with_weights-0/_blocks/2/0/_mbconv/_se/_se_reduce/kernel/.OPTIMIZER_SLOT/optimizer/v/.ATTRIBUTES/VARIABLE_VALUE',\n",
       " 'layer_with_weights-0/_blocks/2/0/_mbconv/_shortcut_conv/bias/.ATTRIBUTES/VARIABLE_VALUE',\n",
       " 'layer_with_weights-0/_blocks/2/0/_mbconv/_shortcut_conv/bias/.OPTIMIZER_SLOT/optimizer/m/.ATTRIBUTES/VARIABLE_VALUE',\n",
       " 'layer_with_weights-0/_blocks/2/0/_mbconv/_shortcut_conv/bias/.OPTIMIZER_SLOT/optimizer/v/.ATTRIBUTES/VARIABLE_VALUE',\n",
       " 'layer_with_weights-0/_blocks/2/0/_mbconv/_shortcut_conv/kernel/.ATTRIBUTES/VARIABLE_VALUE',\n",
       " 'layer_with_weights-0/_blocks/2/0/_mbconv/_shortcut_conv/kernel/.OPTIMIZER_SLOT/optimizer/m/.ATTRIBUTES/VARIABLE_VALUE',\n",
       " 'layer_with_weights-0/_blocks/2/0/_mbconv/_shortcut_conv/kernel/.OPTIMIZER_SLOT/optimizer/v/.ATTRIBUTES/VARIABLE_VALUE',\n",
       " 'layer_with_weights-0/_blocks/2/0/_mbconv/_shrink_conv/bias/.ATTRIBUTES/VARIABLE_VALUE',\n",
       " 'layer_with_weights-0/_blocks/2/0/_mbconv/_shrink_conv/bias/.OPTIMIZER_SLOT/optimizer/m/.ATTRIBUTES/VARIABLE_VALUE',\n",
       " 'layer_with_weights-0/_blocks/2/0/_mbconv/_shrink_conv/bias/.OPTIMIZER_SLOT/optimizer/v/.ATTRIBUTES/VARIABLE_VALUE',\n",
       " 'layer_with_weights-0/_blocks/2/0/_mbconv/_shrink_conv/kernel/.ATTRIBUTES/VARIABLE_VALUE',\n",
       " 'layer_with_weights-0/_blocks/2/0/_mbconv/_shrink_conv/kernel/.OPTIMIZER_SLOT/optimizer/m/.ATTRIBUTES/VARIABLE_VALUE',\n",
       " 'layer_with_weights-0/_blocks/2/0/_mbconv/_shrink_conv/kernel/.OPTIMIZER_SLOT/optimizer/v/.ATTRIBUTES/VARIABLE_VALUE',\n",
       " 'layer_with_weights-0/_blocks/2/1/_block_attention/_k_proj/bias/.ATTRIBUTES/VARIABLE_VALUE',\n",
       " 'layer_with_weights-0/_blocks/2/1/_block_attention/_k_proj/bias/.OPTIMIZER_SLOT/optimizer/m/.ATTRIBUTES/VARIABLE_VALUE',\n",
       " 'layer_with_weights-0/_blocks/2/1/_block_attention/_k_proj/bias/.OPTIMIZER_SLOT/optimizer/v/.ATTRIBUTES/VARIABLE_VALUE',\n",
       " 'layer_with_weights-0/_blocks/2/1/_block_attention/_k_proj/weight/.ATTRIBUTES/VARIABLE_VALUE',\n",
       " 'layer_with_weights-0/_blocks/2/1/_block_attention/_k_proj/weight/.OPTIMIZER_SLOT/optimizer/m/.ATTRIBUTES/VARIABLE_VALUE',\n",
       " 'layer_with_weights-0/_blocks/2/1/_block_attention/_k_proj/weight/.OPTIMIZER_SLOT/optimizer/v/.ATTRIBUTES/VARIABLE_VALUE',\n",
       " 'layer_with_weights-0/_blocks/2/1/_block_attention/_o_proj/bias/.ATTRIBUTES/VARIABLE_VALUE',\n",
       " 'layer_with_weights-0/_blocks/2/1/_block_attention/_o_proj/bias/.OPTIMIZER_SLOT/optimizer/m/.ATTRIBUTES/VARIABLE_VALUE',\n",
       " 'layer_with_weights-0/_blocks/2/1/_block_attention/_o_proj/bias/.OPTIMIZER_SLOT/optimizer/v/.ATTRIBUTES/VARIABLE_VALUE',\n",
       " 'layer_with_weights-0/_blocks/2/1/_block_attention/_o_proj/weight/.ATTRIBUTES/VARIABLE_VALUE',\n",
       " 'layer_with_weights-0/_blocks/2/1/_block_attention/_o_proj/weight/.OPTIMIZER_SLOT/optimizer/m/.ATTRIBUTES/VARIABLE_VALUE',\n",
       " 'layer_with_weights-0/_blocks/2/1/_block_attention/_o_proj/weight/.OPTIMIZER_SLOT/optimizer/v/.ATTRIBUTES/VARIABLE_VALUE',\n",
       " 'layer_with_weights-0/_blocks/2/1/_block_attention/_q_proj/bias/.ATTRIBUTES/VARIABLE_VALUE',\n",
       " 'layer_with_weights-0/_blocks/2/1/_block_attention/_q_proj/bias/.OPTIMIZER_SLOT/optimizer/m/.ATTRIBUTES/VARIABLE_VALUE',\n",
       " 'layer_with_weights-0/_blocks/2/1/_block_attention/_q_proj/bias/.OPTIMIZER_SLOT/optimizer/v/.ATTRIBUTES/VARIABLE_VALUE',\n",
       " 'layer_with_weights-0/_blocks/2/1/_block_attention/_q_proj/weight/.ATTRIBUTES/VARIABLE_VALUE',\n",
       " 'layer_with_weights-0/_blocks/2/1/_block_attention/_q_proj/weight/.OPTIMIZER_SLOT/optimizer/m/.ATTRIBUTES/VARIABLE_VALUE',\n",
       " 'layer_with_weights-0/_blocks/2/1/_block_attention/_q_proj/weight/.OPTIMIZER_SLOT/optimizer/v/.ATTRIBUTES/VARIABLE_VALUE',\n",
       " 'layer_with_weights-0/_blocks/2/1/_block_attention/_v_proj/bias/.ATTRIBUTES/VARIABLE_VALUE',\n",
       " 'layer_with_weights-0/_blocks/2/1/_block_attention/_v_proj/bias/.OPTIMIZER_SLOT/optimizer/m/.ATTRIBUTES/VARIABLE_VALUE',\n",
       " 'layer_with_weights-0/_blocks/2/1/_block_attention/_v_proj/bias/.OPTIMIZER_SLOT/optimizer/v/.ATTRIBUTES/VARIABLE_VALUE',\n",
       " 'layer_with_weights-0/_blocks/2/1/_block_attention/_v_proj/weight/.ATTRIBUTES/VARIABLE_VALUE',\n",
       " 'layer_with_weights-0/_blocks/2/1/_block_attention/_v_proj/weight/.OPTIMIZER_SLOT/optimizer/m/.ATTRIBUTES/VARIABLE_VALUE',\n",
       " 'layer_with_weights-0/_blocks/2/1/_block_attention/_v_proj/weight/.OPTIMIZER_SLOT/optimizer/v/.ATTRIBUTES/VARIABLE_VALUE',\n",
       " 'layer_with_weights-0/_blocks/2/1/_block_attention/relative_bias/.ATTRIBUTES/VARIABLE_VALUE',\n",
       " 'layer_with_weights-0/_blocks/2/1/_block_attn_layer_norm/beta/.ATTRIBUTES/VARIABLE_VALUE',\n",
       " 'layer_with_weights-0/_blocks/2/1/_block_attn_layer_norm/beta/.OPTIMIZER_SLOT/optimizer/m/.ATTRIBUTES/VARIABLE_VALUE',\n",
       " 'layer_with_weights-0/_blocks/2/1/_block_attn_layer_norm/beta/.OPTIMIZER_SLOT/optimizer/v/.ATTRIBUTES/VARIABLE_VALUE',\n",
       " 'layer_with_weights-0/_blocks/2/1/_block_attn_layer_norm/gamma/.ATTRIBUTES/VARIABLE_VALUE',\n",
       " 'layer_with_weights-0/_blocks/2/1/_block_attn_layer_norm/gamma/.OPTIMIZER_SLOT/optimizer/m/.ATTRIBUTES/VARIABLE_VALUE',\n",
       " 'layer_with_weights-0/_blocks/2/1/_block_attn_layer_norm/gamma/.OPTIMIZER_SLOT/optimizer/v/.ATTRIBUTES/VARIABLE_VALUE',\n",
       " 'layer_with_weights-0/_blocks/2/1/_block_ffn/_expand_dense/bias/.ATTRIBUTES/VARIABLE_VALUE',\n",
       " 'layer_with_weights-0/_blocks/2/1/_block_ffn/_expand_dense/bias/.OPTIMIZER_SLOT/optimizer/m/.ATTRIBUTES/VARIABLE_VALUE',\n",
       " 'layer_with_weights-0/_blocks/2/1/_block_ffn/_expand_dense/bias/.OPTIMIZER_SLOT/optimizer/v/.ATTRIBUTES/VARIABLE_VALUE',\n",
       " 'layer_with_weights-0/_blocks/2/1/_block_ffn/_expand_dense/weight/.ATTRIBUTES/VARIABLE_VALUE',\n",
       " 'layer_with_weights-0/_blocks/2/1/_block_ffn/_expand_dense/weight/.OPTIMIZER_SLOT/optimizer/m/.ATTRIBUTES/VARIABLE_VALUE',\n",
       " 'layer_with_weights-0/_blocks/2/1/_block_ffn/_expand_dense/weight/.OPTIMIZER_SLOT/optimizer/v/.ATTRIBUTES/VARIABLE_VALUE',\n",
       " 'layer_with_weights-0/_blocks/2/1/_block_ffn/_shrink_dense/bias/.ATTRIBUTES/VARIABLE_VALUE',\n",
       " 'layer_with_weights-0/_blocks/2/1/_block_ffn/_shrink_dense/bias/.OPTIMIZER_SLOT/optimizer/m/.ATTRIBUTES/VARIABLE_VALUE',\n",
       " 'layer_with_weights-0/_blocks/2/1/_block_ffn/_shrink_dense/bias/.OPTIMIZER_SLOT/optimizer/v/.ATTRIBUTES/VARIABLE_VALUE',\n",
       " 'layer_with_weights-0/_blocks/2/1/_block_ffn/_shrink_dense/weight/.ATTRIBUTES/VARIABLE_VALUE',\n",
       " 'layer_with_weights-0/_blocks/2/1/_block_ffn/_shrink_dense/weight/.OPTIMIZER_SLOT/optimizer/m/.ATTRIBUTES/VARIABLE_VALUE',\n",
       " 'layer_with_weights-0/_blocks/2/1/_block_ffn/_shrink_dense/weight/.OPTIMIZER_SLOT/optimizer/v/.ATTRIBUTES/VARIABLE_VALUE',\n",
       " 'layer_with_weights-0/_blocks/2/1/_block_ffn_layer_norm/beta/.ATTRIBUTES/VARIABLE_VALUE',\n",
       " 'layer_with_weights-0/_blocks/2/1/_block_ffn_layer_norm/beta/.OPTIMIZER_SLOT/optimizer/m/.ATTRIBUTES/VARIABLE_VALUE',\n",
       " 'layer_with_weights-0/_blocks/2/1/_block_ffn_layer_norm/beta/.OPTIMIZER_SLOT/optimizer/v/.ATTRIBUTES/VARIABLE_VALUE',\n",
       " 'layer_with_weights-0/_blocks/2/1/_block_ffn_layer_norm/gamma/.ATTRIBUTES/VARIABLE_VALUE',\n",
       " 'layer_with_weights-0/_blocks/2/1/_block_ffn_layer_norm/gamma/.OPTIMIZER_SLOT/optimizer/m/.ATTRIBUTES/VARIABLE_VALUE',\n",
       " 'layer_with_weights-0/_blocks/2/1/_block_ffn_layer_norm/gamma/.OPTIMIZER_SLOT/optimizer/v/.ATTRIBUTES/VARIABLE_VALUE',\n",
       " 'layer_with_weights-0/_blocks/2/1/_grid_attention/_k_proj/bias/.ATTRIBUTES/VARIABLE_VALUE',\n",
       " 'layer_with_weights-0/_blocks/2/1/_grid_attention/_k_proj/bias/.OPTIMIZER_SLOT/optimizer/m/.ATTRIBUTES/VARIABLE_VALUE',\n",
       " 'layer_with_weights-0/_blocks/2/1/_grid_attention/_k_proj/bias/.OPTIMIZER_SLOT/optimizer/v/.ATTRIBUTES/VARIABLE_VALUE',\n",
       " 'layer_with_weights-0/_blocks/2/1/_grid_attention/_k_proj/weight/.ATTRIBUTES/VARIABLE_VALUE',\n",
       " 'layer_with_weights-0/_blocks/2/1/_grid_attention/_k_proj/weight/.OPTIMIZER_SLOT/optimizer/m/.ATTRIBUTES/VARIABLE_VALUE',\n",
       " 'layer_with_weights-0/_blocks/2/1/_grid_attention/_k_proj/weight/.OPTIMIZER_SLOT/optimizer/v/.ATTRIBUTES/VARIABLE_VALUE',\n",
       " 'layer_with_weights-0/_blocks/2/1/_grid_attention/_o_proj/bias/.ATTRIBUTES/VARIABLE_VALUE',\n",
       " 'layer_with_weights-0/_blocks/2/1/_grid_attention/_o_proj/bias/.OPTIMIZER_SLOT/optimizer/m/.ATTRIBUTES/VARIABLE_VALUE',\n",
       " 'layer_with_weights-0/_blocks/2/1/_grid_attention/_o_proj/bias/.OPTIMIZER_SLOT/optimizer/v/.ATTRIBUTES/VARIABLE_VALUE',\n",
       " 'layer_with_weights-0/_blocks/2/1/_grid_attention/_o_proj/weight/.ATTRIBUTES/VARIABLE_VALUE',\n",
       " 'layer_with_weights-0/_blocks/2/1/_grid_attention/_o_proj/weight/.OPTIMIZER_SLOT/optimizer/m/.ATTRIBUTES/VARIABLE_VALUE',\n",
       " 'layer_with_weights-0/_blocks/2/1/_grid_attention/_o_proj/weight/.OPTIMIZER_SLOT/optimizer/v/.ATTRIBUTES/VARIABLE_VALUE',\n",
       " 'layer_with_weights-0/_blocks/2/1/_grid_attention/_q_proj/bias/.ATTRIBUTES/VARIABLE_VALUE',\n",
       " 'layer_with_weights-0/_blocks/2/1/_grid_attention/_q_proj/bias/.OPTIMIZER_SLOT/optimizer/m/.ATTRIBUTES/VARIABLE_VALUE',\n",
       " 'layer_with_weights-0/_blocks/2/1/_grid_attention/_q_proj/bias/.OPTIMIZER_SLOT/optimizer/v/.ATTRIBUTES/VARIABLE_VALUE',\n",
       " 'layer_with_weights-0/_blocks/2/1/_grid_attention/_q_proj/weight/.ATTRIBUTES/VARIABLE_VALUE',\n",
       " 'layer_with_weights-0/_blocks/2/1/_grid_attention/_q_proj/weight/.OPTIMIZER_SLOT/optimizer/m/.ATTRIBUTES/VARIABLE_VALUE',\n",
       " 'layer_with_weights-0/_blocks/2/1/_grid_attention/_q_proj/weight/.OPTIMIZER_SLOT/optimizer/v/.ATTRIBUTES/VARIABLE_VALUE',\n",
       " 'layer_with_weights-0/_blocks/2/1/_grid_attention/_v_proj/bias/.ATTRIBUTES/VARIABLE_VALUE',\n",
       " 'layer_with_weights-0/_blocks/2/1/_grid_attention/_v_proj/bias/.OPTIMIZER_SLOT/optimizer/m/.ATTRIBUTES/VARIABLE_VALUE',\n",
       " 'layer_with_weights-0/_blocks/2/1/_grid_attention/_v_proj/bias/.OPTIMIZER_SLOT/optimizer/v/.ATTRIBUTES/VARIABLE_VALUE',\n",
       " 'layer_with_weights-0/_blocks/2/1/_grid_attention/_v_proj/weight/.ATTRIBUTES/VARIABLE_VALUE',\n",
       " 'layer_with_weights-0/_blocks/2/1/_grid_attention/_v_proj/weight/.OPTIMIZER_SLOT/optimizer/m/.ATTRIBUTES/VARIABLE_VALUE',\n",
       " 'layer_with_weights-0/_blocks/2/1/_grid_attention/_v_proj/weight/.OPTIMIZER_SLOT/optimizer/v/.ATTRIBUTES/VARIABLE_VALUE',\n",
       " 'layer_with_weights-0/_blocks/2/1/_grid_attention/relative_bias/.ATTRIBUTES/VARIABLE_VALUE',\n",
       " 'layer_with_weights-0/_blocks/2/1/_grid_attn_layer_norm/beta/.ATTRIBUTES/VARIABLE_VALUE',\n",
       " 'layer_with_weights-0/_blocks/2/1/_grid_attn_layer_norm/beta/.OPTIMIZER_SLOT/optimizer/m/.ATTRIBUTES/VARIABLE_VALUE',\n",
       " 'layer_with_weights-0/_blocks/2/1/_grid_attn_layer_norm/beta/.OPTIMIZER_SLOT/optimizer/v/.ATTRIBUTES/VARIABLE_VALUE',\n",
       " 'layer_with_weights-0/_blocks/2/1/_grid_attn_layer_norm/gamma/.ATTRIBUTES/VARIABLE_VALUE',\n",
       " 'layer_with_weights-0/_blocks/2/1/_grid_attn_layer_norm/gamma/.OPTIMIZER_SLOT/optimizer/m/.ATTRIBUTES/VARIABLE_VALUE',\n",
       " 'layer_with_weights-0/_blocks/2/1/_grid_attn_layer_norm/gamma/.OPTIMIZER_SLOT/optimizer/v/.ATTRIBUTES/VARIABLE_VALUE',\n",
       " 'layer_with_weights-0/_blocks/2/1/_grid_ffn/_expand_dense/bias/.ATTRIBUTES/VARIABLE_VALUE',\n",
       " 'layer_with_weights-0/_blocks/2/1/_grid_ffn/_expand_dense/bias/.OPTIMIZER_SLOT/optimizer/m/.ATTRIBUTES/VARIABLE_VALUE',\n",
       " 'layer_with_weights-0/_blocks/2/1/_grid_ffn/_expand_dense/bias/.OPTIMIZER_SLOT/optimizer/v/.ATTRIBUTES/VARIABLE_VALUE',\n",
       " 'layer_with_weights-0/_blocks/2/1/_grid_ffn/_expand_dense/weight/.ATTRIBUTES/VARIABLE_VALUE',\n",
       " 'layer_with_weights-0/_blocks/2/1/_grid_ffn/_expand_dense/weight/.OPTIMIZER_SLOT/optimizer/m/.ATTRIBUTES/VARIABLE_VALUE',\n",
       " 'layer_with_weights-0/_blocks/2/1/_grid_ffn/_expand_dense/weight/.OPTIMIZER_SLOT/optimizer/v/.ATTRIBUTES/VARIABLE_VALUE',\n",
       " 'layer_with_weights-0/_blocks/2/1/_grid_ffn/_shrink_dense/bias/.ATTRIBUTES/VARIABLE_VALUE',\n",
       " 'layer_with_weights-0/_blocks/2/1/_grid_ffn/_shrink_dense/bias/.OPTIMIZER_SLOT/optimizer/m/.ATTRIBUTES/VARIABLE_VALUE',\n",
       " 'layer_with_weights-0/_blocks/2/1/_grid_ffn/_shrink_dense/bias/.OPTIMIZER_SLOT/optimizer/v/.ATTRIBUTES/VARIABLE_VALUE',\n",
       " 'layer_with_weights-0/_blocks/2/1/_grid_ffn/_shrink_dense/weight/.ATTRIBUTES/VARIABLE_VALUE',\n",
       " 'layer_with_weights-0/_blocks/2/1/_grid_ffn/_shrink_dense/weight/.OPTIMIZER_SLOT/optimizer/m/.ATTRIBUTES/VARIABLE_VALUE',\n",
       " 'layer_with_weights-0/_blocks/2/1/_grid_ffn/_shrink_dense/weight/.OPTIMIZER_SLOT/optimizer/v/.ATTRIBUTES/VARIABLE_VALUE',\n",
       " 'layer_with_weights-0/_blocks/2/1/_grid_ffn_layer_norm/beta/.ATTRIBUTES/VARIABLE_VALUE',\n",
       " 'layer_with_weights-0/_blocks/2/1/_grid_ffn_layer_norm/beta/.OPTIMIZER_SLOT/optimizer/m/.ATTRIBUTES/VARIABLE_VALUE',\n",
       " 'layer_with_weights-0/_blocks/2/1/_grid_ffn_layer_norm/beta/.OPTIMIZER_SLOT/optimizer/v/.ATTRIBUTES/VARIABLE_VALUE',\n",
       " 'layer_with_weights-0/_blocks/2/1/_grid_ffn_layer_norm/gamma/.ATTRIBUTES/VARIABLE_VALUE',\n",
       " 'layer_with_weights-0/_blocks/2/1/_grid_ffn_layer_norm/gamma/.OPTIMIZER_SLOT/optimizer/m/.ATTRIBUTES/VARIABLE_VALUE',\n",
       " 'layer_with_weights-0/_blocks/2/1/_grid_ffn_layer_norm/gamma/.OPTIMIZER_SLOT/optimizer/v/.ATTRIBUTES/VARIABLE_VALUE',\n",
       " 'layer_with_weights-0/_blocks/2/1/_mbconv/_depthwise_conv/depthwise_kernel/.ATTRIBUTES/VARIABLE_VALUE',\n",
       " 'layer_with_weights-0/_blocks/2/1/_mbconv/_depthwise_conv/depthwise_kernel/.OPTIMIZER_SLOT/optimizer/m/.ATTRIBUTES/VARIABLE_VALUE',\n",
       " 'layer_with_weights-0/_blocks/2/1/_mbconv/_depthwise_conv/depthwise_kernel/.OPTIMIZER_SLOT/optimizer/v/.ATTRIBUTES/VARIABLE_VALUE',\n",
       " 'layer_with_weights-0/_blocks/2/1/_mbconv/_depthwise_norm/beta/.ATTRIBUTES/VARIABLE_VALUE',\n",
       " 'layer_with_weights-0/_blocks/2/1/_mbconv/_depthwise_norm/beta/.OPTIMIZER_SLOT/optimizer/m/.ATTRIBUTES/VARIABLE_VALUE',\n",
       " 'layer_with_weights-0/_blocks/2/1/_mbconv/_depthwise_norm/beta/.OPTIMIZER_SLOT/optimizer/v/.ATTRIBUTES/VARIABLE_VALUE',\n",
       " 'layer_with_weights-0/_blocks/2/1/_mbconv/_depthwise_norm/gamma/.ATTRIBUTES/VARIABLE_VALUE',\n",
       " 'layer_with_weights-0/_blocks/2/1/_mbconv/_depthwise_norm/gamma/.OPTIMIZER_SLOT/optimizer/m/.ATTRIBUTES/VARIABLE_VALUE',\n",
       " 'layer_with_weights-0/_blocks/2/1/_mbconv/_depthwise_norm/gamma/.OPTIMIZER_SLOT/optimizer/v/.ATTRIBUTES/VARIABLE_VALUE',\n",
       " 'layer_with_weights-0/_blocks/2/1/_mbconv/_depthwise_norm/moving_mean/.ATTRIBUTES/VARIABLE_VALUE',\n",
       " 'layer_with_weights-0/_blocks/2/1/_mbconv/_depthwise_norm/moving_variance/.ATTRIBUTES/VARIABLE_VALUE',\n",
       " 'layer_with_weights-0/_blocks/2/1/_mbconv/_expand_conv/kernel/.ATTRIBUTES/VARIABLE_VALUE',\n",
       " 'layer_with_weights-0/_blocks/2/1/_mbconv/_expand_conv/kernel/.OPTIMIZER_SLOT/optimizer/m/.ATTRIBUTES/VARIABLE_VALUE',\n",
       " 'layer_with_weights-0/_blocks/2/1/_mbconv/_expand_conv/kernel/.OPTIMIZER_SLOT/optimizer/v/.ATTRIBUTES/VARIABLE_VALUE',\n",
       " 'layer_with_weights-0/_blocks/2/1/_mbconv/_expand_norm/beta/.ATTRIBUTES/VARIABLE_VALUE',\n",
       " 'layer_with_weights-0/_blocks/2/1/_mbconv/_expand_norm/beta/.OPTIMIZER_SLOT/optimizer/m/.ATTRIBUTES/VARIABLE_VALUE',\n",
       " 'layer_with_weights-0/_blocks/2/1/_mbconv/_expand_norm/beta/.OPTIMIZER_SLOT/optimizer/v/.ATTRIBUTES/VARIABLE_VALUE',\n",
       " 'layer_with_weights-0/_blocks/2/1/_mbconv/_expand_norm/gamma/.ATTRIBUTES/VARIABLE_VALUE',\n",
       " 'layer_with_weights-0/_blocks/2/1/_mbconv/_expand_norm/gamma/.OPTIMIZER_SLOT/optimizer/m/.ATTRIBUTES/VARIABLE_VALUE',\n",
       " 'layer_with_weights-0/_blocks/2/1/_mbconv/_expand_norm/gamma/.OPTIMIZER_SLOT/optimizer/v/.ATTRIBUTES/VARIABLE_VALUE',\n",
       " 'layer_with_weights-0/_blocks/2/1/_mbconv/_expand_norm/moving_mean/.ATTRIBUTES/VARIABLE_VALUE',\n",
       " 'layer_with_weights-0/_blocks/2/1/_mbconv/_expand_norm/moving_variance/.ATTRIBUTES/VARIABLE_VALUE',\n",
       " 'layer_with_weights-0/_blocks/2/1/_mbconv/_pre_norm/beta/.ATTRIBUTES/VARIABLE_VALUE',\n",
       " 'layer_with_weights-0/_blocks/2/1/_mbconv/_pre_norm/beta/.OPTIMIZER_SLOT/optimizer/m/.ATTRIBUTES/VARIABLE_VALUE',\n",
       " 'layer_with_weights-0/_blocks/2/1/_mbconv/_pre_norm/beta/.OPTIMIZER_SLOT/optimizer/v/.ATTRIBUTES/VARIABLE_VALUE',\n",
       " 'layer_with_weights-0/_blocks/2/1/_mbconv/_pre_norm/gamma/.ATTRIBUTES/VARIABLE_VALUE',\n",
       " 'layer_with_weights-0/_blocks/2/1/_mbconv/_pre_norm/gamma/.OPTIMIZER_SLOT/optimizer/m/.ATTRIBUTES/VARIABLE_VALUE',\n",
       " 'layer_with_weights-0/_blocks/2/1/_mbconv/_pre_norm/gamma/.OPTIMIZER_SLOT/optimizer/v/.ATTRIBUTES/VARIABLE_VALUE',\n",
       " 'layer_with_weights-0/_blocks/2/1/_mbconv/_pre_norm/moving_mean/.ATTRIBUTES/VARIABLE_VALUE',\n",
       " 'layer_with_weights-0/_blocks/2/1/_mbconv/_pre_norm/moving_variance/.ATTRIBUTES/VARIABLE_VALUE',\n",
       " 'layer_with_weights-0/_blocks/2/1/_mbconv/_se/_se_expand/bias/.ATTRIBUTES/VARIABLE_VALUE',\n",
       " 'layer_with_weights-0/_blocks/2/1/_mbconv/_se/_se_expand/bias/.OPTIMIZER_SLOT/optimizer/m/.ATTRIBUTES/VARIABLE_VALUE',\n",
       " 'layer_with_weights-0/_blocks/2/1/_mbconv/_se/_se_expand/bias/.OPTIMIZER_SLOT/optimizer/v/.ATTRIBUTES/VARIABLE_VALUE',\n",
       " 'layer_with_weights-0/_blocks/2/1/_mbconv/_se/_se_expand/kernel/.ATTRIBUTES/VARIABLE_VALUE',\n",
       " 'layer_with_weights-0/_blocks/2/1/_mbconv/_se/_se_expand/kernel/.OPTIMIZER_SLOT/optimizer/m/.ATTRIBUTES/VARIABLE_VALUE',\n",
       " 'layer_with_weights-0/_blocks/2/1/_mbconv/_se/_se_expand/kernel/.OPTIMIZER_SLOT/optimizer/v/.ATTRIBUTES/VARIABLE_VALUE',\n",
       " 'layer_with_weights-0/_blocks/2/1/_mbconv/_se/_se_reduce/bias/.ATTRIBUTES/VARIABLE_VALUE',\n",
       " 'layer_with_weights-0/_blocks/2/1/_mbconv/_se/_se_reduce/bias/.OPTIMIZER_SLOT/optimizer/m/.ATTRIBUTES/VARIABLE_VALUE',\n",
       " 'layer_with_weights-0/_blocks/2/1/_mbconv/_se/_se_reduce/bias/.OPTIMIZER_SLOT/optimizer/v/.ATTRIBUTES/VARIABLE_VALUE',\n",
       " 'layer_with_weights-0/_blocks/2/1/_mbconv/_se/_se_reduce/kernel/.ATTRIBUTES/VARIABLE_VALUE',\n",
       " 'layer_with_weights-0/_blocks/2/1/_mbconv/_se/_se_reduce/kernel/.OPTIMIZER_SLOT/optimizer/m/.ATTRIBUTES/VARIABLE_VALUE',\n",
       " 'layer_with_weights-0/_blocks/2/1/_mbconv/_se/_se_reduce/kernel/.OPTIMIZER_SLOT/optimizer/v/.ATTRIBUTES/VARIABLE_VALUE',\n",
       " 'layer_with_weights-0/_blocks/2/1/_mbconv/_shrink_conv/bias/.ATTRIBUTES/VARIABLE_VALUE',\n",
       " 'layer_with_weights-0/_blocks/2/1/_mbconv/_shrink_conv/bias/.OPTIMIZER_SLOT/optimizer/m/.ATTRIBUTES/VARIABLE_VALUE',\n",
       " 'layer_with_weights-0/_blocks/2/1/_mbconv/_shrink_conv/bias/.OPTIMIZER_SLOT/optimizer/v/.ATTRIBUTES/VARIABLE_VALUE',\n",
       " 'layer_with_weights-0/_blocks/2/1/_mbconv/_shrink_conv/kernel/.ATTRIBUTES/VARIABLE_VALUE',\n",
       " 'layer_with_weights-0/_blocks/2/1/_mbconv/_shrink_conv/kernel/.OPTIMIZER_SLOT/optimizer/m/.ATTRIBUTES/VARIABLE_VALUE',\n",
       " 'layer_with_weights-0/_blocks/2/1/_mbconv/_shrink_conv/kernel/.OPTIMIZER_SLOT/optimizer/v/.ATTRIBUTES/VARIABLE_VALUE',\n",
       " 'layer_with_weights-0/_blocks/2/2/_block_attention/_k_proj/bias/.ATTRIBUTES/VARIABLE_VALUE',\n",
       " 'layer_with_weights-0/_blocks/2/2/_block_attention/_k_proj/bias/.OPTIMIZER_SLOT/optimizer/m/.ATTRIBUTES/VARIABLE_VALUE',\n",
       " 'layer_with_weights-0/_blocks/2/2/_block_attention/_k_proj/bias/.OPTIMIZER_SLOT/optimizer/v/.ATTRIBUTES/VARIABLE_VALUE',\n",
       " 'layer_with_weights-0/_blocks/2/2/_block_attention/_k_proj/weight/.ATTRIBUTES/VARIABLE_VALUE',\n",
       " 'layer_with_weights-0/_blocks/2/2/_block_attention/_k_proj/weight/.OPTIMIZER_SLOT/optimizer/m/.ATTRIBUTES/VARIABLE_VALUE',\n",
       " 'layer_with_weights-0/_blocks/2/2/_block_attention/_k_proj/weight/.OPTIMIZER_SLOT/optimizer/v/.ATTRIBUTES/VARIABLE_VALUE',\n",
       " 'layer_with_weights-0/_blocks/2/2/_block_attention/_o_proj/bias/.ATTRIBUTES/VARIABLE_VALUE',\n",
       " 'layer_with_weights-0/_blocks/2/2/_block_attention/_o_proj/bias/.OPTIMIZER_SLOT/optimizer/m/.ATTRIBUTES/VARIABLE_VALUE',\n",
       " 'layer_with_weights-0/_blocks/2/2/_block_attention/_o_proj/bias/.OPTIMIZER_SLOT/optimizer/v/.ATTRIBUTES/VARIABLE_VALUE',\n",
       " 'layer_with_weights-0/_blocks/2/2/_block_attention/_o_proj/weight/.ATTRIBUTES/VARIABLE_VALUE',\n",
       " 'layer_with_weights-0/_blocks/2/2/_block_attention/_o_proj/weight/.OPTIMIZER_SLOT/optimizer/m/.ATTRIBUTES/VARIABLE_VALUE',\n",
       " 'layer_with_weights-0/_blocks/2/2/_block_attention/_o_proj/weight/.OPTIMIZER_SLOT/optimizer/v/.ATTRIBUTES/VARIABLE_VALUE',\n",
       " 'layer_with_weights-0/_blocks/2/2/_block_attention/_q_proj/bias/.ATTRIBUTES/VARIABLE_VALUE',\n",
       " 'layer_with_weights-0/_blocks/2/2/_block_attention/_q_proj/bias/.OPTIMIZER_SLOT/optimizer/m/.ATTRIBUTES/VARIABLE_VALUE',\n",
       " 'layer_with_weights-0/_blocks/2/2/_block_attention/_q_proj/bias/.OPTIMIZER_SLOT/optimizer/v/.ATTRIBUTES/VARIABLE_VALUE',\n",
       " 'layer_with_weights-0/_blocks/2/2/_block_attention/_q_proj/weight/.ATTRIBUTES/VARIABLE_VALUE',\n",
       " 'layer_with_weights-0/_blocks/2/2/_block_attention/_q_proj/weight/.OPTIMIZER_SLOT/optimizer/m/.ATTRIBUTES/VARIABLE_VALUE',\n",
       " 'layer_with_weights-0/_blocks/2/2/_block_attention/_q_proj/weight/.OPTIMIZER_SLOT/optimizer/v/.ATTRIBUTES/VARIABLE_VALUE',\n",
       " 'layer_with_weights-0/_blocks/2/2/_block_attention/_v_proj/bias/.ATTRIBUTES/VARIABLE_VALUE',\n",
       " 'layer_with_weights-0/_blocks/2/2/_block_attention/_v_proj/bias/.OPTIMIZER_SLOT/optimizer/m/.ATTRIBUTES/VARIABLE_VALUE',\n",
       " 'layer_with_weights-0/_blocks/2/2/_block_attention/_v_proj/bias/.OPTIMIZER_SLOT/optimizer/v/.ATTRIBUTES/VARIABLE_VALUE',\n",
       " 'layer_with_weights-0/_blocks/2/2/_block_attention/_v_proj/weight/.ATTRIBUTES/VARIABLE_VALUE',\n",
       " 'layer_with_weights-0/_blocks/2/2/_block_attention/_v_proj/weight/.OPTIMIZER_SLOT/optimizer/m/.ATTRIBUTES/VARIABLE_VALUE',\n",
       " 'layer_with_weights-0/_blocks/2/2/_block_attention/_v_proj/weight/.OPTIMIZER_SLOT/optimizer/v/.ATTRIBUTES/VARIABLE_VALUE',\n",
       " 'layer_with_weights-0/_blocks/2/2/_block_attention/relative_bias/.ATTRIBUTES/VARIABLE_VALUE',\n",
       " 'layer_with_weights-0/_blocks/2/2/_block_attn_layer_norm/beta/.ATTRIBUTES/VARIABLE_VALUE',\n",
       " 'layer_with_weights-0/_blocks/2/2/_block_attn_layer_norm/beta/.OPTIMIZER_SLOT/optimizer/m/.ATTRIBUTES/VARIABLE_VALUE',\n",
       " 'layer_with_weights-0/_blocks/2/2/_block_attn_layer_norm/beta/.OPTIMIZER_SLOT/optimizer/v/.ATTRIBUTES/VARIABLE_VALUE',\n",
       " 'layer_with_weights-0/_blocks/2/2/_block_attn_layer_norm/gamma/.ATTRIBUTES/VARIABLE_VALUE',\n",
       " 'layer_with_weights-0/_blocks/2/2/_block_attn_layer_norm/gamma/.OPTIMIZER_SLOT/optimizer/m/.ATTRIBUTES/VARIABLE_VALUE',\n",
       " 'layer_with_weights-0/_blocks/2/2/_block_attn_layer_norm/gamma/.OPTIMIZER_SLOT/optimizer/v/.ATTRIBUTES/VARIABLE_VALUE',\n",
       " 'layer_with_weights-0/_blocks/2/2/_block_ffn/_expand_dense/bias/.ATTRIBUTES/VARIABLE_VALUE',\n",
       " 'layer_with_weights-0/_blocks/2/2/_block_ffn/_expand_dense/bias/.OPTIMIZER_SLOT/optimizer/m/.ATTRIBUTES/VARIABLE_VALUE',\n",
       " 'layer_with_weights-0/_blocks/2/2/_block_ffn/_expand_dense/bias/.OPTIMIZER_SLOT/optimizer/v/.ATTRIBUTES/VARIABLE_VALUE',\n",
       " 'layer_with_weights-0/_blocks/2/2/_block_ffn/_expand_dense/weight/.ATTRIBUTES/VARIABLE_VALUE',\n",
       " 'layer_with_weights-0/_blocks/2/2/_block_ffn/_expand_dense/weight/.OPTIMIZER_SLOT/optimizer/m/.ATTRIBUTES/VARIABLE_VALUE',\n",
       " 'layer_with_weights-0/_blocks/2/2/_block_ffn/_expand_dense/weight/.OPTIMIZER_SLOT/optimizer/v/.ATTRIBUTES/VARIABLE_VALUE',\n",
       " 'layer_with_weights-0/_blocks/2/2/_block_ffn/_shrink_dense/bias/.ATTRIBUTES/VARIABLE_VALUE',\n",
       " 'layer_with_weights-0/_blocks/2/2/_block_ffn/_shrink_dense/bias/.OPTIMIZER_SLOT/optimizer/m/.ATTRIBUTES/VARIABLE_VALUE',\n",
       " 'layer_with_weights-0/_blocks/2/2/_block_ffn/_shrink_dense/bias/.OPTIMIZER_SLOT/optimizer/v/.ATTRIBUTES/VARIABLE_VALUE',\n",
       " 'layer_with_weights-0/_blocks/2/2/_block_ffn/_shrink_dense/weight/.ATTRIBUTES/VARIABLE_VALUE',\n",
       " 'layer_with_weights-0/_blocks/2/2/_block_ffn/_shrink_dense/weight/.OPTIMIZER_SLOT/optimizer/m/.ATTRIBUTES/VARIABLE_VALUE',\n",
       " 'layer_with_weights-0/_blocks/2/2/_block_ffn/_shrink_dense/weight/.OPTIMIZER_SLOT/optimizer/v/.ATTRIBUTES/VARIABLE_VALUE',\n",
       " 'layer_with_weights-0/_blocks/2/2/_block_ffn_layer_norm/beta/.ATTRIBUTES/VARIABLE_VALUE',\n",
       " 'layer_with_weights-0/_blocks/2/2/_block_ffn_layer_norm/beta/.OPTIMIZER_SLOT/optimizer/m/.ATTRIBUTES/VARIABLE_VALUE',\n",
       " 'layer_with_weights-0/_blocks/2/2/_block_ffn_layer_norm/beta/.OPTIMIZER_SLOT/optimizer/v/.ATTRIBUTES/VARIABLE_VALUE',\n",
       " 'layer_with_weights-0/_blocks/2/2/_block_ffn_layer_norm/gamma/.ATTRIBUTES/VARIABLE_VALUE',\n",
       " 'layer_with_weights-0/_blocks/2/2/_block_ffn_layer_norm/gamma/.OPTIMIZER_SLOT/optimizer/m/.ATTRIBUTES/VARIABLE_VALUE',\n",
       " 'layer_with_weights-0/_blocks/2/2/_block_ffn_layer_norm/gamma/.OPTIMIZER_SLOT/optimizer/v/.ATTRIBUTES/VARIABLE_VALUE',\n",
       " 'layer_with_weights-0/_blocks/2/2/_grid_attention/_k_proj/bias/.ATTRIBUTES/VARIABLE_VALUE',\n",
       " 'layer_with_weights-0/_blocks/2/2/_grid_attention/_k_proj/bias/.OPTIMIZER_SLOT/optimizer/m/.ATTRIBUTES/VARIABLE_VALUE',\n",
       " 'layer_with_weights-0/_blocks/2/2/_grid_attention/_k_proj/bias/.OPTIMIZER_SLOT/optimizer/v/.ATTRIBUTES/VARIABLE_VALUE',\n",
       " 'layer_with_weights-0/_blocks/2/2/_grid_attention/_k_proj/weight/.ATTRIBUTES/VARIABLE_VALUE',\n",
       " 'layer_with_weights-0/_blocks/2/2/_grid_attention/_k_proj/weight/.OPTIMIZER_SLOT/optimizer/m/.ATTRIBUTES/VARIABLE_VALUE',\n",
       " 'layer_with_weights-0/_blocks/2/2/_grid_attention/_k_proj/weight/.OPTIMIZER_SLOT/optimizer/v/.ATTRIBUTES/VARIABLE_VALUE',\n",
       " 'layer_with_weights-0/_blocks/2/2/_grid_attention/_o_proj/bias/.ATTRIBUTES/VARIABLE_VALUE',\n",
       " 'layer_with_weights-0/_blocks/2/2/_grid_attention/_o_proj/bias/.OPTIMIZER_SLOT/optimizer/m/.ATTRIBUTES/VARIABLE_VALUE',\n",
       " 'layer_with_weights-0/_blocks/2/2/_grid_attention/_o_proj/bias/.OPTIMIZER_SLOT/optimizer/v/.ATTRIBUTES/VARIABLE_VALUE',\n",
       " 'layer_with_weights-0/_blocks/2/2/_grid_attention/_o_proj/weight/.ATTRIBUTES/VARIABLE_VALUE',\n",
       " 'layer_with_weights-0/_blocks/2/2/_grid_attention/_o_proj/weight/.OPTIMIZER_SLOT/optimizer/m/.ATTRIBUTES/VARIABLE_VALUE',\n",
       " 'layer_with_weights-0/_blocks/2/2/_grid_attention/_o_proj/weight/.OPTIMIZER_SLOT/optimizer/v/.ATTRIBUTES/VARIABLE_VALUE',\n",
       " 'layer_with_weights-0/_blocks/2/2/_grid_attention/_q_proj/bias/.ATTRIBUTES/VARIABLE_VALUE',\n",
       " 'layer_with_weights-0/_blocks/2/2/_grid_attention/_q_proj/bias/.OPTIMIZER_SLOT/optimizer/m/.ATTRIBUTES/VARIABLE_VALUE',\n",
       " 'layer_with_weights-0/_blocks/2/2/_grid_attention/_q_proj/bias/.OPTIMIZER_SLOT/optimizer/v/.ATTRIBUTES/VARIABLE_VALUE',\n",
       " 'layer_with_weights-0/_blocks/2/2/_grid_attention/_q_proj/weight/.ATTRIBUTES/VARIABLE_VALUE',\n",
       " 'layer_with_weights-0/_blocks/2/2/_grid_attention/_q_proj/weight/.OPTIMIZER_SLOT/optimizer/m/.ATTRIBUTES/VARIABLE_VALUE',\n",
       " 'layer_with_weights-0/_blocks/2/2/_grid_attention/_q_proj/weight/.OPTIMIZER_SLOT/optimizer/v/.ATTRIBUTES/VARIABLE_VALUE',\n",
       " 'layer_with_weights-0/_blocks/2/2/_grid_attention/_v_proj/bias/.ATTRIBUTES/VARIABLE_VALUE',\n",
       " 'layer_with_weights-0/_blocks/2/2/_grid_attention/_v_proj/bias/.OPTIMIZER_SLOT/optimizer/m/.ATTRIBUTES/VARIABLE_VALUE',\n",
       " 'layer_with_weights-0/_blocks/2/2/_grid_attention/_v_proj/bias/.OPTIMIZER_SLOT/optimizer/v/.ATTRIBUTES/VARIABLE_VALUE',\n",
       " 'layer_with_weights-0/_blocks/2/2/_grid_attention/_v_proj/weight/.ATTRIBUTES/VARIABLE_VALUE',\n",
       " 'layer_with_weights-0/_blocks/2/2/_grid_attention/_v_proj/weight/.OPTIMIZER_SLOT/optimizer/m/.ATTRIBUTES/VARIABLE_VALUE',\n",
       " 'layer_with_weights-0/_blocks/2/2/_grid_attention/_v_proj/weight/.OPTIMIZER_SLOT/optimizer/v/.ATTRIBUTES/VARIABLE_VALUE',\n",
       " 'layer_with_weights-0/_blocks/2/2/_grid_attention/relative_bias/.ATTRIBUTES/VARIABLE_VALUE',\n",
       " 'layer_with_weights-0/_blocks/2/2/_grid_attn_layer_norm/beta/.ATTRIBUTES/VARIABLE_VALUE',\n",
       " 'layer_with_weights-0/_blocks/2/2/_grid_attn_layer_norm/beta/.OPTIMIZER_SLOT/optimizer/m/.ATTRIBUTES/VARIABLE_VALUE',\n",
       " 'layer_with_weights-0/_blocks/2/2/_grid_attn_layer_norm/beta/.OPTIMIZER_SLOT/optimizer/v/.ATTRIBUTES/VARIABLE_VALUE',\n",
       " 'layer_with_weights-0/_blocks/2/2/_grid_attn_layer_norm/gamma/.ATTRIBUTES/VARIABLE_VALUE',\n",
       " 'layer_with_weights-0/_blocks/2/2/_grid_attn_layer_norm/gamma/.OPTIMIZER_SLOT/optimizer/m/.ATTRIBUTES/VARIABLE_VALUE',\n",
       " 'layer_with_weights-0/_blocks/2/2/_grid_attn_layer_norm/gamma/.OPTIMIZER_SLOT/optimizer/v/.ATTRIBUTES/VARIABLE_VALUE',\n",
       " 'layer_with_weights-0/_blocks/2/2/_grid_ffn/_expand_dense/bias/.ATTRIBUTES/VARIABLE_VALUE',\n",
       " 'layer_with_weights-0/_blocks/2/2/_grid_ffn/_expand_dense/bias/.OPTIMIZER_SLOT/optimizer/m/.ATTRIBUTES/VARIABLE_VALUE',\n",
       " 'layer_with_weights-0/_blocks/2/2/_grid_ffn/_expand_dense/bias/.OPTIMIZER_SLOT/optimizer/v/.ATTRIBUTES/VARIABLE_VALUE',\n",
       " 'layer_with_weights-0/_blocks/2/2/_grid_ffn/_expand_dense/weight/.ATTRIBUTES/VARIABLE_VALUE',\n",
       " 'layer_with_weights-0/_blocks/2/2/_grid_ffn/_expand_dense/weight/.OPTIMIZER_SLOT/optimizer/m/.ATTRIBUTES/VARIABLE_VALUE',\n",
       " 'layer_with_weights-0/_blocks/2/2/_grid_ffn/_expand_dense/weight/.OPTIMIZER_SLOT/optimizer/v/.ATTRIBUTES/VARIABLE_VALUE',\n",
       " 'layer_with_weights-0/_blocks/2/2/_grid_ffn/_shrink_dense/bias/.ATTRIBUTES/VARIABLE_VALUE',\n",
       " 'layer_with_weights-0/_blocks/2/2/_grid_ffn/_shrink_dense/bias/.OPTIMIZER_SLOT/optimizer/m/.ATTRIBUTES/VARIABLE_VALUE',\n",
       " 'layer_with_weights-0/_blocks/2/2/_grid_ffn/_shrink_dense/bias/.OPTIMIZER_SLOT/optimizer/v/.ATTRIBUTES/VARIABLE_VALUE',\n",
       " 'layer_with_weights-0/_blocks/2/2/_grid_ffn/_shrink_dense/weight/.ATTRIBUTES/VARIABLE_VALUE',\n",
       " 'layer_with_weights-0/_blocks/2/2/_grid_ffn/_shrink_dense/weight/.OPTIMIZER_SLOT/optimizer/m/.ATTRIBUTES/VARIABLE_VALUE',\n",
       " 'layer_with_weights-0/_blocks/2/2/_grid_ffn/_shrink_dense/weight/.OPTIMIZER_SLOT/optimizer/v/.ATTRIBUTES/VARIABLE_VALUE',\n",
       " 'layer_with_weights-0/_blocks/2/2/_grid_ffn_layer_norm/beta/.ATTRIBUTES/VARIABLE_VALUE',\n",
       " 'layer_with_weights-0/_blocks/2/2/_grid_ffn_layer_norm/beta/.OPTIMIZER_SLOT/optimizer/m/.ATTRIBUTES/VARIABLE_VALUE',\n",
       " 'layer_with_weights-0/_blocks/2/2/_grid_ffn_layer_norm/beta/.OPTIMIZER_SLOT/optimizer/v/.ATTRIBUTES/VARIABLE_VALUE',\n",
       " 'layer_with_weights-0/_blocks/2/2/_grid_ffn_layer_norm/gamma/.ATTRIBUTES/VARIABLE_VALUE',\n",
       " 'layer_with_weights-0/_blocks/2/2/_grid_ffn_layer_norm/gamma/.OPTIMIZER_SLOT/optimizer/m/.ATTRIBUTES/VARIABLE_VALUE',\n",
       " 'layer_with_weights-0/_blocks/2/2/_grid_ffn_layer_norm/gamma/.OPTIMIZER_SLOT/optimizer/v/.ATTRIBUTES/VARIABLE_VALUE',\n",
       " 'layer_with_weights-0/_blocks/2/2/_mbconv/_depthwise_conv/depthwise_kernel/.ATTRIBUTES/VARIABLE_VALUE',\n",
       " 'layer_with_weights-0/_blocks/2/2/_mbconv/_depthwise_conv/depthwise_kernel/.OPTIMIZER_SLOT/optimizer/m/.ATTRIBUTES/VARIABLE_VALUE',\n",
       " 'layer_with_weights-0/_blocks/2/2/_mbconv/_depthwise_conv/depthwise_kernel/.OPTIMIZER_SLOT/optimizer/v/.ATTRIBUTES/VARIABLE_VALUE',\n",
       " 'layer_with_weights-0/_blocks/2/2/_mbconv/_depthwise_norm/beta/.ATTRIBUTES/VARIABLE_VALUE',\n",
       " 'layer_with_weights-0/_blocks/2/2/_mbconv/_depthwise_norm/beta/.OPTIMIZER_SLOT/optimizer/m/.ATTRIBUTES/VARIABLE_VALUE',\n",
       " 'layer_with_weights-0/_blocks/2/2/_mbconv/_depthwise_norm/beta/.OPTIMIZER_SLOT/optimizer/v/.ATTRIBUTES/VARIABLE_VALUE',\n",
       " 'layer_with_weights-0/_blocks/2/2/_mbconv/_depthwise_norm/gamma/.ATTRIBUTES/VARIABLE_VALUE',\n",
       " 'layer_with_weights-0/_blocks/2/2/_mbconv/_depthwise_norm/gamma/.OPTIMIZER_SLOT/optimizer/m/.ATTRIBUTES/VARIABLE_VALUE',\n",
       " 'layer_with_weights-0/_blocks/2/2/_mbconv/_depthwise_norm/gamma/.OPTIMIZER_SLOT/optimizer/v/.ATTRIBUTES/VARIABLE_VALUE',\n",
       " 'layer_with_weights-0/_blocks/2/2/_mbconv/_depthwise_norm/moving_mean/.ATTRIBUTES/VARIABLE_VALUE',\n",
       " 'layer_with_weights-0/_blocks/2/2/_mbconv/_depthwise_norm/moving_variance/.ATTRIBUTES/VARIABLE_VALUE',\n",
       " 'layer_with_weights-0/_blocks/2/2/_mbconv/_expand_conv/kernel/.ATTRIBUTES/VARIABLE_VALUE',\n",
       " 'layer_with_weights-0/_blocks/2/2/_mbconv/_expand_conv/kernel/.OPTIMIZER_SLOT/optimizer/m/.ATTRIBUTES/VARIABLE_VALUE',\n",
       " ...]"
      ]
     },
     "execution_count": 9,
     "metadata": {},
     "output_type": "execute_result"
    }
   ],
   "source": [
    "# checkpoint reader\n",
    "reader = tf.train.load_checkpoint(checkpoint_path)\n",
    "\n",
    "shape_from_key = reader.get_variable_to_shape_map()\n",
    "dtype_from_key = reader.get_variable_to_dtype_map()\n",
    "\n",
    "sorted(shape_from_key.keys())"
   ]
  },
  {
   "cell_type": "code",
   "execution_count": 10,
   "id": "fe1d1af3",
   "metadata": {},
   "outputs": [
    {
     "name": "stderr",
     "output_type": "stream",
     "text": [
      "WARNING:root:Crop size and final size are similar: skipping resizing and cropping directly to resize_size (ignoring crop_size)\n"
     ]
    },
    {
     "name": "stdout",
     "output_type": "stream",
     "text": [
      "WARNING:tensorflow:Using a while_loop for converting RngReadAndSkip cause there is no registered converter for this op.\n"
     ]
    },
    {
     "name": "stderr",
     "output_type": "stream",
     "text": [
      "WARNING:tensorflow:Using a while_loop for converting RngReadAndSkip cause there is no registered converter for this op.\n"
     ]
    },
    {
     "name": "stdout",
     "output_type": "stream",
     "text": [
      "WARNING:tensorflow:Using a while_loop for converting Bitcast cause there is no registered converter for this op.\n"
     ]
    },
    {
     "name": "stderr",
     "output_type": "stream",
     "text": [
      "WARNING:tensorflow:Using a while_loop for converting Bitcast cause there is no registered converter for this op.\n"
     ]
    },
    {
     "name": "stdout",
     "output_type": "stream",
     "text": [
      "WARNING:tensorflow:Using a while_loop for converting Bitcast cause there is no registered converter for this op.\n"
     ]
    },
    {
     "name": "stderr",
     "output_type": "stream",
     "text": [
      "WARNING:tensorflow:Using a while_loop for converting Bitcast cause there is no registered converter for this op.\n"
     ]
    },
    {
     "name": "stdout",
     "output_type": "stream",
     "text": [
      "WARNING:tensorflow:Using a while_loop for converting StatelessRandomUniformV2 cause there is no registered converter for this op.\n"
     ]
    },
    {
     "name": "stderr",
     "output_type": "stream",
     "text": [
      "WARNING:tensorflow:Using a while_loop for converting StatelessRandomUniformV2 cause there is no registered converter for this op.\n"
     ]
    },
    {
     "name": "stdout",
     "output_type": "stream",
     "text": [
      "WARNING:tensorflow:Using a while_loop for converting ImageProjectiveTransformV3 cause there is no registered converter for this op.\n"
     ]
    },
    {
     "name": "stderr",
     "output_type": "stream",
     "text": [
      "WARNING:tensorflow:Using a while_loop for converting ImageProjectiveTransformV3 cause there is no registered converter for this op.\n"
     ]
    },
    {
     "name": "stdout",
     "output_type": "stream",
     "text": [
      "WARNING:tensorflow:Using a while_loop for converting RngReadAndSkip cause there is no registered converter for this op.\n"
     ]
    },
    {
     "name": "stderr",
     "output_type": "stream",
     "text": [
      "WARNING:tensorflow:Using a while_loop for converting RngReadAndSkip cause there is no registered converter for this op.\n"
     ]
    },
    {
     "name": "stdout",
     "output_type": "stream",
     "text": [
      "WARNING:tensorflow:Using a while_loop for converting Bitcast cause there is no registered converter for this op.\n"
     ]
    },
    {
     "name": "stderr",
     "output_type": "stream",
     "text": [
      "WARNING:tensorflow:Using a while_loop for converting Bitcast cause there is no registered converter for this op.\n"
     ]
    },
    {
     "name": "stdout",
     "output_type": "stream",
     "text": [
      "WARNING:tensorflow:Using a while_loop for converting Bitcast cause there is no registered converter for this op.\n"
     ]
    },
    {
     "name": "stderr",
     "output_type": "stream",
     "text": [
      "WARNING:tensorflow:Using a while_loop for converting Bitcast cause there is no registered converter for this op.\n"
     ]
    },
    {
     "name": "stdout",
     "output_type": "stream",
     "text": [
      "WARNING:tensorflow:Using a while_loop for converting StatelessRandomUniformIntV2 cause there is no registered converter for this op.\n"
     ]
    },
    {
     "name": "stderr",
     "output_type": "stream",
     "text": [
      "WARNING:tensorflow:Using a while_loop for converting StatelessRandomUniformIntV2 cause there is no registered converter for this op.\n",
      "WARNING:root:Using MaxVIT\n"
     ]
    }
   ],
   "source": [
    "model = define_model.get_model(34, 300, 224, 224, maxvit_name='MaxViTTiny', use_effnet=False)"
   ]
  },
  {
   "cell_type": "code",
   "execution_count": 11,
   "id": "98b4704a",
   "metadata": {},
   "outputs": [
    {
     "data": {
      "text/plain": [
       "<tensorflow.python.checkpoint.checkpoint.CheckpointLoadStatus at 0x1b5633370>"
      ]
     },
     "execution_count": 11,
     "metadata": {},
     "output_type": "execute_result"
    }
   ],
   "source": [
    "model.load_weights(checkpoint_path).expect_partial()"
   ]
  },
  {
   "cell_type": "code",
   "execution_count": 12,
   "id": "0cdbece4",
   "metadata": {},
   "outputs": [
    {
     "name": "stdout",
     "output_type": "stream",
     "text": [
      "Model: \"sequential\"\n",
      "_________________________________________________________________\n",
      " Layer (type)                Output Shape              Param #   \n",
      "=================================================================\n",
      " perma_random_rotation (Perm  (None, 300, 300, 1)      0         \n",
      " aRandomRotation)                                                \n",
      "                                                                 \n",
      " perma_random_flip (PermaRan  (None, 300, 300, 1)      0         \n",
      " domFlip)                                                        \n",
      "                                                                 \n",
      " perma_random_crop (PermaRan  (None, 224, 224, 1)      0         \n",
      " domCrop)                                                        \n",
      "                                                                 \n",
      " maxvit (MaxViT)             (None, 1280)              31106632  \n",
      "                                                                 \n",
      " top_dropout (PermaDropout)  (None, 1280)              0         \n",
      "                                                                 \n",
      " dense (Dense)               (None, 34)                43554     \n",
      "                                                                 \n",
      "=================================================================\n",
      "Total params: 31,150,187\n",
      "Trainable params: 31,102,570\n",
      "Non-trainable params: 47,617\n",
      "_________________________________________________________________\n"
     ]
    }
   ],
   "source": [
    "model.summary()"
   ]
  },
  {
   "cell_type": "code",
   "execution_count": null,
   "id": "69d546d6",
   "metadata": {},
   "outputs": [],
   "source": []
  },
  {
   "cell_type": "code",
   "execution_count": 14,
   "id": "89cfaa07",
   "metadata": {},
   "outputs": [],
   "source": [
    "from zoobot.tensorflow.predictions import predict_on_dataset\n",
    "from zoobot.tensorflow.data_utils.image_datasets import get_image_dataset"
   ]
  },
  {
   "cell_type": "code",
   "execution_count": 15,
   "id": "382511cb",
   "metadata": {},
   "outputs": [],
   "source": [
    "paths = canonical_train_catalog.sample(100).reset_index(drop=True)['file_loc']\n"
   ]
  },
  {
   "cell_type": "code",
   "execution_count": 16,
   "id": "e9dd3db8",
   "metadata": {},
   "outputs": [],
   "source": [
    "initial_size = 300\n",
    "batch_size = 4"
   ]
  },
  {
   "cell_type": "code",
   "execution_count": 17,
   "id": "b8d17075",
   "metadata": {},
   "outputs": [
    {
     "name": "stderr",
     "output_type": "stream",
     "text": [
      "WARNING:root:Resizing images from disk size 424 to requested size 300\n"
     ]
    }
   ],
   "source": [
    "# Load the images as a tf.data.Dataset, just as for training\n",
    "\n",
    "raw_image_ds = get_image_dataset(paths, 'jpg', initial_size, batch_size)"
   ]
  },
  {
   "cell_type": "code",
   "execution_count": 18,
   "id": "df4e4933",
   "metadata": {},
   "outputs": [
    {
     "name": "stdout",
     "output_type": "stream",
     "text": [
      "(4, 300, 300, 3)\n"
     ]
    }
   ],
   "source": [
    "for batch in raw_image_ds.take(1):\n",
    "    print(batch['matrix'].numpy().shape)\n",
    "#     print(images.shape, labels.shape)"
   ]
  },
  {
   "cell_type": "code",
   "execution_count": 19,
   "id": "29ec5dd5",
   "metadata": {},
   "outputs": [],
   "source": [
    "from zoobot.tensorflow.estimators import preprocess"
   ]
  },
  {
   "cell_type": "code",
   "execution_count": 20,
   "id": "205447ff",
   "metadata": {},
   "outputs": [
    {
     "name": "stdout",
     "output_type": "stream",
     "text": [
      "WARNING:tensorflow:AutoGraph could not transform <bound method Socket.send of <zmq.Socket(zmq.PUSH) at 0x1124539a0>> and will run it as-is.\n",
      "Please report this to the TensorFlow team. When filing the bug, set the verbosity to 10 (on Linux, `export AUTOGRAPH_VERBOSITY=10`) and attach the full output.\n",
      "Cause: module, class, method, function, traceback, frame, or code object was expected, got cython_function_or_method\n",
      "To silence this warning, decorate the function with @tf.autograph.experimental.do_not_convert\n"
     ]
    },
    {
     "name": "stderr",
     "output_type": "stream",
     "text": [
      "WARNING:root:No labels requested, returning id_str as labels\n",
      "WARNING:tensorflow:AutoGraph could not transform <bound method Socket.send of <zmq.Socket(zmq.PUSH) at 0x1124539a0>> and will run it as-is.\n",
      "Please report this to the TensorFlow team. When filing the bug, set the verbosity to 10 (on Linux, `export AUTOGRAPH_VERBOSITY=10`) and attach the full output.\n",
      "Cause: module, class, method, function, traceback, frame, or code object was expected, got cython_function_or_method\n",
      "To silence this warning, decorate the function with @tf.autograph.experimental.do_not_convert\n"
     ]
    },
    {
     "name": "stdout",
     "output_type": "stream",
     "text": [
      "WARNING: AutoGraph could not transform <bound method Socket.send of <zmq.Socket(zmq.PUSH) at 0x1124539a0>> and will run it as-is.\n",
      "Please report this to the TensorFlow team. When filing the bug, set the verbosity to 10 (on Linux, `export AUTOGRAPH_VERBOSITY=10`) and attach the full output.\n",
      "Cause: module, class, method, function, traceback, frame, or code object was expected, got cython_function_or_method\n",
      "To silence this warning, decorate the function with @tf.autograph.experimental.do_not_convert\n"
     ]
    }
   ],
   "source": [
    "preprocessing_config = preprocess.PreprocessingConfig(label_cols=[], \n",
    "                                                      input_size=initial_size, \n",
    "                                                      make_greyscale=True)\n",
    "\n",
    "image_ds = preprocess.preprocess_dataset(raw_image_ds, preprocessing_config)"
   ]
  },
  {
   "cell_type": "code",
   "execution_count": 27,
   "id": "a44db8fd",
   "metadata": {},
   "outputs": [],
   "source": [
    "answer_strs = [answer.text for answer in schema.answers]"
   ]
  },
  {
   "cell_type": "code",
   "execution_count": 21,
   "id": "65d20321",
   "metadata": {},
   "outputs": [
    {
     "name": "stdout",
     "output_type": "stream",
     "text": [
      "(4, 300, 300, 1)\n"
     ]
    }
   ],
   "source": [
    "for images, labels in image_ds.take(1):\n",
    "    print(images.numpy().shape)\n",
    "#     print(images.shape, labels.shape)"
   ]
  },
  {
   "cell_type": "code",
   "execution_count": 22,
   "id": "65c18272",
   "metadata": {
    "scrolled": false
   },
   "outputs": [
    {
     "name": "stdout",
     "output_type": "stream",
     "text": [
      "WARNING:tensorflow:Using a while_loop for converting RngReadAndSkip cause there is no registered converter for this op.\n"
     ]
    },
    {
     "name": "stderr",
     "output_type": "stream",
     "text": [
      "WARNING:tensorflow:Using a while_loop for converting RngReadAndSkip cause there is no registered converter for this op.\n"
     ]
    },
    {
     "name": "stdout",
     "output_type": "stream",
     "text": [
      "WARNING:tensorflow:Using a while_loop for converting Bitcast cause there is no registered converter for this op.\n"
     ]
    },
    {
     "name": "stderr",
     "output_type": "stream",
     "text": [
      "WARNING:tensorflow:Using a while_loop for converting Bitcast cause there is no registered converter for this op.\n"
     ]
    },
    {
     "name": "stdout",
     "output_type": "stream",
     "text": [
      "WARNING:tensorflow:Using a while_loop for converting Bitcast cause there is no registered converter for this op.\n"
     ]
    },
    {
     "name": "stderr",
     "output_type": "stream",
     "text": [
      "WARNING:tensorflow:Using a while_loop for converting Bitcast cause there is no registered converter for this op.\n"
     ]
    },
    {
     "name": "stdout",
     "output_type": "stream",
     "text": [
      "WARNING:tensorflow:Using a while_loop for converting StatelessRandomUniformV2 cause there is no registered converter for this op.\n"
     ]
    },
    {
     "name": "stderr",
     "output_type": "stream",
     "text": [
      "WARNING:tensorflow:Using a while_loop for converting StatelessRandomUniformV2 cause there is no registered converter for this op.\n"
     ]
    },
    {
     "name": "stdout",
     "output_type": "stream",
     "text": [
      "WARNING:tensorflow:Using a while_loop for converting ImageProjectiveTransformV3 cause there is no registered converter for this op.\n"
     ]
    },
    {
     "name": "stderr",
     "output_type": "stream",
     "text": [
      "WARNING:tensorflow:Using a while_loop for converting ImageProjectiveTransformV3 cause there is no registered converter for this op.\n"
     ]
    },
    {
     "name": "stdout",
     "output_type": "stream",
     "text": [
      "WARNING:tensorflow:Using a while_loop for converting RngReadAndSkip cause there is no registered converter for this op.\n"
     ]
    },
    {
     "name": "stderr",
     "output_type": "stream",
     "text": [
      "WARNING:tensorflow:Using a while_loop for converting RngReadAndSkip cause there is no registered converter for this op.\n"
     ]
    },
    {
     "name": "stdout",
     "output_type": "stream",
     "text": [
      "WARNING:tensorflow:Using a while_loop for converting Bitcast cause there is no registered converter for this op.\n"
     ]
    },
    {
     "name": "stderr",
     "output_type": "stream",
     "text": [
      "WARNING:tensorflow:Using a while_loop for converting Bitcast cause there is no registered converter for this op.\n"
     ]
    },
    {
     "name": "stdout",
     "output_type": "stream",
     "text": [
      "WARNING:tensorflow:Using a while_loop for converting Bitcast cause there is no registered converter for this op.\n"
     ]
    },
    {
     "name": "stderr",
     "output_type": "stream",
     "text": [
      "WARNING:tensorflow:Using a while_loop for converting Bitcast cause there is no registered converter for this op.\n"
     ]
    },
    {
     "name": "stdout",
     "output_type": "stream",
     "text": [
      "WARNING:tensorflow:Using a while_loop for converting StatelessRandomUniformIntV2 cause there is no registered converter for this op.\n"
     ]
    },
    {
     "name": "stderr",
     "output_type": "stream",
     "text": [
      "WARNING:tensorflow:Using a while_loop for converting StatelessRandomUniformIntV2 cause there is no registered converter for this op.\n",
      "2022-10-21 11:24:19.947308: W tensorflow/core/grappler/optimizers/loop_optimizer.cc:907] Skipping loop optimization for Merge node with control input: sequential/perma_random_crop/loop_body/cond/branch_executed/_256\n"
     ]
    },
    {
     "name": "stdout",
     "output_type": "stream",
     "text": [
      "25/25 [==============================] - 28s 885ms/step\n"
     ]
    }
   ],
   "source": [
    "# Finally predict\n",
    "preds, ids = predict_on_dataset.predict(\n",
    "    ds=image_ds,\n",
    "    model=model,\n",
    "    n_samples=1,  # number of dropout forward passes\n",
    "    label_cols=answer_strs,  # used for output csv header only\n",
    "    save_loc='./vit_2xgpu_lowadam/prediction_output.csv'\n",
    ")"
   ]
  },
  {
   "cell_type": "code",
   "execution_count": 24,
   "id": "26002c39",
   "metadata": {},
   "outputs": [
    {
     "data": {
      "text/plain": [
       "(100, 34, 1)"
      ]
     },
     "execution_count": 24,
     "metadata": {},
     "output_type": "execute_result"
    }
   ],
   "source": [
    "preds.shape"
   ]
  },
  {
   "cell_type": "code",
   "execution_count": 28,
   "id": "d9ff7742",
   "metadata": {},
   "outputs": [
    {
     "data": {
      "text/plain": [
       "['smooth-or-featured-dr5_smooth',\n",
       " 'smooth-or-featured-dr5_featured-or-disk',\n",
       " 'smooth-or-featured-dr5_artifact']"
      ]
     },
     "execution_count": 28,
     "metadata": {},
     "output_type": "execute_result"
    }
   ],
   "source": [
    "answer_strs[:3]"
   ]
  },
  {
   "cell_type": "code",
   "execution_count": 26,
   "id": "cd468ce4",
   "metadata": {},
   "outputs": [
    {
     "data": {
      "text/plain": [
       "array([[ 6.62341  ,  2.5621195,  3.867976 ],\n",
       "       [65.290985 ,  6.706959 ,  7.336084 ],\n",
       "       [23.132849 ,  5.670578 ,  1.8219006],\n",
       "       [13.310388 ,  7.86274  ,  1.5656048],\n",
       "       [33.754642 ,  7.0516315,  2.341342 ],\n",
       "       [ 2.8688004, 18.43005  ,  1.1450509],\n",
       "       [77.10675  ,  5.180824 ,  6.7365575],\n",
       "       [42.9265   , 11.399221 ,  2.5153685],\n",
       "       [ 4.6653786, 11.475128 ,  1.3260076],\n",
       "       [ 9.682583 ,  8.776474 ,  1.639996 ]], dtype=float32)"
      ]
     },
     "execution_count": 26,
     "metadata": {},
     "output_type": "execute_result"
    }
   ],
   "source": [
    "preds[:10,:3,0]"
   ]
  },
  {
   "cell_type": "code",
   "execution_count": 43,
   "id": "822251fa",
   "metadata": {},
   "outputs": [
    {
     "data": {
      "text/plain": [
       "'/Users/nicolasgalvarinoguerravaras/Documents/AstroHackWeek2022/zoo_data/images/J123/J123915.53+095514.8.jpg'"
      ]
     },
     "execution_count": 43,
     "metadata": {},
     "output_type": "execute_result"
    }
   ],
   "source": [
    "ids[1]"
   ]
  },
  {
   "cell_type": "code",
   "execution_count": 38,
   "id": "7fc4254d",
   "metadata": {},
   "outputs": [
    {
     "data": {
      "text/plain": [
       "'/Users/nicolasgalvarinoguerravaras/Documents/AstroHackWeek2022/zoo_data/images/J003/J003807.42-023132.5.jpg'"
      ]
     },
     "execution_count": 38,
     "metadata": {},
     "output_type": "execute_result"
    }
   ],
   "source": [
    "ids[5]"
   ]
  },
  {
   "cell_type": "code",
   "execution_count": 31,
   "id": "373322da",
   "metadata": {},
   "outputs": [],
   "source": [
    "from PIL import Image"
   ]
  },
  {
   "cell_type": "code",
   "execution_count": 35,
   "id": "5fb363e9",
   "metadata": {},
   "outputs": [],
   "source": [
    "galaxy_id = 5"
   ]
  },
  {
   "cell_type": "code",
   "execution_count": 41,
   "id": "7acbd2c5",
   "metadata": {},
   "outputs": [],
   "source": [
    "featured = 5\n",
    "Image.open(ids[featured]).show()"
   ]
  },
  {
   "cell_type": "code",
   "execution_count": 42,
   "id": "408ded1a",
   "metadata": {},
   "outputs": [],
   "source": [
    "smooth = 1\n",
    "Image.open(ids[smooth]).show()"
   ]
  },
  {
   "cell_type": "code",
   "execution_count": 37,
   "id": "3197500d",
   "metadata": {},
   "outputs": [
    {
     "data": {
      "text/plain": [
       "0.12782094"
      ]
     },
     "execution_count": 37,
     "metadata": {},
     "output_type": "execute_result"
    }
   ],
   "source": [
    "galaxy = preds[galaxy_id, :, 0]\n",
    "galaxy[0] / galaxy[:3].sum()"
   ]
  },
  {
   "cell_type": "code",
   "execution_count": null,
   "id": "8d564d4e",
   "metadata": {},
   "outputs": [],
   "source": []
  }
 ],
 "metadata": {
  "kernelspec": {
   "display_name": "Python 3 (ipykernel)",
   "language": "python",
   "name": "python3"
  },
  "language_info": {
   "codemirror_mode": {
    "name": "ipython",
    "version": 3
   },
   "file_extension": ".py",
   "mimetype": "text/x-python",
   "name": "python",
   "nbconvert_exporter": "python",
   "pygments_lexer": "ipython3",
   "version": "3.8.13"
  },
  "toc": {
   "base_numbering": 1,
   "nav_menu": {},
   "number_sections": true,
   "sideBar": true,
   "skip_h1_title": true,
   "title_cell": "Table of Contents",
   "title_sidebar": "Contents",
   "toc_cell": true,
   "toc_position": {},
   "toc_section_display": true,
   "toc_window_display": true
  }
 },
 "nbformat": 4,
 "nbformat_minor": 5
}
