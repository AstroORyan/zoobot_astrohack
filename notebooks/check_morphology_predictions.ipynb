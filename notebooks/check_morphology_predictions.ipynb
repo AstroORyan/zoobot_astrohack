{
 "cells": [
  {
   "cell_type": "code",
   "execution_count": 1,
   "metadata": {},
   "outputs": [],
   "source": [
    "%load_ext autoreload\n",
    "%autoreload 2\n",
    "%matplotlib inline"
   ]
  },
  {
   "cell_type": "code",
   "execution_count": 4,
   "metadata": {},
   "outputs": [
    {
     "ename": "ModuleNotFoundError",
     "evalue": "No module named 'zoobot'",
     "output_type": "error",
     "traceback": [
      "\u001b[0;31m---------------------------------------------------------------------------\u001b[0m",
      "\u001b[0;31mModuleNotFoundError\u001b[0m                       Traceback (most recent call last)",
      "\u001b[0;32m/var/folders/2q/fk_d086d491d4s0_77hjfgzw0000gp/T/ipykernel_2458/1292342290.py\u001b[0m in \u001b[0;36m<module>\u001b[0;34m\u001b[0m\n\u001b[1;32m     24\u001b[0m \u001b[0;31m# from zoobot.active_learning import metrics, simulated_metrics, acquisition_utils, check_uncertainty, simulation_timeline, run_estimator_config\u001b[0m\u001b[0;34m\u001b[0m\u001b[0;34m\u001b[0m\u001b[0;34m\u001b[0m\u001b[0m\n\u001b[1;32m     25\u001b[0m \u001b[0;31m# from zoobot.active_learning import acquisition_utils\u001b[0m\u001b[0;34m\u001b[0m\u001b[0;34m\u001b[0m\u001b[0;34m\u001b[0m\u001b[0m\n\u001b[0;32m---> 26\u001b[0;31m \u001b[0;32mfrom\u001b[0m \u001b[0mzoobot\u001b[0m \u001b[0;32mimport\u001b[0m \u001b[0mlabel_metadata\u001b[0m\u001b[0;34m\u001b[0m\u001b[0;34m\u001b[0m\u001b[0m\n\u001b[0m",
      "\u001b[0;31mModuleNotFoundError\u001b[0m: No module named 'zoobot'"
     ]
    }
   ],
   "source": [
    "import os\n",
    "import logging\n",
    "import glob\n",
    "import json\n",
    "\n",
    "import numpy as np\n",
    "import matplotlib.pyplot as plt\n",
    "# from matplotlib.ticker import StrMethodFormatter\n",
    "# import matplotlib.gridspec as gridspec\n",
    "import seaborn as sns\n",
    "from PIL import Image\n",
    "\n",
    "import pandas as pd\n",
    "\n",
    "# from sklearn import metrics\n",
    "# from sklearn.metrics import confusion_matrix, plot_confusion_matrix, roc_curve, mean_squared_error, mean_absolute_error\n",
    "import tensorflow as tf\n",
    "\n",
    "# from zoobot.estimators import make_predictions, bayesian_estimator_funcs\n",
    "# from zoobot.tfrecord import read_tfrecord\n",
    "# from zoobot.uncertainty import discrete_coverage\n",
    "# from zoobot.estimators import input_utils, losses, dirichlet_stats\n",
    "# from zoobot.tfrecord import catalog_to_tfrecord\n",
    "# from zoobot.active_learning import metrics, simulated_metrics, acquisition_utils, check_uncertainty, simulation_timeline, run_estimator_config\n",
    "# from zoobot.active_learning import acquisition_utils\n",
    "# from zoobot import label_metadata\n"
   ]
  },
  {
   "cell_type": "code",
   "execution_count": 3,
   "metadata": {},
   "outputs": [
    {
     "ename": "NameError",
     "evalue": "name 'label_metadata' is not defined",
     "output_type": "error",
     "traceback": [
      "\u001b[0;31m---------------------------------------------------------------------------\u001b[0m",
      "\u001b[0;31mNameError\u001b[0m                                 Traceback (most recent call last)",
      "\u001b[0;32m/var/folders/2q/fk_d086d491d4s0_77hjfgzw0000gp/T/ipykernel_2458/1997667127.py\u001b[0m in \u001b[0;36m<module>\u001b[0;34m\u001b[0m\n\u001b[0;32m----> 1\u001b[0;31m \u001b[0mquestions\u001b[0m \u001b[0;34m=\u001b[0m \u001b[0mlabel_metadata\u001b[0m\u001b[0;34m.\u001b[0m\u001b[0mdecals_questions\u001b[0m\u001b[0;34m\u001b[0m\u001b[0;34m\u001b[0m\u001b[0m\n\u001b[0m\u001b[1;32m      2\u001b[0m \u001b[0mlabel_cols\u001b[0m \u001b[0;34m=\u001b[0m \u001b[0mlabel_metadata\u001b[0m\u001b[0;34m.\u001b[0m\u001b[0mdecals_label_cols\u001b[0m\u001b[0;34m\u001b[0m\u001b[0;34m\u001b[0m\u001b[0m\n\u001b[1;32m      3\u001b[0m \u001b[0mversion\u001b[0m \u001b[0;34m=\u001b[0m \u001b[0;34m'decals'\u001b[0m\u001b[0;34m\u001b[0m\u001b[0;34m\u001b[0m\u001b[0m\n\u001b[1;32m      4\u001b[0m \u001b[0;34m\u001b[0m\u001b[0m\n\u001b[1;32m      5\u001b[0m \u001b[0mschema\u001b[0m \u001b[0;34m=\u001b[0m \u001b[0mlosses\u001b[0m\u001b[0;34m.\u001b[0m\u001b[0mSchema\u001b[0m\u001b[0;34m(\u001b[0m\u001b[0mlabel_cols\u001b[0m\u001b[0;34m,\u001b[0m \u001b[0mquestions\u001b[0m\u001b[0;34m,\u001b[0m \u001b[0mversion\u001b[0m\u001b[0;34m=\u001b[0m\u001b[0mversion\u001b[0m\u001b[0;34m)\u001b[0m\u001b[0;34m\u001b[0m\u001b[0;34m\u001b[0m\u001b[0m\n",
      "\u001b[0;31mNameError\u001b[0m: name 'label_metadata' is not defined"
     ]
    }
   ],
   "source": [
    "questions = label_metadata.decals_questions\n",
    "label_cols = label_metadata.decals_label_cols\n",
    "version = 'decals'\n",
    "\n",
    "schema = losses.Schema(label_cols, questions, version=version)\n",
    "schema.questions"
   ]
  },
  {
   "cell_type": "code",
   "execution_count": null,
   "metadata": {},
   "outputs": [],
   "source": [
    "\n",
    "# previously shared in draft paper\n",
    "# predictions_loc = 'results/temp/decals_n2_allq_m0_all.csv'\n",
    "# eval_loc = 'results/temp/decals_n2_allq_m0_eval_shards/eval_df.csv'\n",
    "\n",
    "eval_loc = 'results/decals_dr_full_eval_df.csv'\n",
    "eval_df = pd.read_csv(eval_loc)\n",
    "eval_df['local_png_loc'] = eval_df['local_png_loc'].apply(lambda x: x.replace('/data/phys-zooniverse/chri5177', '/media/walml/beta/decals'))\n",
    "# eval_df doesn't include total-votes, add it\n",
    "for question in schema.questions:\n",
    "    eval_df[question.text + '_total-votes'] = np.array([eval_df[answer.text].values for answer in question.answers]).sum(axis=0)\n",
    "\n",
    "# one model\n",
    "# predictions_loc = 'results/decals_dr_full_m0_eval_predictions.csv'  # .1-20\n",
    "# predictions = pd.read_csv(predictions_loc)\n",
    "# samples = dirichlet_stats.load_all_concentrations(eval_predictions, concentration_cols=[a.text + '_concentration' for a in schema.answers])\n",
    "\n",
    "# several models (ensemble)\n",
    "samples = []\n",
    "predictions_locs = [f'results/decals_dr_full_m{n}_eval_predictions.csv' for n in range(3)]  # 0, 1, 2\n",
    "for predictions_loc in predictions_locs:\n",
    "    predictions = pd.read_csv(predictions_loc)\n",
    "    # filter to eval\n",
    "    eval_predictions = predictions[predictions['iauname'].isin(eval_df['id_str'])]\n",
    "    print(len(eval_predictions))\n",
    "    model_samples = dirichlet_stats.load_all_concentrations(eval_predictions, concentration_cols=[a.text + '_concentration' for a in schema.answers])\n",
    "    samples.append(model_samples)\n",
    "samples = np.concatenate(samples, axis=2)  # must be same iaunames, sorted\n",
    "\n",
    "print(samples.shape)\n",
    "\n"
   ]
  },
  {
   "cell_type": "code",
   "execution_count": null,
   "metadata": {},
   "outputs": [],
   "source": [
    "is_retired = eval_predictions['smooth-or-featured_total-votes'] > 34\n",
    "retired = eval_predictions[is_retired]\n",
    "retired['file_loc'] = retired['local_png_loc'].apply(lambda x: '/media/walml/beta/decals' + x.replace('/data/phys-zooniverse/chri5177', ''))\n",
    "retired_samples = samples[is_retired]\n"
   ]
  },
  {
   "cell_type": "code",
   "execution_count": null,
   "metadata": {},
   "outputs": [],
   "source": [
    "predicted_fractions = dirichlet_stats.dirichlet_prob_of_answers(retired_samples, schema, temperature=None)"
   ]
  }
 ],
 "metadata": {
  "kernelspec": {
   "display_name": "Python 3 (ipykernel)",
   "language": "python",
   "name": "python3"
  },
  "language_info": {
   "codemirror_mode": {
    "name": "ipython",
    "version": 3
   },
   "file_extension": ".py",
   "mimetype": "text/x-python",
   "name": "python",
   "nbconvert_exporter": "python",
   "pygments_lexer": "ipython3",
   "version": "3.8.10"
  }
 },
 "nbformat": 4,
 "nbformat_minor": 4
}
